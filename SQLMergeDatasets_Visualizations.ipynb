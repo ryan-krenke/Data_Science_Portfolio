{
 "cells": [
  {
   "cell_type": "markdown",
   "id": "decc842d",
   "metadata": {},
   "source": [
    "# Milestone 5\n",
    "# DSC540-T303\n",
    "# Ryan Krenke\n",
    "# 05/23/24"
   ]
  },
  {
   "cell_type": "markdown",
   "id": "8568082b",
   "metadata": {},
   "source": [
    "## Merging the datasets with SQL and creating visualizations"
   ]
  },
  {
   "cell_type": "code",
   "execution_count": 28,
   "id": "5d9f8a4a",
   "metadata": {},
   "outputs": [],
   "source": [
    "import pandas as pd"
   ]
  },
  {
   "cell_type": "code",
   "execution_count": 29,
   "id": "ce049856",
   "metadata": {},
   "outputs": [],
   "source": [
    "import sqlite3"
   ]
  },
  {
   "cell_type": "code",
   "execution_count": 30,
   "id": "abea511c",
   "metadata": {},
   "outputs": [],
   "source": [
    "import csv"
   ]
  },
  {
   "cell_type": "markdown",
   "id": "fbcb29d4",
   "metadata": {},
   "source": [
    "### Adding data to SQL database"
   ]
  },
  {
   "cell_type": "code",
   "execution_count": 141,
   "id": "6ed83f83",
   "metadata": {},
   "outputs": [],
   "source": [
    "#creating the database connection\n",
    "with sqlite3.connect(\"C:/Users/ryanr/dsc540/airasthma.db\") as conn:\n",
    "    cursor = conn.cursor()"
   ]
  },
  {
   "cell_type": "markdown",
   "id": "f82ca92d",
   "metadata": {},
   "source": [
    "Note: I did not get errors creating the tables initially. I think I tried to re-do it so many times that it locked up - I'm not really sure. See below I created a 2nd database.  "
   ]
  },
  {
   "cell_type": "code",
   "execution_count": 142,
   "id": "1d4c9742",
   "metadata": {},
   "outputs": [
    {
     "ename": "OperationalError",
     "evalue": "database is locked",
     "output_type": "error",
     "traceback": [
      "\u001b[1;31m---------------------------------------------------------------------------\u001b[0m",
      "\u001b[1;31mOperationalError\u001b[0m                          Traceback (most recent call last)",
      "Cell \u001b[1;32mIn[142], line 1\u001b[0m\n\u001b[1;32m----> 1\u001b[0m cursor\u001b[38;5;241m.\u001b[39mexecute(\u001b[38;5;124m\"\u001b[39m\u001b[38;5;124mCREATE TABLE air1 (State_Code  integer, Site_Num  integer, Parameter_Code  integer, Latitude  float, Longitude  float, Parameter  text, Units_of_Measure  text, Observation_Count  integer, Observation_Percent  integer, State_Name  text)\u001b[39m\u001b[38;5;124m\"\u001b[39m)\n",
      "\u001b[1;31mOperationalError\u001b[0m: database is locked"
     ]
    }
   ],
   "source": [
    "#creating first table with air4 csv data\n",
    "cursor.execute(\"CREATE TABLE air1 (State_Code  integer, Site_Num  integer, Parameter_Code  integer, Latitude  float, Longitude  float, Parameter  text, Units_of_Measure  text, Observation_Count  integer, Observation_Percent  integer, State_Name  text)\")"
   ]
  },
  {
   "cell_type": "code",
   "execution_count": null,
   "id": "254a3575",
   "metadata": {},
   "outputs": [],
   "source": [
    "#opening csv and contents into variable\n",
    "file1 = open(\"C:/Users/ryanr/dsc540/air4.csv\")\n",
    "contents1 = csv.reader(file1)"
   ]
  },
  {
   "cell_type": "code",
   "execution_count": null,
   "id": "497fa8e2",
   "metadata": {},
   "outputs": [],
   "source": [
    "#code for inserting the records from the csv into the table\n",
    "insertrecords1 = \"INSERT INTO air1(State_Code, Site_Num, Parameter_Code, Latitude, Longitude, Parameter, Units_of_Measure, Observation_Count, Observation_Percent, State_Name) VALUES(?, ?, ?, ?, ?, ?, ?, ?, ?, ?)\""
   ]
  },
  {
   "cell_type": "code",
   "execution_count": null,
   "id": "3d719e17",
   "metadata": {},
   "outputs": [],
   "source": [
    "#executing the table\n",
    "cursor.executemany(insertrecords1, contents1)"
   ]
  },
  {
   "cell_type": "code",
   "execution_count": 143,
   "id": "fbbd045d",
   "metadata": {
    "scrolled": true
   },
   "outputs": [
    {
     "ename": "OperationalError",
     "evalue": "database is locked",
     "output_type": "error",
     "traceback": [
      "\u001b[1;31m---------------------------------------------------------------------------\u001b[0m",
      "\u001b[1;31mOperationalError\u001b[0m                          Traceback (most recent call last)",
      "Cell \u001b[1;32mIn[143], line 1\u001b[0m\n\u001b[1;32m----> 1\u001b[0m cursor\u001b[38;5;241m.\u001b[39mexecute(\u001b[38;5;124m\"\u001b[39m\u001b[38;5;124mCREATE TABLE air2(State  text, Date  integer, PM25  float)\u001b[39m\u001b[38;5;124m\"\u001b[39m)\n",
      "\u001b[1;31mOperationalError\u001b[0m: database is locked"
     ]
    }
   ],
   "source": [
    "#creating second table with purpleair csv data\n",
    "cursor.execute(\"CREATE TABLE air2(State  text, Date  integer, PM25  float)\")"
   ]
  },
  {
   "cell_type": "code",
   "execution_count": 36,
   "id": "c3706f32",
   "metadata": {},
   "outputs": [],
   "source": [
    "#opening csv and contents into variable\n",
    "file2 = open(\"C:/Users/ryanr/dsc540/purpleair.csv\")\n",
    "contents2 = csv.reader(file2)"
   ]
  },
  {
   "cell_type": "code",
   "execution_count": 37,
   "id": "90b8a1bc",
   "metadata": {},
   "outputs": [],
   "source": [
    "#code for inserting the records from the csv into the table\n",
    "insertrecords2 = \"INSERT INTO air2(State, Date, PM25) VALUES(?, ?, ?)\""
   ]
  },
  {
   "cell_type": "code",
   "execution_count": 38,
   "id": "27fc7463",
   "metadata": {
    "scrolled": true
   },
   "outputs": [
    {
     "data": {
      "text/plain": [
       "<sqlite3.Cursor at 0x1be684c7740>"
      ]
     },
     "execution_count": 38,
     "metadata": {},
     "output_type": "execute_result"
    }
   ],
   "source": [
    "#executing the table\n",
    "cursor.executemany(insertrecords2, contents2)"
   ]
  },
  {
   "cell_type": "code",
   "execution_count": 125,
   "id": "8093ef2f",
   "metadata": {},
   "outputs": [
    {
     "ename": "OperationalError",
     "evalue": "table asthma already exists",
     "output_type": "error",
     "traceback": [
      "\u001b[1;31m---------------------------------------------------------------------------\u001b[0m",
      "\u001b[1;31mOperationalError\u001b[0m                          Traceback (most recent call last)",
      "Cell \u001b[1;32mIn[125], line 1\u001b[0m\n\u001b[1;32m----> 1\u001b[0m cursor\u001b[38;5;241m.\u001b[39mexecute(\u001b[38;5;124m\"\u001b[39m\u001b[38;5;124mCREATE TABLE asthma(State  text, Number_With_Current_Asthma  integer, Percent_With_Current_Asthma  float, Latitude  float, Longitude  float)\u001b[39m\u001b[38;5;124m\"\u001b[39m)\n",
      "\u001b[1;31mOperationalError\u001b[0m: table asthma already exists"
     ]
    }
   ],
   "source": [
    "#creating third table with asthma csv data\n",
    "cursor.execute(\"CREATE TABLE asthma(State  text, Number_With_Current_Asthma  integer, Percent_With_Current_Asthma  float, Latitude  float, Longitude  float)\")"
   ]
  },
  {
   "cell_type": "code",
   "execution_count": 126,
   "id": "3553e857",
   "metadata": {},
   "outputs": [],
   "source": [
    "#opening csv and contents into variable\n",
    "file3 = open(\"C:/Users/ryanr/dsc540/asthma.csv\")\n",
    "contents3 = csv.reader(file3)"
   ]
  },
  {
   "cell_type": "code",
   "execution_count": 127,
   "id": "7b3a7753",
   "metadata": {},
   "outputs": [],
   "source": [
    "#code for inserting the records from the csv into the table\n",
    "insertrecords3 = \"INSERT INTO asthma(State, Number_With_Current_Asthma, Percent_With_Current_Asthma, Latitude, Longitude) VALUES(?, ?, ?, ?, ?)\""
   ]
  },
  {
   "cell_type": "code",
   "execution_count": 128,
   "id": "509b11b2",
   "metadata": {},
   "outputs": [
    {
     "data": {
      "text/plain": [
       "<sqlite3.Cursor at 0x1be684c7740>"
      ]
     },
     "execution_count": 128,
     "metadata": {},
     "output_type": "execute_result"
    }
   ],
   "source": [
    "#executing the table\n",
    "cursor.executemany(insertrecords3, contents3)"
   ]
  },
  {
   "cell_type": "code",
   "execution_count": 133,
   "id": "228c9f86",
   "metadata": {},
   "outputs": [
    {
     "name": "stdout",
     "output_type": "stream",
     "text": [
      "('State', 'Number With Current Asthma', 'Percent With Current Asthma', 'Latitude', 'Longitude')\n",
      "('Alabama', 394199, 10.1, 32.806671, -86.79113)\n",
      "('Alaska', 49453, 9.0, 61.370716, -152.404419)\n",
      "('Arizona', 519749, 9.4, 33.729759, -111.431221)\n",
      "('Arkansas', 207857, 9.0, 34.969704, -92.373123)\n",
      "('California', 2694396, 8.8, 36.116203, -119.681564)\n",
      "('Colorado', 476932, 10.4, 39.059811, -105.311104)\n",
      "('Connecticut', 300910, 10.5, 41.597782, -72.755371)\n",
      "('Delaware', 77695, 9.8, 39.318523, -75.507141)\n",
      "('District of Columbia', 64298, 11.6, 38.897438, -77.026817)\n",
      "('Georgia', 772663, 9.4, 33.040619, -83.643074)\n",
      "('Hawaii', 92849, 8.1, 21.094318, -157.498337)\n",
      "('Idaho', 138516, 9.8, 44.240459, -114.478828)\n",
      "('Illinois', 860395, 8.7, 40.349457, -88.986137)\n",
      "('Indiana', 536397, 10.3, 39.849426, -86.258278)\n",
      "('Iowa', 224466, 9.1, 42.011539, -93.210526)\n",
      "('Kansas', 235953, 10.6, 38.5266, -96.726486)\n",
      "('Kentucky', 408801, 11.7, 37.66814, -84.670067)\n",
      "('Louisiana', 344842, 9.7, 31.169546, -91.867805)\n",
      "('Maine', 138396, 12.5, 44.693947, -69.381927)\n",
      "('Maryland', 451158, 9.4, 39.063946, -76.802101)\n",
      "('Massachusetts', 661306, 11.7, 42.230171, -71.530106)\n",
      "('Michigan', 908568, 11.5, 43.326618, -84.536095)\n",
      "('Minnesota', 387219, 8.8, 45.694454, -93.900192)\n",
      "('Mississippi', 226646, 10.0, 32.741646, -89.678696)\n",
      "('Missouri', 449253, 9.4, 38.456085, -92.288368)\n",
      "('Montana', 83698, 9.7, 46.921925, -110.454353)\n",
      "('Nebraska', 122491, 8.2, 41.12537, -98.268082)\n",
      "('Nevada', 223954, 9.1, 38.313515, -117.055374)\n",
      "('New Hampshire', 136025, 12.1, 43.452492, -71.563896)\n",
      "('New Jersey', 646963, 8.9, 40.298904, -74.521011)\n",
      "('New Mexico', 173518, 10.6, 34.840515, -106.248482)\n",
      "('New York', 1563485, 9.8, 42.165726, -74.948051)\n",
      "('North Carolina', 717344, 8.7, 35.630066, -79.806419)\n",
      "('North Dakota', 50012, 8.4, 47.528912, -99.784012)\n",
      "('Ohio', 955568, 10.4, 40.388783, -82.764915)\n",
      "('Oklahoma', 326087, 10.9, 35.565342, -96.928917)\n",
      "('Oregon', 377851, 11.2, 44.572021, -122.070938)\n",
      "('Pennsylvania', 1062292, 10.3, 40.590752, -77.209755)\n",
      "('Rhode Island', 111498, 12.6, 41.680893, -71.51178)\n",
      "('South Carolina', 372607, 9.2, 33.856892, -80.945007)\n",
      "('South Dakota', 55927, 8.3, 44.299782, -99.438828)\n",
      "('Tennessee', 558276, 10.3, 35.747845, -86.692345)\n",
      "('Texas', 1854306, 8.4, 31.054487, -97.563461)\n",
      "('Utah', 231080, 9.7, 40.150032, -111.862434)\n",
      "('Vermont', 61465, 11.8, 44.045876, -72.710686)\n",
      "('Virginia', 661945, 9.8, 37.769337, -78.169968)\n",
      "('Washington', 641131, 10.5, 47.400902, -121.490494)\n",
      "('West Virginia', 171141, 12.1, 38.491226, -80.954453)\n",
      "('Wisconsin', 498228, 10.8, 44.268543, -89.616508)\n",
      "('Wyoming', 43188, 9.7, 42.755966, -107.30249)\n",
      "('State', 'Number With Current Asthma', 'Percent With Current Asthma', 'Latitude', 'Longitude')\n",
      "('Alabama', 394199, 10.1, 32.806671, -86.79113)\n",
      "('Alaska', 49453, 9.0, 61.370716, -152.404419)\n",
      "('Arizona', 519749, 9.4, 33.729759, -111.431221)\n",
      "('Arkansas', 207857, 9.0, 34.969704, -92.373123)\n",
      "('California', 2694396, 8.8, 36.116203, -119.681564)\n",
      "('Colorado', 476932, 10.4, 39.059811, -105.311104)\n",
      "('Connecticut', 300910, 10.5, 41.597782, -72.755371)\n",
      "('Delaware', 77695, 9.8, 39.318523, -75.507141)\n",
      "('District of Columbia', 64298, 11.6, 38.897438, -77.026817)\n",
      "('Georgia', 772663, 9.4, 33.040619, -83.643074)\n",
      "('Hawaii', 92849, 8.1, 21.094318, -157.498337)\n",
      "('Idaho', 138516, 9.8, 44.240459, -114.478828)\n",
      "('Illinois', 860395, 8.7, 40.349457, -88.986137)\n",
      "('Indiana', 536397, 10.3, 39.849426, -86.258278)\n",
      "('Iowa', 224466, 9.1, 42.011539, -93.210526)\n",
      "('Kansas', 235953, 10.6, 38.5266, -96.726486)\n",
      "('Kentucky', 408801, 11.7, 37.66814, -84.670067)\n",
      "('Louisiana', 344842, 9.7, 31.169546, -91.867805)\n",
      "('Maine', 138396, 12.5, 44.693947, -69.381927)\n",
      "('Maryland', 451158, 9.4, 39.063946, -76.802101)\n",
      "('Massachusetts', 661306, 11.7, 42.230171, -71.530106)\n",
      "('Michigan', 908568, 11.5, 43.326618, -84.536095)\n",
      "('Minnesota', 387219, 8.8, 45.694454, -93.900192)\n",
      "('Mississippi', 226646, 10.0, 32.741646, -89.678696)\n",
      "('Missouri', 449253, 9.4, 38.456085, -92.288368)\n",
      "('Montana', 83698, 9.7, 46.921925, -110.454353)\n",
      "('Nebraska', 122491, 8.2, 41.12537, -98.268082)\n",
      "('Nevada', 223954, 9.1, 38.313515, -117.055374)\n",
      "('New Hampshire', 136025, 12.1, 43.452492, -71.563896)\n",
      "('New Jersey', 646963, 8.9, 40.298904, -74.521011)\n",
      "('New Mexico', 173518, 10.6, 34.840515, -106.248482)\n",
      "('New York', 1563485, 9.8, 42.165726, -74.948051)\n",
      "('North Carolina', 717344, 8.7, 35.630066, -79.806419)\n",
      "('North Dakota', 50012, 8.4, 47.528912, -99.784012)\n",
      "('Ohio', 955568, 10.4, 40.388783, -82.764915)\n",
      "('Oklahoma', 326087, 10.9, 35.565342, -96.928917)\n",
      "('Oregon', 377851, 11.2, 44.572021, -122.070938)\n",
      "('Pennsylvania', 1062292, 10.3, 40.590752, -77.209755)\n",
      "('Rhode Island', 111498, 12.6, 41.680893, -71.51178)\n",
      "('South Carolina', 372607, 9.2, 33.856892, -80.945007)\n",
      "('South Dakota', 55927, 8.3, 44.299782, -99.438828)\n",
      "('Tennessee', 558276, 10.3, 35.747845, -86.692345)\n",
      "('Texas', 1854306, 8.4, 31.054487, -97.563461)\n",
      "('Utah', 231080, 9.7, 40.150032, -111.862434)\n",
      "('Vermont', 61465, 11.8, 44.045876, -72.710686)\n",
      "('Virginia', 661945, 9.8, 37.769337, -78.169968)\n",
      "('Washington', 641131, 10.5, 47.400902, -121.490494)\n",
      "('West Virginia', 171141, 12.1, 38.491226, -80.954453)\n",
      "('Wisconsin', 498228, 10.8, 44.268543, -89.616508)\n",
      "('Wyoming', 43188, 9.7, 42.755966, -107.30249)\n",
      "('State', 'Number With Current Asthma', 'Percent With Current Asthma', 'Latitude', 'Longitude')\n",
      "('Alabama', 394199, 10.1, 32.806671, -86.79113)\n",
      "('Alaska', 49453, 9.0, 61.370716, -152.404419)\n",
      "('Arizona', 519749, 9.4, 33.729759, -111.431221)\n",
      "('Arkansas', 207857, 9.0, 34.969704, -92.373123)\n",
      "('California', 2694396, 8.8, 36.116203, -119.681564)\n",
      "('Colorado', 476932, 10.4, 39.059811, -105.311104)\n",
      "('Connecticut', 300910, 10.5, 41.597782, -72.755371)\n",
      "('Delaware', 77695, 9.8, 39.318523, -75.507141)\n",
      "('District of Columbia', 64298, 11.6, 38.897438, -77.026817)\n",
      "('Georgia', 772663, 9.4, 33.040619, -83.643074)\n",
      "('Hawaii', 92849, 8.1, 21.094318, -157.498337)\n",
      "('Idaho', 138516, 9.8, 44.240459, -114.478828)\n",
      "('Illinois', 860395, 8.7, 40.349457, -88.986137)\n",
      "('Indiana', 536397, 10.3, 39.849426, -86.258278)\n",
      "('Iowa', 224466, 9.1, 42.011539, -93.210526)\n",
      "('Kansas', 235953, 10.6, 38.5266, -96.726486)\n",
      "('Kentucky', 408801, 11.7, 37.66814, -84.670067)\n",
      "('Louisiana', 344842, 9.7, 31.169546, -91.867805)\n",
      "('Maine', 138396, 12.5, 44.693947, -69.381927)\n",
      "('Maryland', 451158, 9.4, 39.063946, -76.802101)\n",
      "('Massachusetts', 661306, 11.7, 42.230171, -71.530106)\n",
      "('Michigan', 908568, 11.5, 43.326618, -84.536095)\n",
      "('Minnesota', 387219, 8.8, 45.694454, -93.900192)\n",
      "('Mississippi', 226646, 10.0, 32.741646, -89.678696)\n",
      "('Missouri', 449253, 9.4, 38.456085, -92.288368)\n",
      "('Montana', 83698, 9.7, 46.921925, -110.454353)\n",
      "('Nebraska', 122491, 8.2, 41.12537, -98.268082)\n",
      "('Nevada', 223954, 9.1, 38.313515, -117.055374)\n",
      "('New Hampshire', 136025, 12.1, 43.452492, -71.563896)\n",
      "('New Jersey', 646963, 8.9, 40.298904, -74.521011)\n",
      "('New Mexico', 173518, 10.6, 34.840515, -106.248482)\n",
      "('New York', 1563485, 9.8, 42.165726, -74.948051)\n",
      "('North Carolina', 717344, 8.7, 35.630066, -79.806419)\n",
      "('North Dakota', 50012, 8.4, 47.528912, -99.784012)\n",
      "('Ohio', 955568, 10.4, 40.388783, -82.764915)\n",
      "('Oklahoma', 326087, 10.9, 35.565342, -96.928917)\n",
      "('Oregon', 377851, 11.2, 44.572021, -122.070938)\n",
      "('Pennsylvania', 1062292, 10.3, 40.590752, -77.209755)\n",
      "('Rhode Island', 111498, 12.6, 41.680893, -71.51178)\n",
      "('South Carolina', 372607, 9.2, 33.856892, -80.945007)\n",
      "('South Dakota', 55927, 8.3, 44.299782, -99.438828)\n",
      "('Tennessee', 558276, 10.3, 35.747845, -86.692345)\n",
      "('Texas', 1854306, 8.4, 31.054487, -97.563461)\n",
      "('Utah', 231080, 9.7, 40.150032, -111.862434)\n",
      "('Vermont', 61465, 11.8, 44.045876, -72.710686)\n",
      "('Virginia', 661945, 9.8, 37.769337, -78.169968)\n",
      "('Washington', 641131, 10.5, 47.400902, -121.490494)\n",
      "('West Virginia', 171141, 12.1, 38.491226, -80.954453)\n",
      "('Wisconsin', 498228, 10.8, 44.268543, -89.616508)\n",
      "('Wyoming', 43188, 9.7, 42.755966, -107.30249)\n"
     ]
    }
   ],
   "source": [
    "res = cursor.execute(\"SELECT * FROM asthma\") #just checking with a smaller table\n",
    "for row in res:\n",
    "    print(row)"
   ]
  },
  {
   "cell_type": "markdown",
   "id": "e2b82647",
   "metadata": {},
   "source": [
    "### Merge 1 (2 tables)"
   ]
  },
  {
   "cell_type": "markdown",
   "id": "13330f05",
   "metadata": {},
   "source": [
    "From my previous milestones, I know that my air quality datasets do not have all of the states in both, but do between the two. So my first merge of the data tables will be to combine to have all the states. "
   ]
  },
  {
   "cell_type": "code",
   "execution_count": 75,
   "id": "b68cd8c8",
   "metadata": {},
   "outputs": [
    {
     "data": {
      "text/plain": [
       "<sqlite3.Cursor at 0x1be684c7740>"
      ]
     },
     "execution_count": 75,
     "metadata": {},
     "output_type": "execute_result"
    }
   ],
   "source": [
    "#Using UNION to merge the two tables related to air quality - selecting state and air quality columns from each\n",
    "cursor.execute(\"SELECT State_Name, Observation_Count FROM air1 WHERE Parameter='PM2.5 - Local Conditions' UNION ALL SELECT State, PM25 FROM air2\")"
   ]
  },
  {
   "cell_type": "code",
   "execution_count": 145,
   "id": "52274b8f",
   "metadata": {},
   "outputs": [],
   "source": [
    "conn.commit()"
   ]
  },
  {
   "cell_type": "code",
   "execution_count": 76,
   "id": "ebeb4b90",
   "metadata": {},
   "outputs": [],
   "source": [
    "# making dataframe of merged air quality data\n",
    "pm25df = pd.DataFrame(cursor.fetchall(), columns=[\"State\", \"PM2.5\"])"
   ]
  },
  {
   "cell_type": "code",
   "execution_count": 77,
   "id": "e8edefe3",
   "metadata": {},
   "outputs": [
    {
     "data": {
      "text/html": [
       "<div>\n",
       "<style scoped>\n",
       "    .dataframe tbody tr th:only-of-type {\n",
       "        vertical-align: middle;\n",
       "    }\n",
       "\n",
       "    .dataframe tbody tr th {\n",
       "        vertical-align: top;\n",
       "    }\n",
       "\n",
       "    .dataframe thead th {\n",
       "        text-align: right;\n",
       "    }\n",
       "</style>\n",
       "<table border=\"1\" class=\"dataframe\">\n",
       "  <thead>\n",
       "    <tr style=\"text-align: right;\">\n",
       "      <th></th>\n",
       "      <th>State</th>\n",
       "      <th>PM2.5</th>\n",
       "    </tr>\n",
       "  </thead>\n",
       "  <tbody>\n",
       "    <tr>\n",
       "      <th>0</th>\n",
       "      <td>Alabama</td>\n",
       "      <td>4005</td>\n",
       "    </tr>\n",
       "    <tr>\n",
       "      <th>1</th>\n",
       "      <td>Alabama</td>\n",
       "      <td>166</td>\n",
       "    </tr>\n",
       "    <tr>\n",
       "      <th>2</th>\n",
       "      <td>Alabama</td>\n",
       "      <td>166</td>\n",
       "    </tr>\n",
       "    <tr>\n",
       "      <th>3</th>\n",
       "      <td>Alabama</td>\n",
       "      <td>166</td>\n",
       "    </tr>\n",
       "    <tr>\n",
       "      <th>4</th>\n",
       "      <td>Alabama</td>\n",
       "      <td>166</td>\n",
       "    </tr>\n",
       "    <tr>\n",
       "      <th>...</th>\n",
       "      <td>...</td>\n",
       "      <td>...</td>\n",
       "    </tr>\n",
       "    <tr>\n",
       "      <th>74340</th>\n",
       "      <td>Texas</td>\n",
       "      <td>9.0</td>\n",
       "    </tr>\n",
       "    <tr>\n",
       "      <th>74341</th>\n",
       "      <td>Texas</td>\n",
       "      <td>6.7</td>\n",
       "    </tr>\n",
       "    <tr>\n",
       "      <th>74342</th>\n",
       "      <td>Texas</td>\n",
       "      <td>5.0</td>\n",
       "    </tr>\n",
       "    <tr>\n",
       "      <th>74343</th>\n",
       "      <td>Texas</td>\n",
       "      <td>5.4</td>\n",
       "    </tr>\n",
       "    <tr>\n",
       "      <th>74344</th>\n",
       "      <td>Texas</td>\n",
       "      <td>12.0</td>\n",
       "    </tr>\n",
       "  </tbody>\n",
       "</table>\n",
       "<p>74345 rows × 2 columns</p>\n",
       "</div>"
      ],
      "text/plain": [
       "         State PM2.5\n",
       "0      Alabama  4005\n",
       "1      Alabama   166\n",
       "2      Alabama   166\n",
       "3      Alabama   166\n",
       "4      Alabama   166\n",
       "...        ...   ...\n",
       "74340    Texas   9.0\n",
       "74341    Texas   6.7\n",
       "74342    Texas   5.0\n",
       "74343    Texas   5.4\n",
       "74344    Texas  12.0\n",
       "\n",
       "[74345 rows x 2 columns]"
      ]
     },
     "execution_count": 77,
     "metadata": {},
     "output_type": "execute_result"
    }
   ],
   "source": [
    "pm25df"
   ]
  },
  {
   "cell_type": "code",
   "execution_count": 79,
   "id": "fa7d576d",
   "metadata": {},
   "outputs": [],
   "source": [
    "pm25df.to_csv('pm25.csv', index=True) #export to csv to double check on computer"
   ]
  },
  {
   "cell_type": "code",
   "execution_count": 80,
   "id": "9518d218",
   "metadata": {},
   "outputs": [],
   "source": [
    "#dropping the row at index 10379 because it contains string data\n",
    "pm25df = pm25df.drop(index=10379)"
   ]
  },
  {
   "cell_type": "code",
   "execution_count": 81,
   "id": "57a22831",
   "metadata": {
    "scrolled": true
   },
   "outputs": [],
   "source": [
    "#transforming the PM2.5 column data to all float data\n",
    "pm25df[\"PM2.5\"] = pm25df[\"PM2.5\"].astype(float)"
   ]
  },
  {
   "cell_type": "code",
   "execution_count": 82,
   "id": "c9551915",
   "metadata": {},
   "outputs": [],
   "source": [
    "#calling the mean of PM2.5 data grouped by state\n",
    "pm25dfgrouped = pm25df.groupby(by=\"State\")[\"PM2.5\"].mean()"
   ]
  },
  {
   "cell_type": "code",
   "execution_count": 83,
   "id": "a828b22c",
   "metadata": {},
   "outputs": [
    {
     "data": {
      "text/plain": [
       "State\n",
       "Alabama                  15.290440\n",
       "Alaska                  317.190476\n",
       "Arizona                 627.779661\n",
       "Arkansas                108.394495\n",
       "California               61.416948\n",
       "Colorado                 24.617464\n",
       "Connecticut             494.343434\n",
       "Delaware                  4.501296\n",
       "District Of Columbia    707.122222\n",
       "Florida                 586.588983\n",
       "Georgia                 426.472868\n",
       "Hawaii                  718.810606\n",
       "Idaho                   109.350000\n",
       "Illinois                598.651079\n",
       "Indiana                 515.372654\n",
       "Iowa                    474.362791\n",
       "Kansas                  647.781818\n",
       "Kentucky                630.938650\n",
       "Louisiana               289.496689\n",
       "Maine                    11.033744\n",
       "Maryland                715.021807\n",
       "Massachusetts           596.171598\n",
       "Michigan                523.162896\n",
       "Minnesota                18.840231\n",
       "Mississippi             637.338235\n",
       "Missouri                538.006757\n",
       "Montana                 620.564045\n",
       "Nebraska                623.833333\n",
       "Nevada                  804.276836\n",
       "New Hampshire           547.200000\n",
       "New Jersey              459.556190\n",
       "New Mexico              565.570175\n",
       "New York                260.916279\n",
       "North Carolina          756.966667\n",
       "North Dakota            728.640449\n",
       "Ohio                    365.828423\n",
       "Oklahoma                670.371681\n",
       "Oregon                   13.689753\n",
       "Pennsylvania            574.670886\n",
       "Puerto Rico              49.166667\n",
       "Rhode Island            539.816667\n",
       "South Carolina          484.725275\n",
       "South Dakota            611.706667\n",
       "Tennessee               571.875648\n",
       "Texas                    40.063648\n",
       "Utah                    833.558219\n",
       "Vermont                 484.021739\n",
       "Virginia                384.553763\n",
       "Washington              624.404494\n",
       "West Virginia           216.949153\n",
       "Wisconsin               644.937853\n",
       "Wyoming                 691.190476\n",
       "Name: PM2.5, dtype: float64"
      ]
     },
     "execution_count": 83,
     "metadata": {},
     "output_type": "execute_result"
    }
   ],
   "source": [
    "pm25dfgrouped"
   ]
  },
  {
   "cell_type": "code",
   "execution_count": 63,
   "id": "bb558727",
   "metadata": {},
   "outputs": [],
   "source": [
    "import matplotlib.pyplot as plt"
   ]
  },
  {
   "cell_type": "markdown",
   "id": "10c20e5a",
   "metadata": {},
   "source": [
    "### Visualization 1"
   ]
  },
  {
   "cell_type": "code",
   "execution_count": 93,
   "id": "c26fd914",
   "metadata": {},
   "outputs": [
    {
     "data": {
      "text/plain": [
       "<Axes: title={'center': 'Average Air Quality by State'}, xlabel='State', ylabel='PM2.5'>"
      ]
     },
     "execution_count": 93,
     "metadata": {},
     "output_type": "execute_result"
    },
    {
     "data": {
      "image/png": "[encoded data removed]",
      "text/plain": [
       "<Figure size 640x480 with 1 Axes>"
      ]
     },
     "metadata": {},
     "output_type": "display_data"
    }
   ],
   "source": [
    "pm25dfgrouped.plot(kind='bar', title=\"Average Air Quality by State\", ylabel=\"PM2.5\", xlabel=\"State\")"
   ]
  },
  {
   "cell_type": "markdown",
   "id": "05498694",
   "metadata": {},
   "source": [
    "### Adding data to new SQL database due to error in first database"
   ]
  },
  {
   "cell_type": "markdown",
   "id": "1a651971",
   "metadata": {},
   "source": [
    "As mentioned above, my original database had an error so I created a new database with the same steps as above"
   ]
  },
  {
   "cell_type": "code",
   "execution_count": 148,
   "id": "5f78aba4",
   "metadata": {},
   "outputs": [],
   "source": [
    "with sqlite3.connect(\"C:/Users/ryanr/dsc540/airasthma1.db\") as conn:\n",
    "    cursor = conn.cursor()"
   ]
  },
  {
   "cell_type": "code",
   "execution_count": 149,
   "id": "f2271bbe",
   "metadata": {},
   "outputs": [
    {
     "data": {
      "text/plain": [
       "<sqlite3.Cursor at 0x1be7b611ec0>"
      ]
     },
     "execution_count": 149,
     "metadata": {},
     "output_type": "execute_result"
    }
   ],
   "source": [
    "cursor.execute(\"CREATE TABLE air1 (State_Code  integer, Site_Num  integer, Parameter_Code  integer, Latitude  float, Longitude  float, Parameter  text, Units_of_Measure  text, Observation_Count  integer, Observation_Percent  integer, State_Name  text)\")"
   ]
  },
  {
   "cell_type": "code",
   "execution_count": 150,
   "id": "3167dd42",
   "metadata": {},
   "outputs": [],
   "source": [
    "file1 = open(\"C:/Users/ryanr/dsc540/air4.csv\")\n",
    "contents1 = csv.reader(file1)"
   ]
  },
  {
   "cell_type": "code",
   "execution_count": 151,
   "id": "26e36dc8",
   "metadata": {},
   "outputs": [],
   "source": [
    "insertrecords1 = \"INSERT INTO air1(State_Code, Site_Num, Parameter_Code, Latitude, Longitude, Parameter, Units_of_Measure, Observation_Count, Observation_Percent, State_Name) VALUES(?, ?, ?, ?, ?, ?, ?, ?, ?, ?)\""
   ]
  },
  {
   "cell_type": "code",
   "execution_count": 152,
   "id": "bdb7f8df",
   "metadata": {},
   "outputs": [
    {
     "data": {
      "text/plain": [
       "<sqlite3.Cursor at 0x1be7b611ec0>"
      ]
     },
     "execution_count": 152,
     "metadata": {},
     "output_type": "execute_result"
    }
   ],
   "source": [
    "cursor.executemany(insertrecords1, contents1)"
   ]
  },
  {
   "cell_type": "code",
   "execution_count": 153,
   "id": "29494714",
   "metadata": {},
   "outputs": [
    {
     "data": {
      "text/plain": [
       "<sqlite3.Cursor at 0x1be7b611ec0>"
      ]
     },
     "execution_count": 153,
     "metadata": {},
     "output_type": "execute_result"
    }
   ],
   "source": [
    "cursor.execute(\"CREATE TABLE air2(State  text, Date  integer, PM25  float)\")"
   ]
  },
  {
   "cell_type": "code",
   "execution_count": 154,
   "id": "12dc610f",
   "metadata": {},
   "outputs": [],
   "source": [
    "file2 = open(\"C:/Users/ryanr/dsc540/purpleair.csv\")\n",
    "contents2 = csv.reader(file2)"
   ]
  },
  {
   "cell_type": "code",
   "execution_count": 155,
   "id": "cceff2df",
   "metadata": {},
   "outputs": [],
   "source": [
    "insertrecords2 = \"INSERT INTO air2(State, Date, PM25) VALUES(?, ?, ?)\""
   ]
  },
  {
   "cell_type": "code",
   "execution_count": 156,
   "id": "e8b50dd2",
   "metadata": {},
   "outputs": [
    {
     "data": {
      "text/plain": [
       "<sqlite3.Cursor at 0x1be7b611ec0>"
      ]
     },
     "execution_count": 156,
     "metadata": {},
     "output_type": "execute_result"
    }
   ],
   "source": [
    "cursor.executemany(insertrecords2, contents2)"
   ]
  },
  {
   "cell_type": "code",
   "execution_count": 157,
   "id": "22e8895a",
   "metadata": {},
   "outputs": [
    {
     "data": {
      "text/plain": [
       "<sqlite3.Cursor at 0x1be7b611ec0>"
      ]
     },
     "execution_count": 157,
     "metadata": {},
     "output_type": "execute_result"
    }
   ],
   "source": [
    "cursor.execute(\"CREATE TABLE asthma(State  text, Number_With_Current_Asthma  integer, Percent_With_Current_Asthma  float, Latitude  float, Longitude  float)\")"
   ]
  },
  {
   "cell_type": "code",
   "execution_count": 158,
   "id": "5962af98",
   "metadata": {},
   "outputs": [],
   "source": [
    "file3 = open(\"C:/Users/ryanr/dsc540/asthma.csv\")\n",
    "contents3 = csv.reader(file3)"
   ]
  },
  {
   "cell_type": "code",
   "execution_count": 159,
   "id": "16faeec8",
   "metadata": {},
   "outputs": [],
   "source": [
    "insertrecords3 = \"INSERT INTO asthma(State, Number_With_Current_Asthma, Percent_With_Current_Asthma, Latitude, Longitude) VALUES(?, ?, ?, ?, ?)\""
   ]
  },
  {
   "cell_type": "code",
   "execution_count": 160,
   "id": "f9e5d6e1",
   "metadata": {},
   "outputs": [
    {
     "data": {
      "text/plain": [
       "<sqlite3.Cursor at 0x1be7b611ec0>"
      ]
     },
     "execution_count": 160,
     "metadata": {},
     "output_type": "execute_result"
    }
   ],
   "source": [
    "cursor.executemany(insertrecords3, contents3)"
   ]
  },
  {
   "cell_type": "code",
   "execution_count": 161,
   "id": "66ac6d49",
   "metadata": {},
   "outputs": [],
   "source": [
    "conn.commit()"
   ]
  },
  {
   "cell_type": "markdown",
   "id": "f7e57346",
   "metadata": {},
   "source": [
    "### Merge 2 (all 3 tables)"
   ]
  },
  {
   "cell_type": "code",
   "execution_count": 163,
   "id": "15cb6b07",
   "metadata": {},
   "outputs": [
    {
     "data": {
      "text/plain": [
       "<sqlite3.Cursor at 0x1be7b611ec0>"
      ]
     },
     "execution_count": 163,
     "metadata": {},
     "output_type": "execute_result"
    }
   ],
   "source": [
    "# Using both UNION and JOIN to combine all 3 tables - union 2 columns from air datasets and left join with the asthma data on the state columns\n",
    "cursor.execute(\"SELECT * FROM(SELECT State_Name, Observation_Count FROM air1 WHERE Parameter='PM2.5 - Local Conditions' UNION ALL SELECT State, PM25 FROM air2) AS X LEFT JOIN asthma Percent_With_Current_Asthma ON State = X.State_Name\")"
   ]
  },
  {
   "cell_type": "code",
   "execution_count": 164,
   "id": "84c459a8",
   "metadata": {},
   "outputs": [],
   "source": [
    "#creating dataframe from sql data\n",
    "asthmadf = pd.DataFrame(cursor.fetchall())"
   ]
  },
  {
   "cell_type": "code",
   "execution_count": 165,
   "id": "79bd71b7",
   "metadata": {},
   "outputs": [],
   "source": [
    "asthmadf.to_csv('asthmatest.csv', index=True) #sending to csv to doublecheck on computer"
   ]
  },
  {
   "cell_type": "code",
   "execution_count": 167,
   "id": "57b203a0",
   "metadata": {},
   "outputs": [],
   "source": [
    "#naming the dataframe columns\n",
    "asthmadf.columns = ['State1', 'PM2.5', 'State2', 'Number Asthma', 'Percent With Current Asthma', 'Latitude', 'Longitude']"
   ]
  },
  {
   "cell_type": "code",
   "execution_count": 169,
   "id": "0ed88b11",
   "metadata": {},
   "outputs": [],
   "source": [
    "# removing the index with string data from joined headers\n",
    "asthmadf = asthmadf.drop(index=10379)"
   ]
  },
  {
   "cell_type": "code",
   "execution_count": 170,
   "id": "5266a28d",
   "metadata": {},
   "outputs": [
    {
     "data": {
      "text/html": [
       "<div>\n",
       "<style scoped>\n",
       "    .dataframe tbody tr th:only-of-type {\n",
       "        vertical-align: middle;\n",
       "    }\n",
       "\n",
       "    .dataframe tbody tr th {\n",
       "        vertical-align: top;\n",
       "    }\n",
       "\n",
       "    .dataframe thead th {\n",
       "        text-align: right;\n",
       "    }\n",
       "</style>\n",
       "<table border=\"1\" class=\"dataframe\">\n",
       "  <thead>\n",
       "    <tr style=\"text-align: right;\">\n",
       "      <th></th>\n",
       "      <th>State1</th>\n",
       "      <th>PM2.5</th>\n",
       "      <th>State2</th>\n",
       "      <th>Number Asthma</th>\n",
       "      <th>Percent With Current Asthma</th>\n",
       "      <th>Latitude</th>\n",
       "      <th>Longitude</th>\n",
       "    </tr>\n",
       "  </thead>\n",
       "  <tbody>\n",
       "    <tr>\n",
       "      <th>0</th>\n",
       "      <td>Alabama</td>\n",
       "      <td>4005</td>\n",
       "      <td>Alabama</td>\n",
       "      <td>394199</td>\n",
       "      <td>10.1</td>\n",
       "      <td>32.806671</td>\n",
       "      <td>-86.79113</td>\n",
       "    </tr>\n",
       "    <tr>\n",
       "      <th>1</th>\n",
       "      <td>Alabama</td>\n",
       "      <td>166</td>\n",
       "      <td>Alabama</td>\n",
       "      <td>394199</td>\n",
       "      <td>10.1</td>\n",
       "      <td>32.806671</td>\n",
       "      <td>-86.79113</td>\n",
       "    </tr>\n",
       "    <tr>\n",
       "      <th>2</th>\n",
       "      <td>Alabama</td>\n",
       "      <td>166</td>\n",
       "      <td>Alabama</td>\n",
       "      <td>394199</td>\n",
       "      <td>10.1</td>\n",
       "      <td>32.806671</td>\n",
       "      <td>-86.79113</td>\n",
       "    </tr>\n",
       "    <tr>\n",
       "      <th>3</th>\n",
       "      <td>Alabama</td>\n",
       "      <td>166</td>\n",
       "      <td>Alabama</td>\n",
       "      <td>394199</td>\n",
       "      <td>10.1</td>\n",
       "      <td>32.806671</td>\n",
       "      <td>-86.79113</td>\n",
       "    </tr>\n",
       "    <tr>\n",
       "      <th>4</th>\n",
       "      <td>Alabama</td>\n",
       "      <td>166</td>\n",
       "      <td>Alabama</td>\n",
       "      <td>394199</td>\n",
       "      <td>10.1</td>\n",
       "      <td>32.806671</td>\n",
       "      <td>-86.79113</td>\n",
       "    </tr>\n",
       "    <tr>\n",
       "      <th>...</th>\n",
       "      <td>...</td>\n",
       "      <td>...</td>\n",
       "      <td>...</td>\n",
       "      <td>...</td>\n",
       "      <td>...</td>\n",
       "      <td>...</td>\n",
       "      <td>...</td>\n",
       "    </tr>\n",
       "    <tr>\n",
       "      <th>74340</th>\n",
       "      <td>Texas</td>\n",
       "      <td>9.0</td>\n",
       "      <td>Texas</td>\n",
       "      <td>1854306</td>\n",
       "      <td>8.4</td>\n",
       "      <td>31.054487</td>\n",
       "      <td>-97.563461</td>\n",
       "    </tr>\n",
       "    <tr>\n",
       "      <th>74341</th>\n",
       "      <td>Texas</td>\n",
       "      <td>6.7</td>\n",
       "      <td>Texas</td>\n",
       "      <td>1854306</td>\n",
       "      <td>8.4</td>\n",
       "      <td>31.054487</td>\n",
       "      <td>-97.563461</td>\n",
       "    </tr>\n",
       "    <tr>\n",
       "      <th>74342</th>\n",
       "      <td>Texas</td>\n",
       "      <td>5.0</td>\n",
       "      <td>Texas</td>\n",
       "      <td>1854306</td>\n",
       "      <td>8.4</td>\n",
       "      <td>31.054487</td>\n",
       "      <td>-97.563461</td>\n",
       "    </tr>\n",
       "    <tr>\n",
       "      <th>74343</th>\n",
       "      <td>Texas</td>\n",
       "      <td>5.4</td>\n",
       "      <td>Texas</td>\n",
       "      <td>1854306</td>\n",
       "      <td>8.4</td>\n",
       "      <td>31.054487</td>\n",
       "      <td>-97.563461</td>\n",
       "    </tr>\n",
       "    <tr>\n",
       "      <th>74344</th>\n",
       "      <td>Texas</td>\n",
       "      <td>12.0</td>\n",
       "      <td>Texas</td>\n",
       "      <td>1854306</td>\n",
       "      <td>8.4</td>\n",
       "      <td>31.054487</td>\n",
       "      <td>-97.563461</td>\n",
       "    </tr>\n",
       "  </tbody>\n",
       "</table>\n",
       "<p>74344 rows × 7 columns</p>\n",
       "</div>"
      ],
      "text/plain": [
       "        State1 PM2.5   State2 Number Asthma Percent With Current Asthma  \\\n",
       "0      Alabama  4005  Alabama        394199                        10.1   \n",
       "1      Alabama   166  Alabama        394199                        10.1   \n",
       "2      Alabama   166  Alabama        394199                        10.1   \n",
       "3      Alabama   166  Alabama        394199                        10.1   \n",
       "4      Alabama   166  Alabama        394199                        10.1   \n",
       "...        ...   ...      ...           ...                         ...   \n",
       "74340    Texas   9.0    Texas       1854306                         8.4   \n",
       "74341    Texas   6.7    Texas       1854306                         8.4   \n",
       "74342    Texas   5.0    Texas       1854306                         8.4   \n",
       "74343    Texas   5.4    Texas       1854306                         8.4   \n",
       "74344    Texas  12.0    Texas       1854306                         8.4   \n",
       "\n",
       "        Latitude  Longitude  \n",
       "0      32.806671  -86.79113  \n",
       "1      32.806671  -86.79113  \n",
       "2      32.806671  -86.79113  \n",
       "3      32.806671  -86.79113  \n",
       "4      32.806671  -86.79113  \n",
       "...          ...        ...  \n",
       "74340  31.054487 -97.563461  \n",
       "74341  31.054487 -97.563461  \n",
       "74342  31.054487 -97.563461  \n",
       "74343  31.054487 -97.563461  \n",
       "74344  31.054487 -97.563461  \n",
       "\n",
       "[74344 rows x 7 columns]"
      ]
     },
     "execution_count": 170,
     "metadata": {},
     "output_type": "execute_result"
    }
   ],
   "source": [
    "asthmadf"
   ]
  },
  {
   "cell_type": "markdown",
   "id": "fbe6d260",
   "metadata": {},
   "source": [
    "### Visualization 2"
   ]
  },
  {
   "cell_type": "code",
   "execution_count": 172,
   "id": "aec695fa",
   "metadata": {},
   "outputs": [],
   "source": [
    "# means of asthma percents grouped by state\n",
    "asthmadfgrouped = asthmadf.groupby(by=\"State1\")[\"Percent With Current Asthma\"].mean()"
   ]
  },
  {
   "cell_type": "code",
   "execution_count": 173,
   "id": "cb45803a",
   "metadata": {},
   "outputs": [
    {
     "data": {
      "text/plain": [
       "<Axes: title={'center': 'Percent Asthma by State'}, xlabel='State', ylabel='Percent'>"
      ]
     },
     "execution_count": 173,
     "metadata": {},
     "output_type": "execute_result"
    },
    {
     "data": {
      "image/png": "[encoded data removed]",
      "text/plain": [
       "<Figure size 640x480 with 1 Axes>"
      ]
     },
     "metadata": {},
     "output_type": "display_data"
    }
   ],
   "source": [
    "# created bar chart of state grouped percent asthma\n",
    "asthmadfgrouped.plot(kind='bar', title=\"Percent Asthma by State\", ylabel=\"Percent\", xlabel=\"State\")"
   ]
  },
  {
   "cell_type": "markdown",
   "id": "965040c3",
   "metadata": {},
   "source": [
    "### Visualization 3"
   ]
  },
  {
   "cell_type": "markdown",
   "id": "cc66a7e9",
   "metadata": {},
   "source": [
    "This is the main visualization I had in my head since the beginning of the project. This is the best way to visualize the connection between air quality and asthma."
   ]
  },
  {
   "cell_type": "code",
   "execution_count": 175,
   "id": "93bf00ae",
   "metadata": {},
   "outputs": [
    {
     "data": {
      "text/plain": [
       "<Axes: title={'center': 'Scatterplot of Air Quality vs Asthma'}, xlabel='PM2.5', ylabel='Percent With Current Asthma'>"
      ]
     },
     "execution_count": 175,
     "metadata": {},
     "output_type": "execute_result"
    },
    {
     "data": {
      "image/png": "[encoded data removed]",
      "text/plain": [
       "<Figure size 640x480 with 1 Axes>"
      ]
     },
     "metadata": {},
     "output_type": "display_data"
    }
   ],
   "source": [
    "# creating scatter plot of air quality vs percent with current asthma\n",
    "asthmadf.plot.scatter(x = 'PM2.5', y = 'Percent With Current Asthma', title=\"Scatterplot of Air Quality vs Asthma\")"
   ]
  },
  {
   "cell_type": "markdown",
   "id": "93af76d0",
   "metadata": {},
   "source": [
    "Looking back at the bar chart of asthma percentages by state, I can see that certain states are higher. I will create a new dataframe with 5 of the higher states.  "
   ]
  },
  {
   "cell_type": "code",
   "execution_count": 183,
   "id": "8d11cfed",
   "metadata": {},
   "outputs": [],
   "source": [
    "#creating new dataframe with rows that contain string values of states listed\n",
    "asthmadf2 = asthmadf[asthmadf[\"State1\"].str.contains('Rhode Island|Maine|New Hampshire|West Virginia|Vermont')]"
   ]
  },
  {
   "cell_type": "code",
   "execution_count": 184,
   "id": "2949a02a",
   "metadata": {},
   "outputs": [
    {
     "data": {
      "text/html": [
       "<div>\n",
       "<style scoped>\n",
       "    .dataframe tbody tr th:only-of-type {\n",
       "        vertical-align: middle;\n",
       "    }\n",
       "\n",
       "    .dataframe tbody tr th {\n",
       "        vertical-align: top;\n",
       "    }\n",
       "\n",
       "    .dataframe thead th {\n",
       "        text-align: right;\n",
       "    }\n",
       "</style>\n",
       "<table border=\"1\" class=\"dataframe\">\n",
       "  <thead>\n",
       "    <tr style=\"text-align: right;\">\n",
       "      <th></th>\n",
       "      <th>State1</th>\n",
       "      <th>PM2.5</th>\n",
       "      <th>State2</th>\n",
       "      <th>Number Asthma</th>\n",
       "      <th>Percent With Current Asthma</th>\n",
       "      <th>Latitude</th>\n",
       "      <th>Longitude</th>\n",
       "    </tr>\n",
       "  </thead>\n",
       "  <tbody>\n",
       "    <tr>\n",
       "      <th>3860</th>\n",
       "      <td>Maine</td>\n",
       "      <td>6161</td>\n",
       "      <td>Maine</td>\n",
       "      <td>138396</td>\n",
       "      <td>12.5</td>\n",
       "      <td>44.693947</td>\n",
       "      <td>-69.381927</td>\n",
       "    </tr>\n",
       "    <tr>\n",
       "      <th>3861</th>\n",
       "      <td>Maine</td>\n",
       "      <td>254</td>\n",
       "      <td>Maine</td>\n",
       "      <td>138396</td>\n",
       "      <td>12.5</td>\n",
       "      <td>44.693947</td>\n",
       "      <td>-69.381927</td>\n",
       "    </tr>\n",
       "    <tr>\n",
       "      <th>3862</th>\n",
       "      <td>Maine</td>\n",
       "      <td>254</td>\n",
       "      <td>Maine</td>\n",
       "      <td>138396</td>\n",
       "      <td>12.5</td>\n",
       "      <td>44.693947</td>\n",
       "      <td>-69.381927</td>\n",
       "    </tr>\n",
       "    <tr>\n",
       "      <th>3863</th>\n",
       "      <td>Maine</td>\n",
       "      <td>254</td>\n",
       "      <td>Maine</td>\n",
       "      <td>138396</td>\n",
       "      <td>12.5</td>\n",
       "      <td>44.693947</td>\n",
       "      <td>-69.381927</td>\n",
       "    </tr>\n",
       "    <tr>\n",
       "      <th>3864</th>\n",
       "      <td>Maine</td>\n",
       "      <td>254</td>\n",
       "      <td>Maine</td>\n",
       "      <td>138396</td>\n",
       "      <td>12.5</td>\n",
       "      <td>44.693947</td>\n",
       "      <td>-69.381927</td>\n",
       "    </tr>\n",
       "    <tr>\n",
       "      <th>...</th>\n",
       "      <td>...</td>\n",
       "      <td>...</td>\n",
       "      <td>...</td>\n",
       "      <td>...</td>\n",
       "      <td>...</td>\n",
       "      <td>...</td>\n",
       "      <td>...</td>\n",
       "    </tr>\n",
       "    <tr>\n",
       "      <th>27655</th>\n",
       "      <td>Maine</td>\n",
       "      <td>0.1</td>\n",
       "      <td>Maine</td>\n",
       "      <td>138396</td>\n",
       "      <td>12.5</td>\n",
       "      <td>44.693947</td>\n",
       "      <td>-69.381927</td>\n",
       "    </tr>\n",
       "    <tr>\n",
       "      <th>27656</th>\n",
       "      <td>Maine</td>\n",
       "      <td>0.1</td>\n",
       "      <td>Maine</td>\n",
       "      <td>138396</td>\n",
       "      <td>12.5</td>\n",
       "      <td>44.693947</td>\n",
       "      <td>-69.381927</td>\n",
       "    </tr>\n",
       "    <tr>\n",
       "      <th>27657</th>\n",
       "      <td>Maine</td>\n",
       "      <td>0.1</td>\n",
       "      <td>Maine</td>\n",
       "      <td>138396</td>\n",
       "      <td>12.5</td>\n",
       "      <td>44.693947</td>\n",
       "      <td>-69.381927</td>\n",
       "    </tr>\n",
       "    <tr>\n",
       "      <th>27658</th>\n",
       "      <td>Maine</td>\n",
       "      <td>0.1</td>\n",
       "      <td>Maine</td>\n",
       "      <td>138396</td>\n",
       "      <td>12.5</td>\n",
       "      <td>44.693947</td>\n",
       "      <td>-69.381927</td>\n",
       "    </tr>\n",
       "    <tr>\n",
       "      <th>27659</th>\n",
       "      <td>Maine</td>\n",
       "      <td>0.1</td>\n",
       "      <td>Maine</td>\n",
       "      <td>138396</td>\n",
       "      <td>12.5</td>\n",
       "      <td>44.693947</td>\n",
       "      <td>-69.381927</td>\n",
       "    </tr>\n",
       "  </tbody>\n",
       "</table>\n",
       "<p>9056 rows × 7 columns</p>\n",
       "</div>"
      ],
      "text/plain": [
       "      State1 PM2.5 State2 Number Asthma Percent With Current Asthma  \\\n",
       "3860   Maine  6161  Maine        138396                        12.5   \n",
       "3861   Maine   254  Maine        138396                        12.5   \n",
       "3862   Maine   254  Maine        138396                        12.5   \n",
       "3863   Maine   254  Maine        138396                        12.5   \n",
       "3864   Maine   254  Maine        138396                        12.5   \n",
       "...      ...   ...    ...           ...                         ...   \n",
       "27655  Maine   0.1  Maine        138396                        12.5   \n",
       "27656  Maine   0.1  Maine        138396                        12.5   \n",
       "27657  Maine   0.1  Maine        138396                        12.5   \n",
       "27658  Maine   0.1  Maine        138396                        12.5   \n",
       "27659  Maine   0.1  Maine        138396                        12.5   \n",
       "\n",
       "        Latitude  Longitude  \n",
       "3860   44.693947 -69.381927  \n",
       "3861   44.693947 -69.381927  \n",
       "3862   44.693947 -69.381927  \n",
       "3863   44.693947 -69.381927  \n",
       "3864   44.693947 -69.381927  \n",
       "...          ...        ...  \n",
       "27655  44.693947 -69.381927  \n",
       "27656  44.693947 -69.381927  \n",
       "27657  44.693947 -69.381927  \n",
       "27658  44.693947 -69.381927  \n",
       "27659  44.693947 -69.381927  \n",
       "\n",
       "[9056 rows x 7 columns]"
      ]
     },
     "execution_count": 184,
     "metadata": {},
     "output_type": "execute_result"
    }
   ],
   "source": [
    "asthmadf2"
   ]
  },
  {
   "cell_type": "markdown",
   "id": "6381e50c",
   "metadata": {},
   "source": [
    "### Visualization 4"
   ]
  },
  {
   "cell_type": "code",
   "execution_count": 189,
   "id": "6ecbb1c4",
   "metadata": {
    "scrolled": true
   },
   "outputs": [
    {
     "name": "stderr",
     "output_type": "stream",
     "text": [
      "C:\\Users\\ryanr\\AppData\\Local\\Temp\\ipykernel_70992\\3979982645.py:1: FutureWarning: The default value of numeric_only in DataFrameGroupBy.mean is deprecated. In a future version, numeric_only will default to False. Either specify numeric_only or select only columns which should be valid for the function.\n",
      "  asthmadf2.groupby([\"State1\"]).mean().plot(kind='pie', y='Percent With Current Asthma', title='Chart of Top Asthma States')\n"
     ]
    },
    {
     "data": {
      "text/plain": [
       "<Axes: title={'center': 'Chart of Top Asthma States'}, ylabel='Percent With Current Asthma'>"
      ]
     },
     "execution_count": 189,
     "metadata": {},
     "output_type": "execute_result"
    },
    {
     "data": {
      "image/png": "[encoded data removed]",
      "text/plain": [
       "<Figure size 640x480 with 1 Axes>"
      ]
     },
     "metadata": {},
     "output_type": "display_data"
    }
   ],
   "source": [
    "#creating pie chart of the averages of the states with the highest asthma percents\n",
    "asthmadf2.groupby([\"State1\"]).mean().plot(kind='pie', y='Percent With Current Asthma', title='Chart of Top Asthma States')"
   ]
  },
  {
   "cell_type": "markdown",
   "id": "95f485e8",
   "metadata": {},
   "source": [
    "Similarly, there are also states that appear higher for having higher air quality values. I will create a new dataframe with just those states.  "
   ]
  },
  {
   "cell_type": "code",
   "execution_count": 185,
   "id": "9662d921",
   "metadata": {},
   "outputs": [],
   "source": [
    "# creating new dataframe with rows that contain string values of states listed\n",
    "airdf = asthmadf[asthmadf[\"State1\"].str.contains('Hawaii|Utah|Nevada|North Carolina|North Dakota')]"
   ]
  },
  {
   "cell_type": "code",
   "execution_count": 186,
   "id": "24df98b8",
   "metadata": {},
   "outputs": [
    {
     "data": {
      "text/html": [
       "<div>\n",
       "<style scoped>\n",
       "    .dataframe tbody tr th:only-of-type {\n",
       "        vertical-align: middle;\n",
       "    }\n",
       "\n",
       "    .dataframe tbody tr th {\n",
       "        vertical-align: top;\n",
       "    }\n",
       "\n",
       "    .dataframe thead th {\n",
       "        text-align: right;\n",
       "    }\n",
       "</style>\n",
       "<table border=\"1\" class=\"dataframe\">\n",
       "  <thead>\n",
       "    <tr style=\"text-align: right;\">\n",
       "      <th></th>\n",
       "      <th>State1</th>\n",
       "      <th>PM2.5</th>\n",
       "      <th>State2</th>\n",
       "      <th>Number Asthma</th>\n",
       "      <th>Percent With Current Asthma</th>\n",
       "      <th>Latitude</th>\n",
       "      <th>Longitude</th>\n",
       "    </tr>\n",
       "  </thead>\n",
       "  <tbody>\n",
       "    <tr>\n",
       "      <th>2373</th>\n",
       "      <td>Hawaii</td>\n",
       "      <td>4920</td>\n",
       "      <td>Hawaii</td>\n",
       "      <td>92849</td>\n",
       "      <td>8.1</td>\n",
       "      <td>21.094318</td>\n",
       "      <td>-157.498337</td>\n",
       "    </tr>\n",
       "    <tr>\n",
       "      <th>2374</th>\n",
       "      <td>Hawaii</td>\n",
       "      <td>4920</td>\n",
       "      <td>Hawaii</td>\n",
       "      <td>92849</td>\n",
       "      <td>8.1</td>\n",
       "      <td>21.094318</td>\n",
       "      <td>-157.498337</td>\n",
       "    </tr>\n",
       "    <tr>\n",
       "      <th>2375</th>\n",
       "      <td>Hawaii</td>\n",
       "      <td>202</td>\n",
       "      <td>Hawaii</td>\n",
       "      <td>92849</td>\n",
       "      <td>8.1</td>\n",
       "      <td>21.094318</td>\n",
       "      <td>-157.498337</td>\n",
       "    </tr>\n",
       "    <tr>\n",
       "      <th>2376</th>\n",
       "      <td>Hawaii</td>\n",
       "      <td>202</td>\n",
       "      <td>Hawaii</td>\n",
       "      <td>92849</td>\n",
       "      <td>8.1</td>\n",
       "      <td>21.094318</td>\n",
       "      <td>-157.498337</td>\n",
       "    </tr>\n",
       "    <tr>\n",
       "      <th>2377</th>\n",
       "      <td>Hawaii</td>\n",
       "      <td>202</td>\n",
       "      <td>Hawaii</td>\n",
       "      <td>92849</td>\n",
       "      <td>8.1</td>\n",
       "      <td>21.094318</td>\n",
       "      <td>-157.498337</td>\n",
       "    </tr>\n",
       "    <tr>\n",
       "      <th>...</th>\n",
       "      <td>...</td>\n",
       "      <td>...</td>\n",
       "      <td>...</td>\n",
       "      <td>...</td>\n",
       "      <td>...</td>\n",
       "      <td>...</td>\n",
       "      <td>...</td>\n",
       "    </tr>\n",
       "    <tr>\n",
       "      <th>9486</th>\n",
       "      <td>Utah</td>\n",
       "      <td>266</td>\n",
       "      <td>Utah</td>\n",
       "      <td>231080</td>\n",
       "      <td>9.7</td>\n",
       "      <td>40.150032</td>\n",
       "      <td>-111.862434</td>\n",
       "    </tr>\n",
       "    <tr>\n",
       "      <th>9487</th>\n",
       "      <td>Utah</td>\n",
       "      <td>266</td>\n",
       "      <td>Utah</td>\n",
       "      <td>231080</td>\n",
       "      <td>9.7</td>\n",
       "      <td>40.150032</td>\n",
       "      <td>-111.862434</td>\n",
       "    </tr>\n",
       "    <tr>\n",
       "      <th>9488</th>\n",
       "      <td>Utah</td>\n",
       "      <td>266</td>\n",
       "      <td>Utah</td>\n",
       "      <td>231080</td>\n",
       "      <td>9.7</td>\n",
       "      <td>40.150032</td>\n",
       "      <td>-111.862434</td>\n",
       "    </tr>\n",
       "    <tr>\n",
       "      <th>9489</th>\n",
       "      <td>Utah</td>\n",
       "      <td>266</td>\n",
       "      <td>Utah</td>\n",
       "      <td>231080</td>\n",
       "      <td>9.7</td>\n",
       "      <td>40.150032</td>\n",
       "      <td>-111.862434</td>\n",
       "    </tr>\n",
       "    <tr>\n",
       "      <th>9490</th>\n",
       "      <td>Utah</td>\n",
       "      <td>266</td>\n",
       "      <td>Utah</td>\n",
       "      <td>231080</td>\n",
       "      <td>9.7</td>\n",
       "      <td>40.150032</td>\n",
       "      <td>-111.862434</td>\n",
       "    </tr>\n",
       "  </tbody>\n",
       "</table>\n",
       "<p>900 rows × 7 columns</p>\n",
       "</div>"
      ],
      "text/plain": [
       "      State1 PM2.5  State2 Number Asthma Percent With Current Asthma  \\\n",
       "2373  Hawaii  4920  Hawaii         92849                         8.1   \n",
       "2374  Hawaii  4920  Hawaii         92849                         8.1   \n",
       "2375  Hawaii   202  Hawaii         92849                         8.1   \n",
       "2376  Hawaii   202  Hawaii         92849                         8.1   \n",
       "2377  Hawaii   202  Hawaii         92849                         8.1   \n",
       "...      ...   ...     ...           ...                         ...   \n",
       "9486    Utah   266    Utah        231080                         9.7   \n",
       "9487    Utah   266    Utah        231080                         9.7   \n",
       "9488    Utah   266    Utah        231080                         9.7   \n",
       "9489    Utah   266    Utah        231080                         9.7   \n",
       "9490    Utah   266    Utah        231080                         9.7   \n",
       "\n",
       "       Latitude   Longitude  \n",
       "2373  21.094318 -157.498337  \n",
       "2374  21.094318 -157.498337  \n",
       "2375  21.094318 -157.498337  \n",
       "2376  21.094318 -157.498337  \n",
       "2377  21.094318 -157.498337  \n",
       "...         ...         ...  \n",
       "9486  40.150032 -111.862434  \n",
       "9487  40.150032 -111.862434  \n",
       "9488  40.150032 -111.862434  \n",
       "9489  40.150032 -111.862434  \n",
       "9490  40.150032 -111.862434  \n",
       "\n",
       "[900 rows x 7 columns]"
      ]
     },
     "execution_count": 186,
     "metadata": {},
     "output_type": "execute_result"
    }
   ],
   "source": [
    "airdf"
   ]
  },
  {
   "cell_type": "markdown",
   "id": "9f2682a0",
   "metadata": {},
   "source": [
    "### Visualization 5"
   ]
  },
  {
   "cell_type": "code",
   "execution_count": 190,
   "id": "4066b094",
   "metadata": {},
   "outputs": [
    {
     "name": "stderr",
     "output_type": "stream",
     "text": [
      "C:\\Users\\ryanr\\AppData\\Local\\Temp\\ipykernel_70992\\1967351320.py:1: FutureWarning: The default value of numeric_only in DataFrameGroupBy.mean is deprecated. In a future version, numeric_only will default to False. Either specify numeric_only or select only columns which should be valid for the function.\n",
      "  airdf.groupby([\"State1\"]).mean().plot(kind='pie', y='PM2.5', title='Chart of Worst Air Quality States')\n"
     ]
    },
    {
     "data": {
      "text/plain": [
       "<Axes: title={'center': 'Chart of Worst Air Quality States'}, ylabel='PM2.5'>"
      ]
     },
     "execution_count": 190,
     "metadata": {},
     "output_type": "execute_result"
    },
    {
     "data": {
      "image/png": "[encoded data removed]",
      "text/plain": [
       "<Figure size 640x480 with 1 Axes>"
      ]
     },
     "metadata": {},
     "output_type": "display_data"
    }
   ],
   "source": [
    "#creating pie chart of the averages of the states with the highest air quality values\n",
    "airdf.groupby([\"State1\"]).mean().plot(kind='pie', y='PM2.5', title='Chart of Worst Air Quality States')"
   ]
  },
  {
   "cell_type": "markdown",
   "id": "426600a0",
   "metadata": {},
   "source": [
    "For this final milestone, I was able to combine all the data I gathered on air quality from two sources with a SQL Union which ensured I had data from all 50 states. I was then able to use a Join to add in the data I sourced on prevalence of asthma in the US. I did mention in the beginning that I was going to attempt to merge my data based on the latitude and longitude data. As the project went on, I could tell right away that that was going to be difficult, so I am glad that I included the state values also, though I made an assumption that using the average coordinates was acceptable for creating the needed state data. \n",
    "\n",
    "As I mentioned previously, all my data appeared to be gathered in an ethical way being from controlled studies or open source sensors. I am dealing with some CDC and EPA (government) data, so there are some regulatory implications that I need to be transparent with. Also, the API source was a private company that sells the sensors the data is gathered from, so I am again transparent that I question if they have any incentive to alter the data. Also, my data came from the date range of 2021 through present-day - I consider this a fairly small date range, however someone with more expertise in air quality or asthma might disagree. One anomaly that I was not able to address with my data is the missing asthma data from the state of Florida. There is data from nearby states, but this is a state with a considerable population and a unique climate, I need to be transparent that it is missing.    \n",
    "\n",
    "I did make another assumption in this milestone when completing the union of the air quality data: I combined what appeared to be similar \"PM2.5\" data into one data column. Truthfully, I would have to complete much more research on air quality monitoring or consult an expert to see if this was acceptable if I were to take this project further or share it more publicly, in order to not risk any ethic violations. \n",
    "\n",
    "Looking back at the initial goal of this project, I feel like I was successful in creating a combined dataset that can be used for further analysis in comparing air quality readings in the United States versus the states with the highest prevalence of asthma. "
   ]
  }
 ],
 "metadata": {
  "kernelspec": {
   "display_name": "Python 3 (ipykernel)",
   "language": "python",
   "name": "python3"
  },
  "language_info": {
   "codemirror_mode": {
    "name": "ipython",
    "version": 3
   },
   "file_extension": ".py",
   "mimetype": "text/x-python",
   "name": "python",
   "nbconvert_exporter": "python",
   "pygments_lexer": "ipython3",
   "version": "3.11.4"
  }
 },
 "nbformat": 4,
 "nbformat_minor": 5
}
