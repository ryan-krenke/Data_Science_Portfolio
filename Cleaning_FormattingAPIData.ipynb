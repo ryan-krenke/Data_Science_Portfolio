{
 "cells": [
  {
   "cell_type": "markdown",
   "id": "decc842d",
   "metadata": {},
   "source": [
    "# Milestone 4\n",
    "# DSC540-T303\n",
    "# Ryan Krenke\n",
    "# 5/19/24"
   ]
  },
  {
   "cell_type": "markdown",
   "id": "8568082b",
   "metadata": {},
   "source": [
    "## Cleaning/Formatting API Data"
   ]
  },
  {
   "cell_type": "code",
   "execution_count": 200,
   "id": "6bbefd74",
   "metadata": {},
   "outputs": [],
   "source": [
    "from bs4 import BeautifulSoup"
   ]
  },
  {
   "cell_type": "code",
   "execution_count": 201,
   "id": "5d9f8a4a",
   "metadata": {},
   "outputs": [],
   "source": [
    "import pandas as pd"
   ]
  },
  {
   "cell_type": "code",
   "execution_count": 202,
   "id": "23fb040a",
   "metadata": {},
   "outputs": [],
   "source": [
    "import csv"
   ]
  },
  {
   "cell_type": "code",
   "execution_count": 203,
   "id": "813c6fe9",
   "metadata": {},
   "outputs": [],
   "source": [
    "import numpy as np"
   ]
  },
  {
   "cell_type": "code",
   "execution_count": 204,
   "id": "c7d14e9d",
   "metadata": {},
   "outputs": [],
   "source": [
    "import requests"
   ]
  },
  {
   "cell_type": "code",
   "execution_count": 205,
   "id": "4e317b2b",
   "metadata": {},
   "outputs": [],
   "source": [
    "from scipy import stats"
   ]
  },
  {
   "cell_type": "code",
   "execution_count": 206,
   "id": "a3288fdd",
   "metadata": {},
   "outputs": [],
   "source": [
    "import urllib.request"
   ]
  },
  {
   "cell_type": "code",
   "execution_count": 207,
   "id": "166baca4",
   "metadata": {},
   "outputs": [],
   "source": [
    "import urllib.parse"
   ]
  },
  {
   "cell_type": "code",
   "execution_count": 208,
   "id": "d7c21236",
   "metadata": {},
   "outputs": [],
   "source": [
    "import urllib.error"
   ]
  },
  {
   "cell_type": "code",
   "execution_count": 209,
   "id": "9dad3703",
   "metadata": {},
   "outputs": [],
   "source": [
    "import json"
   ]
  },
  {
   "cell_type": "code",
   "execution_count": 210,
   "id": "ad62e121",
   "metadata": {},
   "outputs": [],
   "source": [
    "# did not end up using this format because it wasn't working with my API\n",
    "# with open('PurpleAPIKey.json') as p:\n",
    "    # keys = json.load(p)\n",
    "    # purapi = keys['PurpleAPIKey']"
   ]
  },
  {
   "cell_type": "code",
   "execution_count": 211,
   "id": "cbb1ea0a",
   "metadata": {},
   "outputs": [],
   "source": [
    "# {\"PurpleAPIKey\": \"715839BC-F154-11EE-B9F7-42010A80000D\"}  for reference"
   ]
  },
  {
   "cell_type": "code",
   "execution_count": 389,
   "id": "b7285384",
   "metadata": {},
   "outputs": [],
   "source": [
    "serviceurl = 'https://api.purpleair.com/v1/sensors/' # the base for the API url"
   ]
  },
  {
   "cell_type": "code",
   "execution_count": 390,
   "id": "1f351834",
   "metadata": {},
   "outputs": [],
   "source": [
    "# apikey = 'X-API-Key:' + purapi # did not end up using this format because it wasn't working with my API"
   ]
  },
  {
   "cell_type": "code",
   "execution_count": 391,
   "id": "6ea182b2",
   "metadata": {},
   "outputs": [],
   "source": [
    "sensor_indexDE = \"38313/\" # variable for the numeric code for the air quality sensor - found when clicking on sensor on map after the 'select=' in the url"
   ]
  },
  {
   "cell_type": "code",
   "execution_count": 392,
   "id": "cd55038a",
   "metadata": {},
   "outputs": [],
   "source": [
    "fields = \"fields=pm2.5_alt\" # variable for the field of data being returned from the API - pm2.5"
   ]
  },
  {
   "cell_type": "code",
   "execution_count": 393,
   "id": "baedfa45",
   "metadata": {},
   "outputs": [],
   "source": [
    "url = serviceurl + sensor_indexDE + \"history?\" + fields #building the full url request"
   ]
  },
  {
   "cell_type": "code",
   "execution_count": 394,
   "id": "75e03db2",
   "metadata": {},
   "outputs": [],
   "source": [
    "response = requests.get(url, headers={'X-API-Key': '715839BC-F154-11EE-B9F7-42010A80000D'}) #calling the url from the API"
   ]
  },
  {
   "cell_type": "code",
   "execution_count": 395,
   "id": "77cd9401",
   "metadata": {},
   "outputs": [],
   "source": [
    "data1 = response.json() #adding the returned data to a variable"
   ]
  },
  {
   "cell_type": "markdown",
   "id": "9116e39f",
   "metadata": {},
   "source": [
    "### Step 1"
   ]
  },
  {
   "cell_type": "markdown",
   "id": "7f388f18",
   "metadata": {},
   "source": [
    "For my first step, I would like to compile all my data into a dataframe to be able to work with further. I will pull each separate API response from different random states in the US into separate dataframes and then combine them. "
   ]
  },
  {
   "cell_type": "code",
   "execution_count": 396,
   "id": "2a20fd40",
   "metadata": {},
   "outputs": [],
   "source": [
    "#building a dataframe from the data\n",
    "df1 = pd.DataFrame.from_dict(data1, orient='index')\n",
    "df1 = df1.transpose() #shifting the orientation"
   ]
  },
  {
   "cell_type": "code",
   "execution_count": 397,
   "id": "74dcd5ce",
   "metadata": {
    "scrolled": false
   },
   "outputs": [
    {
     "data": {
      "text/html": [
       "<div>\n",
       "<style scoped>\n",
       "    .dataframe tbody tr th:only-of-type {\n",
       "        vertical-align: middle;\n",
       "    }\n",
       "\n",
       "    .dataframe tbody tr th {\n",
       "        vertical-align: top;\n",
       "    }\n",
       "\n",
       "    .dataframe thead th {\n",
       "        text-align: right;\n",
       "    }\n",
       "</style>\n",
       "<table border=\"1\" class=\"dataframe\">\n",
       "  <thead>\n",
       "    <tr style=\"text-align: right;\">\n",
       "      <th></th>\n",
       "      <th>api_version</th>\n",
       "      <th>time_stamp</th>\n",
       "      <th>sensor_index</th>\n",
       "      <th>start_timestamp</th>\n",
       "      <th>end_timestamp</th>\n",
       "      <th>average</th>\n",
       "      <th>private</th>\n",
       "      <th>fields</th>\n",
       "      <th>data</th>\n",
       "    </tr>\n",
       "  </thead>\n",
       "  <tbody>\n",
       "    <tr>\n",
       "      <th>0</th>\n",
       "      <td>V1.0.13-0.0.56</td>\n",
       "      <td>1716144131</td>\n",
       "      <td>38313</td>\n",
       "      <td>1710960131</td>\n",
       "      <td>1716144131</td>\n",
       "      <td>10</td>\n",
       "      <td>0</td>\n",
       "      <td>[time_stamp, pm2.5_alt]</td>\n",
       "      <td>[[1716118200, 9.2], [1716088800, 6.2], [171611...</td>\n",
       "    </tr>\n",
       "  </tbody>\n",
       "</table>\n",
       "</div>"
      ],
      "text/plain": [
       "      api_version  time_stamp sensor_index start_timestamp end_timestamp  \\\n",
       "0  V1.0.13-0.0.56  1716144131        38313      1710960131    1716144131   \n",
       "\n",
       "  average private                   fields  \\\n",
       "0      10       0  [time_stamp, pm2.5_alt]   \n",
       "\n",
       "                                                data  \n",
       "0  [[1716118200, 9.2], [1716088800, 6.2], [171611...  "
      ]
     },
     "execution_count": 397,
     "metadata": {},
     "output_type": "execute_result"
    }
   ],
   "source": [
    "df1"
   ]
  },
  {
   "cell_type": "code",
   "execution_count": 398,
   "id": "4dff937d",
   "metadata": {},
   "outputs": [],
   "source": [
    "df1[\"State\"] = 'Delaware' #adding a column for State to the dataframe with value Delaware"
   ]
  },
  {
   "cell_type": "code",
   "execution_count": 232,
   "id": "70307c34",
   "metadata": {
    "scrolled": true
   },
   "outputs": [
    {
     "data": {
      "text/html": [
       "<div>\n",
       "<style scoped>\n",
       "    .dataframe tbody tr th:only-of-type {\n",
       "        vertical-align: middle;\n",
       "    }\n",
       "\n",
       "    .dataframe tbody tr th {\n",
       "        vertical-align: top;\n",
       "    }\n",
       "\n",
       "    .dataframe thead th {\n",
       "        text-align: right;\n",
       "    }\n",
       "</style>\n",
       "<table border=\"1\" class=\"dataframe\">\n",
       "  <thead>\n",
       "    <tr style=\"text-align: right;\">\n",
       "      <th></th>\n",
       "      <th>api_version</th>\n",
       "      <th>time_stamp</th>\n",
       "      <th>sensor_index</th>\n",
       "      <th>start_timestamp</th>\n",
       "      <th>end_timestamp</th>\n",
       "      <th>average</th>\n",
       "      <th>private</th>\n",
       "      <th>fields</th>\n",
       "      <th>data</th>\n",
       "    </tr>\n",
       "  </thead>\n",
       "  <tbody>\n",
       "    <tr>\n",
       "      <th>0</th>\n",
       "      <td>V1.0.13-0.0.56</td>\n",
       "      <td>1716133351</td>\n",
       "      <td>202541</td>\n",
       "      <td>1710949351</td>\n",
       "      <td>1716133351</td>\n",
       "      <td>10</td>\n",
       "      <td>0</td>\n",
       "      <td>[time_stamp, pm2.5_alt]</td>\n",
       "      <td>[[1716125400, 1.8], [1716122400, 3.4], [171609...</td>\n",
       "    </tr>\n",
       "  </tbody>\n",
       "</table>\n",
       "</div>"
      ],
      "text/plain": [
       "      api_version  time_stamp sensor_index start_timestamp end_timestamp  \\\n",
       "0  V1.0.13-0.0.56  1716133351       202541      1710949351    1716133351   \n",
       "\n",
       "  average private                   fields  \\\n",
       "0      10       0  [time_stamp, pm2.5_alt]   \n",
       "\n",
       "                                                data  \n",
       "0  [[1716125400, 1.8], [1716122400, 3.4], [171609...  "
      ]
     },
     "execution_count": 232,
     "metadata": {},
     "output_type": "execute_result"
    }
   ],
   "source": [
    "#repeating steps of previous API call with new sensor info from Maine\n",
    "sensor_indexME = \"202541/\"\n",
    "url = serviceurl + sensor_indexME + \"history?\" + fields\n",
    "response = requests.get(url, headers={'X-API-Key': '715839BC-F154-11EE-B9F7-42010A80000D'})\n",
    "data2 = response.json()\n",
    "df2 = pd.DataFrame.from_dict(data2, orient='index')\n",
    "df2 = df2.transpose()\n",
    "df2"
   ]
  },
  {
   "cell_type": "code",
   "execution_count": 363,
   "id": "2e074ea6",
   "metadata": {},
   "outputs": [],
   "source": [
    "df2[\"State\"] = 'Maine' #adding a column for State to the dataframe with value Maine"
   ]
  },
  {
   "cell_type": "code",
   "execution_count": 364,
   "id": "c0b893e2",
   "metadata": {},
   "outputs": [
    {
     "data": {
      "text/html": [
       "<div>\n",
       "<style scoped>\n",
       "    .dataframe tbody tr th:only-of-type {\n",
       "        vertical-align: middle;\n",
       "    }\n",
       "\n",
       "    .dataframe tbody tr th {\n",
       "        vertical-align: top;\n",
       "    }\n",
       "\n",
       "    .dataframe thead th {\n",
       "        text-align: right;\n",
       "    }\n",
       "</style>\n",
       "<table border=\"1\" class=\"dataframe\">\n",
       "  <thead>\n",
       "    <tr style=\"text-align: right;\">\n",
       "      <th></th>\n",
       "      <th>api_version</th>\n",
       "      <th>time_stamp</th>\n",
       "      <th>sensor_index</th>\n",
       "      <th>start_timestamp</th>\n",
       "      <th>end_timestamp</th>\n",
       "      <th>average</th>\n",
       "      <th>private</th>\n",
       "      <th>fields</th>\n",
       "      <th>data</th>\n",
       "    </tr>\n",
       "  </thead>\n",
       "  <tbody>\n",
       "    <tr>\n",
       "      <th>0</th>\n",
       "      <td>V1.0.13-0.0.56</td>\n",
       "      <td>1716143912</td>\n",
       "      <td>90725</td>\n",
       "      <td>1710959912</td>\n",
       "      <td>1716143912</td>\n",
       "      <td>10</td>\n",
       "      <td>0</td>\n",
       "      <td>[time_stamp, pm2.5_alt]</td>\n",
       "      <td>[[1716078600, 4.9], [1716110400, 7.7], [171609...</td>\n",
       "    </tr>\n",
       "  </tbody>\n",
       "</table>\n",
       "</div>"
      ],
      "text/plain": [
       "      api_version  time_stamp sensor_index start_timestamp end_timestamp  \\\n",
       "0  V1.0.13-0.0.56  1716143912        90725      1710959912    1716143912   \n",
       "\n",
       "  average private                   fields  \\\n",
       "0      10       0  [time_stamp, pm2.5_alt]   \n",
       "\n",
       "                                                data  \n",
       "0  [[1716078600, 4.9], [1716110400, 7.7], [171609...  "
      ]
     },
     "execution_count": 364,
     "metadata": {},
     "output_type": "execute_result"
    }
   ],
   "source": [
    "#repeating steps of previous API call with new sensor info from Alabama\n",
    "sensor_indexAL = \"90725/\"\n",
    "url = serviceurl + sensor_indexAL + \"history?\" + fields\n",
    "response = requests.get(url, headers={'X-API-Key': '715839BC-F154-11EE-B9F7-42010A80000D'})\n",
    "data3 = response.json()\n",
    "df3 = pd.DataFrame.from_dict(data3, orient='index')\n",
    "df3 = df3.transpose()\n",
    "df3"
   ]
  },
  {
   "cell_type": "code",
   "execution_count": 365,
   "id": "831b812d",
   "metadata": {},
   "outputs": [],
   "source": [
    "df3[\"State\"] = 'Alabama' #adding a column for State to the dataframe with value Alabama"
   ]
  },
  {
   "cell_type": "code",
   "execution_count": 366,
   "id": "5c233f84",
   "metadata": {},
   "outputs": [
    {
     "data": {
      "text/html": [
       "<div>\n",
       "<style scoped>\n",
       "    .dataframe tbody tr th:only-of-type {\n",
       "        vertical-align: middle;\n",
       "    }\n",
       "\n",
       "    .dataframe tbody tr th {\n",
       "        vertical-align: top;\n",
       "    }\n",
       "\n",
       "    .dataframe thead th {\n",
       "        text-align: right;\n",
       "    }\n",
       "</style>\n",
       "<table border=\"1\" class=\"dataframe\">\n",
       "  <thead>\n",
       "    <tr style=\"text-align: right;\">\n",
       "      <th></th>\n",
       "      <th>api_version</th>\n",
       "      <th>time_stamp</th>\n",
       "      <th>sensor_index</th>\n",
       "      <th>start_timestamp</th>\n",
       "      <th>end_timestamp</th>\n",
       "      <th>average</th>\n",
       "      <th>private</th>\n",
       "      <th>fields</th>\n",
       "      <th>data</th>\n",
       "    </tr>\n",
       "  </thead>\n",
       "  <tbody>\n",
       "    <tr>\n",
       "      <th>0</th>\n",
       "      <td>V1.0.13-0.0.56</td>\n",
       "      <td>1716143916</td>\n",
       "      <td>186127</td>\n",
       "      <td>1710959916</td>\n",
       "      <td>1716143916</td>\n",
       "      <td>10</td>\n",
       "      <td>0</td>\n",
       "      <td>[time_stamp, pm2.5_alt]</td>\n",
       "      <td>[[1716078000, 0.7], [1716093600, 1.3], [171612...</td>\n",
       "    </tr>\n",
       "  </tbody>\n",
       "</table>\n",
       "</div>"
      ],
      "text/plain": [
       "      api_version  time_stamp sensor_index start_timestamp end_timestamp  \\\n",
       "0  V1.0.13-0.0.56  1716143916       186127      1710959916    1716143916   \n",
       "\n",
       "  average private                   fields  \\\n",
       "0      10       0  [time_stamp, pm2.5_alt]   \n",
       "\n",
       "                                                data  \n",
       "0  [[1716078000, 0.7], [1716093600, 1.3], [171612...  "
      ]
     },
     "execution_count": 366,
     "metadata": {},
     "output_type": "execute_result"
    }
   ],
   "source": [
    "#repeating steps of previous API call with new sensor info from Minnesota\n",
    "sensor_indexMN = \"186127/\"\n",
    "url = serviceurl + sensor_indexMN + \"history?\" + fields\n",
    "response = requests.get(url, headers={'X-API-Key': '715839BC-F154-11EE-B9F7-42010A80000D'})\n",
    "data4 = response.json()\n",
    "df4 = pd.DataFrame.from_dict(data4, orient='index')\n",
    "df4 = df4.transpose()\n",
    "df4"
   ]
  },
  {
   "cell_type": "code",
   "execution_count": 367,
   "id": "d14f73dd",
   "metadata": {},
   "outputs": [],
   "source": [
    "df4[\"State\"] = 'Minnesota' #adding a column for State to the dataframe with value Minnesota"
   ]
  },
  {
   "cell_type": "code",
   "execution_count": 368,
   "id": "8293ec06",
   "metadata": {},
   "outputs": [
    {
     "data": {
      "text/html": [
       "<div>\n",
       "<style scoped>\n",
       "    .dataframe tbody tr th:only-of-type {\n",
       "        vertical-align: middle;\n",
       "    }\n",
       "\n",
       "    .dataframe tbody tr th {\n",
       "        vertical-align: top;\n",
       "    }\n",
       "\n",
       "    .dataframe thead th {\n",
       "        text-align: right;\n",
       "    }\n",
       "</style>\n",
       "<table border=\"1\" class=\"dataframe\">\n",
       "  <thead>\n",
       "    <tr style=\"text-align: right;\">\n",
       "      <th></th>\n",
       "      <th>api_version</th>\n",
       "      <th>time_stamp</th>\n",
       "      <th>sensor_index</th>\n",
       "      <th>start_timestamp</th>\n",
       "      <th>end_timestamp</th>\n",
       "      <th>average</th>\n",
       "      <th>private</th>\n",
       "      <th>fields</th>\n",
       "      <th>data</th>\n",
       "    </tr>\n",
       "  </thead>\n",
       "  <tbody>\n",
       "    <tr>\n",
       "      <th>0</th>\n",
       "      <td>V1.0.13-0.0.56</td>\n",
       "      <td>1716143922</td>\n",
       "      <td>220207</td>\n",
       "      <td>1710959922</td>\n",
       "      <td>1716143922</td>\n",
       "      <td>10</td>\n",
       "      <td>0</td>\n",
       "      <td>[time_stamp, pm2.5_alt]</td>\n",
       "      <td>[[1716088800, 1.3], [1716084000, 1.1], [171612...</td>\n",
       "    </tr>\n",
       "  </tbody>\n",
       "</table>\n",
       "</div>"
      ],
      "text/plain": [
       "      api_version  time_stamp sensor_index start_timestamp end_timestamp  \\\n",
       "0  V1.0.13-0.0.56  1716143922       220207      1710959922    1716143922   \n",
       "\n",
       "  average private                   fields  \\\n",
       "0      10       0  [time_stamp, pm2.5_alt]   \n",
       "\n",
       "                                                data  \n",
       "0  [[1716088800, 1.3], [1716084000, 1.1], [171612...  "
      ]
     },
     "execution_count": 368,
     "metadata": {},
     "output_type": "execute_result"
    }
   ],
   "source": [
    "#repeating steps of previous API call with new sensor info from Colorado\n",
    "sensor_indexCO = \"220207/\"\n",
    "url = serviceurl + sensor_indexCO + \"history?\" + fields\n",
    "response = requests.get(url, headers={'X-API-Key': '715839BC-F154-11EE-B9F7-42010A80000D'})\n",
    "data5 = response.json()\n",
    "df5 = pd.DataFrame.from_dict(data5, orient='index')\n",
    "df5 = df5.transpose()\n",
    "df5"
   ]
  },
  {
   "cell_type": "code",
   "execution_count": 369,
   "id": "cf26d9bc",
   "metadata": {},
   "outputs": [],
   "source": [
    "df5[\"State\"] = 'Colorado' #adding a column for State to the dataframe with value Colorado"
   ]
  },
  {
   "cell_type": "code",
   "execution_count": 370,
   "id": "48643f97",
   "metadata": {},
   "outputs": [
    {
     "data": {
      "text/html": [
       "<div>\n",
       "<style scoped>\n",
       "    .dataframe tbody tr th:only-of-type {\n",
       "        vertical-align: middle;\n",
       "    }\n",
       "\n",
       "    .dataframe tbody tr th {\n",
       "        vertical-align: top;\n",
       "    }\n",
       "\n",
       "    .dataframe thead th {\n",
       "        text-align: right;\n",
       "    }\n",
       "</style>\n",
       "<table border=\"1\" class=\"dataframe\">\n",
       "  <thead>\n",
       "    <tr style=\"text-align: right;\">\n",
       "      <th></th>\n",
       "      <th>api_version</th>\n",
       "      <th>time_stamp</th>\n",
       "      <th>sensor_index</th>\n",
       "      <th>start_timestamp</th>\n",
       "      <th>end_timestamp</th>\n",
       "      <th>average</th>\n",
       "      <th>private</th>\n",
       "      <th>fields</th>\n",
       "      <th>data</th>\n",
       "    </tr>\n",
       "  </thead>\n",
       "  <tbody>\n",
       "    <tr>\n",
       "      <th>0</th>\n",
       "      <td>V1.0.13-0.0.56</td>\n",
       "      <td>1716143925</td>\n",
       "      <td>111197</td>\n",
       "      <td>1710959925</td>\n",
       "      <td>1716143925</td>\n",
       "      <td>10</td>\n",
       "      <td>0</td>\n",
       "      <td>[time_stamp, pm2.5_alt]</td>\n",
       "      <td>[[1716032400, 36.4], [1716064800, 0.3], [17159...</td>\n",
       "    </tr>\n",
       "  </tbody>\n",
       "</table>\n",
       "</div>"
      ],
      "text/plain": [
       "      api_version  time_stamp sensor_index start_timestamp end_timestamp  \\\n",
       "0  V1.0.13-0.0.56  1716143925       111197      1710959925    1716143925   \n",
       "\n",
       "  average private                   fields  \\\n",
       "0      10       0  [time_stamp, pm2.5_alt]   \n",
       "\n",
       "                                                data  \n",
       "0  [[1716032400, 36.4], [1716064800, 0.3], [17159...  "
      ]
     },
     "execution_count": 370,
     "metadata": {},
     "output_type": "execute_result"
    }
   ],
   "source": [
    "#repeating steps of previous API call with new sensor info from Oregon\n",
    "sensor_indexOR = \"111197/\"\n",
    "url = serviceurl + sensor_indexOR + \"history?\" + fields\n",
    "response = requests.get(url, headers={'X-API-Key': '715839BC-F154-11EE-B9F7-42010A80000D'})\n",
    "data6 = response.json()\n",
    "df6 = pd.DataFrame.from_dict(data6, orient='index')\n",
    "df6 = df6.transpose()\n",
    "df6"
   ]
  },
  {
   "cell_type": "code",
   "execution_count": 371,
   "id": "052aad7d",
   "metadata": {},
   "outputs": [],
   "source": [
    "df6[\"State\"] = 'Oregon' #adding a column for State to the dataframe with value Oregon"
   ]
  },
  {
   "cell_type": "code",
   "execution_count": 372,
   "id": "49a69764",
   "metadata": {},
   "outputs": [
    {
     "data": {
      "text/html": [
       "<div>\n",
       "<style scoped>\n",
       "    .dataframe tbody tr th:only-of-type {\n",
       "        vertical-align: middle;\n",
       "    }\n",
       "\n",
       "    .dataframe tbody tr th {\n",
       "        vertical-align: top;\n",
       "    }\n",
       "\n",
       "    .dataframe thead th {\n",
       "        text-align: right;\n",
       "    }\n",
       "</style>\n",
       "<table border=\"1\" class=\"dataframe\">\n",
       "  <thead>\n",
       "    <tr style=\"text-align: right;\">\n",
       "      <th></th>\n",
       "      <th>api_version</th>\n",
       "      <th>time_stamp</th>\n",
       "      <th>sensor_index</th>\n",
       "      <th>start_timestamp</th>\n",
       "      <th>end_timestamp</th>\n",
       "      <th>average</th>\n",
       "      <th>private</th>\n",
       "      <th>fields</th>\n",
       "      <th>data</th>\n",
       "    </tr>\n",
       "  </thead>\n",
       "  <tbody>\n",
       "    <tr>\n",
       "      <th>0</th>\n",
       "      <td>V1.0.13-0.0.56</td>\n",
       "      <td>1716143928</td>\n",
       "      <td>173577</td>\n",
       "      <td>1710959928</td>\n",
       "      <td>1716143928</td>\n",
       "      <td>10</td>\n",
       "      <td>0</td>\n",
       "      <td>[time_stamp, pm2.5_alt]</td>\n",
       "      <td>[[1716097200, 21.9], [1716087600, 13.0], [1716...</td>\n",
       "    </tr>\n",
       "  </tbody>\n",
       "</table>\n",
       "</div>"
      ],
      "text/plain": [
       "      api_version  time_stamp sensor_index start_timestamp end_timestamp  \\\n",
       "0  V1.0.13-0.0.56  1716143928       173577      1710959928    1716143928   \n",
       "\n",
       "  average private                   fields  \\\n",
       "0      10       0  [time_stamp, pm2.5_alt]   \n",
       "\n",
       "                                                data  \n",
       "0  [[1716097200, 21.9], [1716087600, 13.0], [1716...  "
      ]
     },
     "execution_count": 372,
     "metadata": {},
     "output_type": "execute_result"
    }
   ],
   "source": [
    "#repeating steps of previous API call with new sensor info from California\n",
    "sensor_indexCA = \"173577/\"\n",
    "url = serviceurl + sensor_indexCA + \"history?\" + fields\n",
    "response = requests.get(url, headers={'X-API-Key': '715839BC-F154-11EE-B9F7-42010A80000D'})\n",
    "data7 = response.json()\n",
    "df7 = pd.DataFrame.from_dict(data7, orient='index')\n",
    "df7 = df7.transpose()\n",
    "df7"
   ]
  },
  {
   "cell_type": "code",
   "execution_count": 373,
   "id": "de01d75b",
   "metadata": {},
   "outputs": [],
   "source": [
    "df7[\"State\"] = 'California' #adding a column for State to the dataframe with value California"
   ]
  },
  {
   "cell_type": "code",
   "execution_count": 374,
   "id": "28860747",
   "metadata": {},
   "outputs": [
    {
     "data": {
      "text/html": [
       "<div>\n",
       "<style scoped>\n",
       "    .dataframe tbody tr th:only-of-type {\n",
       "        vertical-align: middle;\n",
       "    }\n",
       "\n",
       "    .dataframe tbody tr th {\n",
       "        vertical-align: top;\n",
       "    }\n",
       "\n",
       "    .dataframe thead th {\n",
       "        text-align: right;\n",
       "    }\n",
       "</style>\n",
       "<table border=\"1\" class=\"dataframe\">\n",
       "  <thead>\n",
       "    <tr style=\"text-align: right;\">\n",
       "      <th></th>\n",
       "      <th>api_version</th>\n",
       "      <th>time_stamp</th>\n",
       "      <th>sensor_index</th>\n",
       "      <th>start_timestamp</th>\n",
       "      <th>end_timestamp</th>\n",
       "      <th>average</th>\n",
       "      <th>private</th>\n",
       "      <th>fields</th>\n",
       "      <th>data</th>\n",
       "    </tr>\n",
       "  </thead>\n",
       "  <tbody>\n",
       "    <tr>\n",
       "      <th>0</th>\n",
       "      <td>V1.0.13-0.0.56</td>\n",
       "      <td>1716143931</td>\n",
       "      <td>87099</td>\n",
       "      <td>1710959931</td>\n",
       "      <td>1716143931</td>\n",
       "      <td>10</td>\n",
       "      <td>0</td>\n",
       "      <td>[time_stamp, pm2.5_alt]</td>\n",
       "      <td>[[1716117000, 35.1], [1716106200, 27.2], [1716...</td>\n",
       "    </tr>\n",
       "  </tbody>\n",
       "</table>\n",
       "</div>"
      ],
      "text/plain": [
       "      api_version  time_stamp sensor_index start_timestamp end_timestamp  \\\n",
       "0  V1.0.13-0.0.56  1716143931        87099      1710959931    1716143931   \n",
       "\n",
       "  average private                   fields  \\\n",
       "0      10       0  [time_stamp, pm2.5_alt]   \n",
       "\n",
       "                                                data  \n",
       "0  [[1716117000, 35.1], [1716106200, 27.2], [1716...  "
      ]
     },
     "execution_count": 374,
     "metadata": {},
     "output_type": "execute_result"
    }
   ],
   "source": [
    "#repeating steps of previous API call with new sensor info from Texas\n",
    "sensor_indexTX = \"87099/\"\n",
    "url = serviceurl + sensor_indexTX + \"history?\" + fields\n",
    "response = requests.get(url, headers={'X-API-Key': '715839BC-F154-11EE-B9F7-42010A80000D'})\n",
    "data8 = response.json()\n",
    "df8 = pd.DataFrame.from_dict(data8, orient='index')\n",
    "df8 = df8.transpose()\n",
    "df8"
   ]
  },
  {
   "cell_type": "code",
   "execution_count": 375,
   "id": "b4d34801",
   "metadata": {},
   "outputs": [],
   "source": [
    "df8[\"State\"] = 'Texas' #adding a column for State to the dataframe with value Texas"
   ]
  },
  {
   "cell_type": "code",
   "execution_count": 435,
   "id": "99820a5b",
   "metadata": {},
   "outputs": [],
   "source": [
    "purpleairdf = pd.concat([df1, df2, df3, df4, df5, df6, df7, df8]) #adding all the previous dfs together with concat function into new df"
   ]
  },
  {
   "cell_type": "code",
   "execution_count": 436,
   "id": "8d67eb5d",
   "metadata": {},
   "outputs": [
    {
     "data": {
      "text/html": [
       "<div>\n",
       "<style scoped>\n",
       "    .dataframe tbody tr th:only-of-type {\n",
       "        vertical-align: middle;\n",
       "    }\n",
       "\n",
       "    .dataframe tbody tr th {\n",
       "        vertical-align: top;\n",
       "    }\n",
       "\n",
       "    .dataframe thead th {\n",
       "        text-align: right;\n",
       "    }\n",
       "</style>\n",
       "<table border=\"1\" class=\"dataframe\">\n",
       "  <thead>\n",
       "    <tr style=\"text-align: right;\">\n",
       "      <th></th>\n",
       "      <th>api_version</th>\n",
       "      <th>time_stamp</th>\n",
       "      <th>sensor_index</th>\n",
       "      <th>start_timestamp</th>\n",
       "      <th>end_timestamp</th>\n",
       "      <th>average</th>\n",
       "      <th>private</th>\n",
       "      <th>fields</th>\n",
       "      <th>data</th>\n",
       "      <th>State</th>\n",
       "    </tr>\n",
       "  </thead>\n",
       "  <tbody>\n",
       "    <tr>\n",
       "      <th>0</th>\n",
       "      <td>V1.0.13-0.0.56</td>\n",
       "      <td>1716144131</td>\n",
       "      <td>38313</td>\n",
       "      <td>1710960131</td>\n",
       "      <td>1716144131</td>\n",
       "      <td>10</td>\n",
       "      <td>0</td>\n",
       "      <td>[time_stamp, pm2.5_alt]</td>\n",
       "      <td>[[1716118200, 9.2], [1716088800, 6.2], [171611...</td>\n",
       "      <td>Delaware</td>\n",
       "    </tr>\n",
       "    <tr>\n",
       "      <th>0</th>\n",
       "      <td>V1.0.13-0.0.56</td>\n",
       "      <td>1716133351</td>\n",
       "      <td>202541</td>\n",
       "      <td>1710949351</td>\n",
       "      <td>1716133351</td>\n",
       "      <td>10</td>\n",
       "      <td>0</td>\n",
       "      <td>[time_stamp, pm2.5_alt]</td>\n",
       "      <td>[[1716125400, 1.8], [1716122400, 3.4], [171609...</td>\n",
       "      <td>Maine</td>\n",
       "    </tr>\n",
       "    <tr>\n",
       "      <th>0</th>\n",
       "      <td>V1.0.13-0.0.56</td>\n",
       "      <td>1716143912</td>\n",
       "      <td>90725</td>\n",
       "      <td>1710959912</td>\n",
       "      <td>1716143912</td>\n",
       "      <td>10</td>\n",
       "      <td>0</td>\n",
       "      <td>[time_stamp, pm2.5_alt]</td>\n",
       "      <td>[[1716078600, 4.9], [1716110400, 7.7], [171609...</td>\n",
       "      <td>Alabama</td>\n",
       "    </tr>\n",
       "    <tr>\n",
       "      <th>0</th>\n",
       "      <td>V1.0.13-0.0.56</td>\n",
       "      <td>1716143916</td>\n",
       "      <td>186127</td>\n",
       "      <td>1710959916</td>\n",
       "      <td>1716143916</td>\n",
       "      <td>10</td>\n",
       "      <td>0</td>\n",
       "      <td>[time_stamp, pm2.5_alt]</td>\n",
       "      <td>[[1716078000, 0.7], [1716093600, 1.3], [171612...</td>\n",
       "      <td>Minnesota</td>\n",
       "    </tr>\n",
       "    <tr>\n",
       "      <th>0</th>\n",
       "      <td>V1.0.13-0.0.56</td>\n",
       "      <td>1716143922</td>\n",
       "      <td>220207</td>\n",
       "      <td>1710959922</td>\n",
       "      <td>1716143922</td>\n",
       "      <td>10</td>\n",
       "      <td>0</td>\n",
       "      <td>[time_stamp, pm2.5_alt]</td>\n",
       "      <td>[[1716088800, 1.3], [1716084000, 1.1], [171612...</td>\n",
       "      <td>Colorado</td>\n",
       "    </tr>\n",
       "    <tr>\n",
       "      <th>0</th>\n",
       "      <td>V1.0.13-0.0.56</td>\n",
       "      <td>1716143925</td>\n",
       "      <td>111197</td>\n",
       "      <td>1710959925</td>\n",
       "      <td>1716143925</td>\n",
       "      <td>10</td>\n",
       "      <td>0</td>\n",
       "      <td>[time_stamp, pm2.5_alt]</td>\n",
       "      <td>[[1716032400, 36.4], [1716064800, 0.3], [17159...</td>\n",
       "      <td>Oregon</td>\n",
       "    </tr>\n",
       "    <tr>\n",
       "      <th>0</th>\n",
       "      <td>V1.0.13-0.0.56</td>\n",
       "      <td>1716143928</td>\n",
       "      <td>173577</td>\n",
       "      <td>1710959928</td>\n",
       "      <td>1716143928</td>\n",
       "      <td>10</td>\n",
       "      <td>0</td>\n",
       "      <td>[time_stamp, pm2.5_alt]</td>\n",
       "      <td>[[1716097200, 21.9], [1716087600, 13.0], [1716...</td>\n",
       "      <td>California</td>\n",
       "    </tr>\n",
       "    <tr>\n",
       "      <th>0</th>\n",
       "      <td>V1.0.13-0.0.56</td>\n",
       "      <td>1716143931</td>\n",
       "      <td>87099</td>\n",
       "      <td>1710959931</td>\n",
       "      <td>1716143931</td>\n",
       "      <td>10</td>\n",
       "      <td>0</td>\n",
       "      <td>[time_stamp, pm2.5_alt]</td>\n",
       "      <td>[[1716117000, 35.1], [1716106200, 27.2], [1716...</td>\n",
       "      <td>Texas</td>\n",
       "    </tr>\n",
       "  </tbody>\n",
       "</table>\n",
       "</div>"
      ],
      "text/plain": [
       "      api_version  time_stamp sensor_index start_timestamp end_timestamp  \\\n",
       "0  V1.0.13-0.0.56  1716144131        38313      1710960131    1716144131   \n",
       "0  V1.0.13-0.0.56  1716133351       202541      1710949351    1716133351   \n",
       "0  V1.0.13-0.0.56  1716143912        90725      1710959912    1716143912   \n",
       "0  V1.0.13-0.0.56  1716143916       186127      1710959916    1716143916   \n",
       "0  V1.0.13-0.0.56  1716143922       220207      1710959922    1716143922   \n",
       "0  V1.0.13-0.0.56  1716143925       111197      1710959925    1716143925   \n",
       "0  V1.0.13-0.0.56  1716143928       173577      1710959928    1716143928   \n",
       "0  V1.0.13-0.0.56  1716143931        87099      1710959931    1716143931   \n",
       "\n",
       "  average private                   fields  \\\n",
       "0      10       0  [time_stamp, pm2.5_alt]   \n",
       "0      10       0  [time_stamp, pm2.5_alt]   \n",
       "0      10       0  [time_stamp, pm2.5_alt]   \n",
       "0      10       0  [time_stamp, pm2.5_alt]   \n",
       "0      10       0  [time_stamp, pm2.5_alt]   \n",
       "0      10       0  [time_stamp, pm2.5_alt]   \n",
       "0      10       0  [time_stamp, pm2.5_alt]   \n",
       "0      10       0  [time_stamp, pm2.5_alt]   \n",
       "\n",
       "                                                data       State  \n",
       "0  [[1716118200, 9.2], [1716088800, 6.2], [171611...    Delaware  \n",
       "0  [[1716125400, 1.8], [1716122400, 3.4], [171609...       Maine  \n",
       "0  [[1716078600, 4.9], [1716110400, 7.7], [171609...     Alabama  \n",
       "0  [[1716078000, 0.7], [1716093600, 1.3], [171612...   Minnesota  \n",
       "0  [[1716088800, 1.3], [1716084000, 1.1], [171612...    Colorado  \n",
       "0  [[1716032400, 36.4], [1716064800, 0.3], [17159...      Oregon  \n",
       "0  [[1716097200, 21.9], [1716087600, 13.0], [1716...  California  \n",
       "0  [[1716117000, 35.1], [1716106200, 27.2], [1716...       Texas  "
      ]
     },
     "execution_count": 436,
     "metadata": {},
     "output_type": "execute_result"
    }
   ],
   "source": [
    "purpleairdf"
   ]
  },
  {
   "cell_type": "markdown",
   "id": "d16f8ac4",
   "metadata": {},
   "source": [
    "### Step 2"
   ]
  },
  {
   "cell_type": "markdown",
   "id": "f9c4b1a9",
   "metadata": {},
   "source": [
    "I only need to work with the State and data columns, so I will only keep those columns. "
   ]
  },
  {
   "cell_type": "code",
   "execution_count": 437,
   "id": "95db9502",
   "metadata": {},
   "outputs": [],
   "source": [
    "purpleairdf2 = purpleairdf[['State', 'data']] #creating new df with only the state and data columns"
   ]
  },
  {
   "cell_type": "code",
   "execution_count": 438,
   "id": "90da8830",
   "metadata": {},
   "outputs": [
    {
     "data": {
      "text/html": [
       "<div>\n",
       "<style scoped>\n",
       "    .dataframe tbody tr th:only-of-type {\n",
       "        vertical-align: middle;\n",
       "    }\n",
       "\n",
       "    .dataframe tbody tr th {\n",
       "        vertical-align: top;\n",
       "    }\n",
       "\n",
       "    .dataframe thead th {\n",
       "        text-align: right;\n",
       "    }\n",
       "</style>\n",
       "<table border=\"1\" class=\"dataframe\">\n",
       "  <thead>\n",
       "    <tr style=\"text-align: right;\">\n",
       "      <th></th>\n",
       "      <th>State</th>\n",
       "      <th>data</th>\n",
       "    </tr>\n",
       "  </thead>\n",
       "  <tbody>\n",
       "    <tr>\n",
       "      <th>0</th>\n",
       "      <td>Delaware</td>\n",
       "      <td>[[1716118200, 9.2], [1716088800, 6.2], [171611...</td>\n",
       "    </tr>\n",
       "    <tr>\n",
       "      <th>0</th>\n",
       "      <td>Maine</td>\n",
       "      <td>[[1716125400, 1.8], [1716122400, 3.4], [171609...</td>\n",
       "    </tr>\n",
       "    <tr>\n",
       "      <th>0</th>\n",
       "      <td>Alabama</td>\n",
       "      <td>[[1716078600, 4.9], [1716110400, 7.7], [171609...</td>\n",
       "    </tr>\n",
       "    <tr>\n",
       "      <th>0</th>\n",
       "      <td>Minnesota</td>\n",
       "      <td>[[1716078000, 0.7], [1716093600, 1.3], [171612...</td>\n",
       "    </tr>\n",
       "    <tr>\n",
       "      <th>0</th>\n",
       "      <td>Colorado</td>\n",
       "      <td>[[1716088800, 1.3], [1716084000, 1.1], [171612...</td>\n",
       "    </tr>\n",
       "    <tr>\n",
       "      <th>0</th>\n",
       "      <td>Oregon</td>\n",
       "      <td>[[1716032400, 36.4], [1716064800, 0.3], [17159...</td>\n",
       "    </tr>\n",
       "    <tr>\n",
       "      <th>0</th>\n",
       "      <td>California</td>\n",
       "      <td>[[1716097200, 21.9], [1716087600, 13.0], [1716...</td>\n",
       "    </tr>\n",
       "    <tr>\n",
       "      <th>0</th>\n",
       "      <td>Texas</td>\n",
       "      <td>[[1716117000, 35.1], [1716106200, 27.2], [1716...</td>\n",
       "    </tr>\n",
       "  </tbody>\n",
       "</table>\n",
       "</div>"
      ],
      "text/plain": [
       "        State                                               data\n",
       "0    Delaware  [[1716118200, 9.2], [1716088800, 6.2], [171611...\n",
       "0       Maine  [[1716125400, 1.8], [1716122400, 3.4], [171609...\n",
       "0     Alabama  [[1716078600, 4.9], [1716110400, 7.7], [171609...\n",
       "0   Minnesota  [[1716078000, 0.7], [1716093600, 1.3], [171612...\n",
       "0    Colorado  [[1716088800, 1.3], [1716084000, 1.1], [171612...\n",
       "0      Oregon  [[1716032400, 36.4], [1716064800, 0.3], [17159...\n",
       "0  California  [[1716097200, 21.9], [1716087600, 13.0], [1716...\n",
       "0       Texas  [[1716117000, 35.1], [1716106200, 27.2], [1716..."
      ]
     },
     "execution_count": 438,
     "metadata": {},
     "output_type": "execute_result"
    }
   ],
   "source": [
    "purpleairdf2"
   ]
  },
  {
   "cell_type": "markdown",
   "id": "4adf538d",
   "metadata": {},
   "source": [
    "### Step 3"
   ]
  },
  {
   "cell_type": "markdown",
   "id": "3f921ec9",
   "metadata": {},
   "source": [
    "The data in the 'data' column contains lots of data in list format. I need to separate those list values out into different rows. "
   ]
  },
  {
   "cell_type": "code",
   "execution_count": 443,
   "id": "3b2ba91f",
   "metadata": {},
   "outputs": [],
   "source": [
    "# using the explode function to expand the values in the list of the data column into separate values in new rows\n",
    "purpleairdf3 = purpleairdf2.explode('data')"
   ]
  },
  {
   "cell_type": "code",
   "execution_count": 444,
   "id": "8652d15a",
   "metadata": {},
   "outputs": [
    {
     "data": {
      "text/html": [
       "<div>\n",
       "<style scoped>\n",
       "    .dataframe tbody tr th:only-of-type {\n",
       "        vertical-align: middle;\n",
       "    }\n",
       "\n",
       "    .dataframe tbody tr th {\n",
       "        vertical-align: top;\n",
       "    }\n",
       "\n",
       "    .dataframe thead th {\n",
       "        text-align: right;\n",
       "    }\n",
       "</style>\n",
       "<table border=\"1\" class=\"dataframe\">\n",
       "  <thead>\n",
       "    <tr style=\"text-align: right;\">\n",
       "      <th></th>\n",
       "      <th>State</th>\n",
       "      <th>data</th>\n",
       "    </tr>\n",
       "  </thead>\n",
       "  <tbody>\n",
       "    <tr>\n",
       "      <th>0</th>\n",
       "      <td>Delaware</td>\n",
       "      <td>[1716118200, 9.2]</td>\n",
       "    </tr>\n",
       "    <tr>\n",
       "      <th>0</th>\n",
       "      <td>Delaware</td>\n",
       "      <td>[1716088800, 6.2]</td>\n",
       "    </tr>\n",
       "    <tr>\n",
       "      <th>0</th>\n",
       "      <td>Delaware</td>\n",
       "      <td>[1716114600, 12.8]</td>\n",
       "    </tr>\n",
       "    <tr>\n",
       "      <th>0</th>\n",
       "      <td>Delaware</td>\n",
       "      <td>[1716117600, 10.3]</td>\n",
       "    </tr>\n",
       "    <tr>\n",
       "      <th>0</th>\n",
       "      <td>Delaware</td>\n",
       "      <td>[1713544800, 2.1]</td>\n",
       "    </tr>\n",
       "    <tr>\n",
       "      <th>...</th>\n",
       "      <td>...</td>\n",
       "      <td>...</td>\n",
       "    </tr>\n",
       "    <tr>\n",
       "      <th>0</th>\n",
       "      <td>Texas</td>\n",
       "      <td>[1714678200, 9.0]</td>\n",
       "    </tr>\n",
       "    <tr>\n",
       "      <th>0</th>\n",
       "      <td>Texas</td>\n",
       "      <td>[1714662000, 6.7]</td>\n",
       "    </tr>\n",
       "    <tr>\n",
       "      <th>0</th>\n",
       "      <td>Texas</td>\n",
       "      <td>[1714683600, 5.0]</td>\n",
       "    </tr>\n",
       "    <tr>\n",
       "      <th>0</th>\n",
       "      <td>Texas</td>\n",
       "      <td>[1714693200, 5.4]</td>\n",
       "    </tr>\n",
       "    <tr>\n",
       "      <th>0</th>\n",
       "      <td>Texas</td>\n",
       "      <td>[1714618200, 12.0]</td>\n",
       "    </tr>\n",
       "  </tbody>\n",
       "</table>\n",
       "<p>63965 rows × 2 columns</p>\n",
       "</div>"
      ],
      "text/plain": [
       "       State                data\n",
       "0   Delaware   [1716118200, 9.2]\n",
       "0   Delaware   [1716088800, 6.2]\n",
       "0   Delaware  [1716114600, 12.8]\n",
       "0   Delaware  [1716117600, 10.3]\n",
       "0   Delaware   [1713544800, 2.1]\n",
       "..       ...                 ...\n",
       "0      Texas   [1714678200, 9.0]\n",
       "0      Texas   [1714662000, 6.7]\n",
       "0      Texas   [1714683600, 5.0]\n",
       "0      Texas   [1714693200, 5.4]\n",
       "0      Texas  [1714618200, 12.0]\n",
       "\n",
       "[63965 rows x 2 columns]"
      ]
     },
     "execution_count": 444,
     "metadata": {},
     "output_type": "execute_result"
    }
   ],
   "source": [
    "purpleairdf3"
   ]
  },
  {
   "cell_type": "markdown",
   "id": "caf8362b",
   "metadata": {},
   "source": [
    "### Step 4"
   ]
  },
  {
   "cell_type": "markdown",
   "id": "74a0f235",
   "metadata": {},
   "source": [
    "Now that the lists are separate, there is still unique data combined in the data column (both a date value and the actual air quality data). I need to remove the brackets and whitespace before splitting those unique values apart. "
   ]
  },
  {
   "cell_type": "code",
   "execution_count": 445,
   "id": "41d3a1d4",
   "metadata": {},
   "outputs": [],
   "source": [
    "purpleairdf3['data'] = purpleairdf3['data'].astype(str) #making sure data column is of string type"
   ]
  },
  {
   "cell_type": "code",
   "execution_count": 447,
   "id": "ec173cdc",
   "metadata": {
    "scrolled": true
   },
   "outputs": [],
   "source": [
    "purpleairdf3['data'] = purpleairdf3['data'].str.strip('[]') #removing brackets"
   ]
  },
  {
   "cell_type": "code",
   "execution_count": 448,
   "id": "d6b81889",
   "metadata": {},
   "outputs": [],
   "source": [
    "purpleairdf3['data'] = purpleairdf3['data'].str.replace(' ','') #replacing whitespace"
   ]
  },
  {
   "cell_type": "code",
   "execution_count": 449,
   "id": "78cee7b3",
   "metadata": {},
   "outputs": [
    {
     "data": {
      "text/html": [
       "<div>\n",
       "<style scoped>\n",
       "    .dataframe tbody tr th:only-of-type {\n",
       "        vertical-align: middle;\n",
       "    }\n",
       "\n",
       "    .dataframe tbody tr th {\n",
       "        vertical-align: top;\n",
       "    }\n",
       "\n",
       "    .dataframe thead th {\n",
       "        text-align: right;\n",
       "    }\n",
       "</style>\n",
       "<table border=\"1\" class=\"dataframe\">\n",
       "  <thead>\n",
       "    <tr style=\"text-align: right;\">\n",
       "      <th></th>\n",
       "      <th>State</th>\n",
       "      <th>data</th>\n",
       "    </tr>\n",
       "  </thead>\n",
       "  <tbody>\n",
       "    <tr>\n",
       "      <th>0</th>\n",
       "      <td>Delaware</td>\n",
       "      <td>1716118200,9.2</td>\n",
       "    </tr>\n",
       "    <tr>\n",
       "      <th>0</th>\n",
       "      <td>Delaware</td>\n",
       "      <td>1716088800,6.2</td>\n",
       "    </tr>\n",
       "    <tr>\n",
       "      <th>0</th>\n",
       "      <td>Delaware</td>\n",
       "      <td>1716114600,12.8</td>\n",
       "    </tr>\n",
       "    <tr>\n",
       "      <th>0</th>\n",
       "      <td>Delaware</td>\n",
       "      <td>1716117600,10.3</td>\n",
       "    </tr>\n",
       "    <tr>\n",
       "      <th>0</th>\n",
       "      <td>Delaware</td>\n",
       "      <td>1713544800,2.1</td>\n",
       "    </tr>\n",
       "    <tr>\n",
       "      <th>...</th>\n",
       "      <td>...</td>\n",
       "      <td>...</td>\n",
       "    </tr>\n",
       "    <tr>\n",
       "      <th>0</th>\n",
       "      <td>Texas</td>\n",
       "      <td>1714678200,9.0</td>\n",
       "    </tr>\n",
       "    <tr>\n",
       "      <th>0</th>\n",
       "      <td>Texas</td>\n",
       "      <td>1714662000,6.7</td>\n",
       "    </tr>\n",
       "    <tr>\n",
       "      <th>0</th>\n",
       "      <td>Texas</td>\n",
       "      <td>1714683600,5.0</td>\n",
       "    </tr>\n",
       "    <tr>\n",
       "      <th>0</th>\n",
       "      <td>Texas</td>\n",
       "      <td>1714693200,5.4</td>\n",
       "    </tr>\n",
       "    <tr>\n",
       "      <th>0</th>\n",
       "      <td>Texas</td>\n",
       "      <td>1714618200,12.0</td>\n",
       "    </tr>\n",
       "  </tbody>\n",
       "</table>\n",
       "<p>63965 rows × 2 columns</p>\n",
       "</div>"
      ],
      "text/plain": [
       "       State             data\n",
       "0   Delaware   1716118200,9.2\n",
       "0   Delaware   1716088800,6.2\n",
       "0   Delaware  1716114600,12.8\n",
       "0   Delaware  1716117600,10.3\n",
       "0   Delaware   1713544800,2.1\n",
       "..       ...              ...\n",
       "0      Texas   1714678200,9.0\n",
       "0      Texas   1714662000,6.7\n",
       "0      Texas   1714683600,5.0\n",
       "0      Texas   1714693200,5.4\n",
       "0      Texas  1714618200,12.0\n",
       "\n",
       "[63965 rows x 2 columns]"
      ]
     },
     "execution_count": 449,
     "metadata": {},
     "output_type": "execute_result"
    }
   ],
   "source": [
    "purpleairdf3"
   ]
  },
  {
   "cell_type": "markdown",
   "id": "286c8f2a",
   "metadata": {},
   "source": [
    "### Step 5"
   ]
  },
  {
   "cell_type": "markdown",
   "id": "efb3db4e",
   "metadata": {},
   "source": [
    "Now that only a comma separates the unique values, I can split the data on the comma delimeters. "
   ]
  },
  {
   "cell_type": "code",
   "execution_count": 451,
   "id": "a1202e28",
   "metadata": {},
   "outputs": [],
   "source": [
    "purpleairdf3[['Date', 'PM2.5']] = purpleairdf3.data.str.split(\",\", expand=True) #splitting data in data column at the comma delimeter"
   ]
  },
  {
   "cell_type": "code",
   "execution_count": 452,
   "id": "1ad69b79",
   "metadata": {},
   "outputs": [
    {
     "data": {
      "text/html": [
       "<div>\n",
       "<style scoped>\n",
       "    .dataframe tbody tr th:only-of-type {\n",
       "        vertical-align: middle;\n",
       "    }\n",
       "\n",
       "    .dataframe tbody tr th {\n",
       "        vertical-align: top;\n",
       "    }\n",
       "\n",
       "    .dataframe thead th {\n",
       "        text-align: right;\n",
       "    }\n",
       "</style>\n",
       "<table border=\"1\" class=\"dataframe\">\n",
       "  <thead>\n",
       "    <tr style=\"text-align: right;\">\n",
       "      <th></th>\n",
       "      <th>State</th>\n",
       "      <th>data</th>\n",
       "      <th>Date</th>\n",
       "      <th>PM2.5</th>\n",
       "    </tr>\n",
       "  </thead>\n",
       "  <tbody>\n",
       "    <tr>\n",
       "      <th>0</th>\n",
       "      <td>Delaware</td>\n",
       "      <td>1716118200,9.2</td>\n",
       "      <td>1716118200</td>\n",
       "      <td>9.2</td>\n",
       "    </tr>\n",
       "    <tr>\n",
       "      <th>0</th>\n",
       "      <td>Delaware</td>\n",
       "      <td>1716088800,6.2</td>\n",
       "      <td>1716088800</td>\n",
       "      <td>6.2</td>\n",
       "    </tr>\n",
       "    <tr>\n",
       "      <th>0</th>\n",
       "      <td>Delaware</td>\n",
       "      <td>1716114600,12.8</td>\n",
       "      <td>1716114600</td>\n",
       "      <td>12.8</td>\n",
       "    </tr>\n",
       "    <tr>\n",
       "      <th>0</th>\n",
       "      <td>Delaware</td>\n",
       "      <td>1716117600,10.3</td>\n",
       "      <td>1716117600</td>\n",
       "      <td>10.3</td>\n",
       "    </tr>\n",
       "    <tr>\n",
       "      <th>0</th>\n",
       "      <td>Delaware</td>\n",
       "      <td>1713544800,2.1</td>\n",
       "      <td>1713544800</td>\n",
       "      <td>2.1</td>\n",
       "    </tr>\n",
       "    <tr>\n",
       "      <th>...</th>\n",
       "      <td>...</td>\n",
       "      <td>...</td>\n",
       "      <td>...</td>\n",
       "      <td>...</td>\n",
       "    </tr>\n",
       "    <tr>\n",
       "      <th>0</th>\n",
       "      <td>Texas</td>\n",
       "      <td>1714678200,9.0</td>\n",
       "      <td>1714678200</td>\n",
       "      <td>9.0</td>\n",
       "    </tr>\n",
       "    <tr>\n",
       "      <th>0</th>\n",
       "      <td>Texas</td>\n",
       "      <td>1714662000,6.7</td>\n",
       "      <td>1714662000</td>\n",
       "      <td>6.7</td>\n",
       "    </tr>\n",
       "    <tr>\n",
       "      <th>0</th>\n",
       "      <td>Texas</td>\n",
       "      <td>1714683600,5.0</td>\n",
       "      <td>1714683600</td>\n",
       "      <td>5.0</td>\n",
       "    </tr>\n",
       "    <tr>\n",
       "      <th>0</th>\n",
       "      <td>Texas</td>\n",
       "      <td>1714693200,5.4</td>\n",
       "      <td>1714693200</td>\n",
       "      <td>5.4</td>\n",
       "    </tr>\n",
       "    <tr>\n",
       "      <th>0</th>\n",
       "      <td>Texas</td>\n",
       "      <td>1714618200,12.0</td>\n",
       "      <td>1714618200</td>\n",
       "      <td>12.0</td>\n",
       "    </tr>\n",
       "  </tbody>\n",
       "</table>\n",
       "<p>63965 rows × 4 columns</p>\n",
       "</div>"
      ],
      "text/plain": [
       "       State             data        Date PM2.5\n",
       "0   Delaware   1716118200,9.2  1716118200   9.2\n",
       "0   Delaware   1716088800,6.2  1716088800   6.2\n",
       "0   Delaware  1716114600,12.8  1716114600  12.8\n",
       "0   Delaware  1716117600,10.3  1716117600  10.3\n",
       "0   Delaware   1713544800,2.1  1713544800   2.1\n",
       "..       ...              ...         ...   ...\n",
       "0      Texas   1714678200,9.0  1714678200   9.0\n",
       "0      Texas   1714662000,6.7  1714662000   6.7\n",
       "0      Texas   1714683600,5.0  1714683600   5.0\n",
       "0      Texas   1714693200,5.4  1714693200   5.4\n",
       "0      Texas  1714618200,12.0  1714618200  12.0\n",
       "\n",
       "[63965 rows x 4 columns]"
      ]
     },
     "execution_count": 452,
     "metadata": {},
     "output_type": "execute_result"
    }
   ],
   "source": [
    "purpleairdf3"
   ]
  },
  {
   "cell_type": "markdown",
   "id": "d6aa65e9",
   "metadata": {},
   "source": [
    "### Step 6"
   ]
  },
  {
   "cell_type": "code",
   "execution_count": 454,
   "id": "128d5ea5",
   "metadata": {},
   "outputs": [],
   "source": [
    "purpleairdf3 = purpleairdf3.drop('data', axis=1) #removing the original data column"
   ]
  },
  {
   "cell_type": "code",
   "execution_count": 455,
   "id": "a2b58faa",
   "metadata": {},
   "outputs": [
    {
     "data": {
      "text/html": [
       "<div>\n",
       "<style scoped>\n",
       "    .dataframe tbody tr th:only-of-type {\n",
       "        vertical-align: middle;\n",
       "    }\n",
       "\n",
       "    .dataframe tbody tr th {\n",
       "        vertical-align: top;\n",
       "    }\n",
       "\n",
       "    .dataframe thead th {\n",
       "        text-align: right;\n",
       "    }\n",
       "</style>\n",
       "<table border=\"1\" class=\"dataframe\">\n",
       "  <thead>\n",
       "    <tr style=\"text-align: right;\">\n",
       "      <th></th>\n",
       "      <th>State</th>\n",
       "      <th>Date</th>\n",
       "      <th>PM2.5</th>\n",
       "    </tr>\n",
       "  </thead>\n",
       "  <tbody>\n",
       "    <tr>\n",
       "      <th>0</th>\n",
       "      <td>Delaware</td>\n",
       "      <td>1716118200</td>\n",
       "      <td>9.2</td>\n",
       "    </tr>\n",
       "    <tr>\n",
       "      <th>0</th>\n",
       "      <td>Delaware</td>\n",
       "      <td>1716088800</td>\n",
       "      <td>6.2</td>\n",
       "    </tr>\n",
       "    <tr>\n",
       "      <th>0</th>\n",
       "      <td>Delaware</td>\n",
       "      <td>1716114600</td>\n",
       "      <td>12.8</td>\n",
       "    </tr>\n",
       "    <tr>\n",
       "      <th>0</th>\n",
       "      <td>Delaware</td>\n",
       "      <td>1716117600</td>\n",
       "      <td>10.3</td>\n",
       "    </tr>\n",
       "    <tr>\n",
       "      <th>0</th>\n",
       "      <td>Delaware</td>\n",
       "      <td>1713544800</td>\n",
       "      <td>2.1</td>\n",
       "    </tr>\n",
       "    <tr>\n",
       "      <th>...</th>\n",
       "      <td>...</td>\n",
       "      <td>...</td>\n",
       "      <td>...</td>\n",
       "    </tr>\n",
       "    <tr>\n",
       "      <th>0</th>\n",
       "      <td>Texas</td>\n",
       "      <td>1714678200</td>\n",
       "      <td>9.0</td>\n",
       "    </tr>\n",
       "    <tr>\n",
       "      <th>0</th>\n",
       "      <td>Texas</td>\n",
       "      <td>1714662000</td>\n",
       "      <td>6.7</td>\n",
       "    </tr>\n",
       "    <tr>\n",
       "      <th>0</th>\n",
       "      <td>Texas</td>\n",
       "      <td>1714683600</td>\n",
       "      <td>5.0</td>\n",
       "    </tr>\n",
       "    <tr>\n",
       "      <th>0</th>\n",
       "      <td>Texas</td>\n",
       "      <td>1714693200</td>\n",
       "      <td>5.4</td>\n",
       "    </tr>\n",
       "    <tr>\n",
       "      <th>0</th>\n",
       "      <td>Texas</td>\n",
       "      <td>1714618200</td>\n",
       "      <td>12.0</td>\n",
       "    </tr>\n",
       "  </tbody>\n",
       "</table>\n",
       "<p>63965 rows × 3 columns</p>\n",
       "</div>"
      ],
      "text/plain": [
       "       State        Date PM2.5\n",
       "0   Delaware  1716118200   9.2\n",
       "0   Delaware  1716088800   6.2\n",
       "0   Delaware  1716114600  12.8\n",
       "0   Delaware  1716117600  10.3\n",
       "0   Delaware  1713544800   2.1\n",
       "..       ...         ...   ...\n",
       "0      Texas  1714678200   9.0\n",
       "0      Texas  1714662000   6.7\n",
       "0      Texas  1714683600   5.0\n",
       "0      Texas  1714693200   5.4\n",
       "0      Texas  1714618200  12.0\n",
       "\n",
       "[63965 rows x 3 columns]"
      ]
     },
     "execution_count": 455,
     "metadata": {},
     "output_type": "execute_result"
    }
   ],
   "source": [
    "purpleairdf3"
   ]
  },
  {
   "cell_type": "markdown",
   "id": "20cb7647",
   "metadata": {},
   "source": [
    "### Step 7"
   ]
  },
  {
   "cell_type": "code",
   "execution_count": 456,
   "id": "348e1132",
   "metadata": {},
   "outputs": [],
   "source": [
    "purpleairdf3.reset_index(drop=True, inplace=True) #resetting the index of the dataframe dropping the prev index and replacing with new index column"
   ]
  },
  {
   "cell_type": "markdown",
   "id": "5d2f6ea6",
   "metadata": {},
   "source": [
    "### Fully cleaned and transformed API file dataset"
   ]
  },
  {
   "cell_type": "code",
   "execution_count": 459,
   "id": "0326897e",
   "metadata": {},
   "outputs": [
    {
     "data": {
      "text/html": [
       "<div>\n",
       "<style scoped>\n",
       "    .dataframe tbody tr th:only-of-type {\n",
       "        vertical-align: middle;\n",
       "    }\n",
       "\n",
       "    .dataframe tbody tr th {\n",
       "        vertical-align: top;\n",
       "    }\n",
       "\n",
       "    .dataframe thead th {\n",
       "        text-align: right;\n",
       "    }\n",
       "</style>\n",
       "<table border=\"1\" class=\"dataframe\">\n",
       "  <thead>\n",
       "    <tr style=\"text-align: right;\">\n",
       "      <th></th>\n",
       "      <th>State</th>\n",
       "      <th>Date</th>\n",
       "      <th>PM2.5</th>\n",
       "    </tr>\n",
       "  </thead>\n",
       "  <tbody>\n",
       "    <tr>\n",
       "      <th>0</th>\n",
       "      <td>Delaware</td>\n",
       "      <td>1716118200</td>\n",
       "      <td>9.2</td>\n",
       "    </tr>\n",
       "    <tr>\n",
       "      <th>1</th>\n",
       "      <td>Delaware</td>\n",
       "      <td>1716088800</td>\n",
       "      <td>6.2</td>\n",
       "    </tr>\n",
       "    <tr>\n",
       "      <th>2</th>\n",
       "      <td>Delaware</td>\n",
       "      <td>1716114600</td>\n",
       "      <td>12.8</td>\n",
       "    </tr>\n",
       "    <tr>\n",
       "      <th>3</th>\n",
       "      <td>Delaware</td>\n",
       "      <td>1716117600</td>\n",
       "      <td>10.3</td>\n",
       "    </tr>\n",
       "    <tr>\n",
       "      <th>4</th>\n",
       "      <td>Delaware</td>\n",
       "      <td>1713544800</td>\n",
       "      <td>2.1</td>\n",
       "    </tr>\n",
       "    <tr>\n",
       "      <th>...</th>\n",
       "      <td>...</td>\n",
       "      <td>...</td>\n",
       "      <td>...</td>\n",
       "    </tr>\n",
       "    <tr>\n",
       "      <th>63960</th>\n",
       "      <td>Texas</td>\n",
       "      <td>1714678200</td>\n",
       "      <td>9.0</td>\n",
       "    </tr>\n",
       "    <tr>\n",
       "      <th>63961</th>\n",
       "      <td>Texas</td>\n",
       "      <td>1714662000</td>\n",
       "      <td>6.7</td>\n",
       "    </tr>\n",
       "    <tr>\n",
       "      <th>63962</th>\n",
       "      <td>Texas</td>\n",
       "      <td>1714683600</td>\n",
       "      <td>5.0</td>\n",
       "    </tr>\n",
       "    <tr>\n",
       "      <th>63963</th>\n",
       "      <td>Texas</td>\n",
       "      <td>1714693200</td>\n",
       "      <td>5.4</td>\n",
       "    </tr>\n",
       "    <tr>\n",
       "      <th>63964</th>\n",
       "      <td>Texas</td>\n",
       "      <td>1714618200</td>\n",
       "      <td>12.0</td>\n",
       "    </tr>\n",
       "  </tbody>\n",
       "</table>\n",
       "<p>63965 rows × 3 columns</p>\n",
       "</div>"
      ],
      "text/plain": [
       "          State        Date PM2.5\n",
       "0      Delaware  1716118200   9.2\n",
       "1      Delaware  1716088800   6.2\n",
       "2      Delaware  1716114600  12.8\n",
       "3      Delaware  1716117600  10.3\n",
       "4      Delaware  1713544800   2.1\n",
       "...         ...         ...   ...\n",
       "63960     Texas  1714678200   9.0\n",
       "63961     Texas  1714662000   6.7\n",
       "63962     Texas  1714683600   5.0\n",
       "63963     Texas  1714693200   5.4\n",
       "63964     Texas  1714618200  12.0\n",
       "\n",
       "[63965 rows x 3 columns]"
      ]
     },
     "execution_count": 459,
     "metadata": {},
     "output_type": "execute_result"
    }
   ],
   "source": [
    "purpleairdf3"
   ]
  },
  {
   "cell_type": "markdown",
   "id": "426600a0",
   "metadata": {},
   "source": [
    "As I considered what to gather for data from my chosen API, I recalled that I already had some air quality data from my flat csv file, so I needed to consider what I was gathering this data for. I knew my flat file did not contain any data from the state of Delaware, so I knew I wanted to include that this time. Also, the flat file data was from several years ago and this API data was more current. Therefore, I began pulling recent historical data from eight random sensors around the United States (including Deleware), reading the data into dataframes, and then combining all the dataframes into one. I chose PM2.5 as the air quality field to pull.  \n",
    "\n",
    "The largest change that I had to make to my dataset was that the API put the date value (in Unix time) and the air quality reading into a list altogether in one column in the dataframe. Fortunately I was able to find a function that quickly was able to separate these into individual rows. Then all I had to do was remove the brackets and whitespace and split the values into two columns. \n",
    "\n",
    "I do not believe that I added any risks based on the transformations I performed, but I do recognize a possible issue with the way I gathered the data - I just chose eight random sensors. I did not consider any real guidelines for choosing which sensors to use, other than I wanted to use different areas around the US, but I am making an assumption that these are all equal types of sensors and they are giving me equal data. I recognize there could have been some unconscious bias for how I chose them. I will just have to ensure I am transparent in disclosing how I obtained this data.   \n",
    "\n",
    "As far as data credibility, sourcing, and ethics, as I mentioned in the first milestone, this API is run by a private company that also sells the sensors it pulls the data from. I have to ask myself if they have any incentive to providing data that is skewed in a certain direction. Again, I just need to be transparent when reporting the final data. "
   ]
  },
  {
   "cell_type": "code",
   "execution_count": 460,
   "id": "65042e31",
   "metadata": {},
   "outputs": [],
   "source": [
    "import csv"
   ]
  },
  {
   "cell_type": "code",
   "execution_count": 461,
   "id": "9f9f9a37",
   "metadata": {},
   "outputs": [],
   "source": [
    "purpleairdf3.to_csv(r'C:\\Users\\ryanr\\dsc540\\purpleair.csv', index = False)"
   ]
  },
  {
   "cell_type": "code",
   "execution_count": null,
   "id": "9b4663ca",
   "metadata": {},
   "outputs": [],
   "source": []
  }
 ],
 "metadata": {
  "kernelspec": {
   "display_name": "Python 3 (ipykernel)",
   "language": "python",
   "name": "python3"
  },
  "language_info": {
   "codemirror_mode": {
    "name": "ipython",
    "version": 3
   },
   "file_extension": ".py",
   "mimetype": "text/x-python",
   "name": "python",
   "nbconvert_exporter": "python",
   "pygments_lexer": "ipython3",
   "version": "3.11.4"
  }
 },
 "nbformat": 4,
 "nbformat_minor": 5
}
