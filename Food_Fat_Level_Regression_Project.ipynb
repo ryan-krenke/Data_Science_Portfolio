{
 "cells": [
  {
   "cell_type": "markdown",
   "id": "decc842d",
   "metadata": {},
   "source": [
    "# Term Project Milestone 3\n",
    "# DSC550-T301\n",
    "# Ryan Krenke\n",
    "# 8/1/24"
   ]
  },
  {
   "cell_type": "markdown",
   "id": "8568082b",
   "metadata": {},
   "source": [
    "## Food Product Fat Level Project"
   ]
  },
  {
   "cell_type": "markdown",
   "id": "110dcbb1",
   "metadata": {},
   "source": [
    "I am choosing to complete this project using data from my day job. I have been working in food safety and quality control in the food manufacturing industry for the last 15 years and, like many corporations, we produce a large amount of data every day. Also like many corporations, we aim to make a profit through the products we sell. While I am always interested in producing products within specifications, I and others in the company are always interested in optimizing certain results that might lead to increased profits, or at least understanding relationships between the results. \n",
    "\n",
    "One such group of results that I deal with regularly is finished food product chemical analysis results. All food products have recognized chemical analysis results like fat, moisture, protein, and salt which relate to labeling, quality, and Regulatory requirements, but also mean differences in product costs and profits. This is especially true with fat levels - unsurprisingly, a higher fat product costs less to make, so the profits can be higher if these are controlled and optimized. \n",
    "\n",
    "With this in mind, I am designing this project around understanding what factors might lead to different fat results in our finished food products. Specifically, I would like to understand if a model can be developed that best predicts the fat levels, and which variable/s this involves. Ideally, if I can show which variables yield fat levels over a certain percentage or in a certain optimal range, that would be beneficial for predicting future results. \n",
    "\n",
    "The dataset I have chosen to use comes from my company's electronic records database and is finished product chemical analysis results for two of our highest volume products from April 2024 through current date. The only adjustments I made up front involved removing facility and personnel names and changing the product names ('Resource') to a shortened code, all in the name of anonymity. "
   ]
  },
  {
   "cell_type": "markdown",
   "id": "3820277c",
   "metadata": {},
   "source": [
    "## Part 1"
   ]
  },
  {
   "cell_type": "code",
   "execution_count": 2,
   "id": "59c68d12",
   "metadata": {},
   "outputs": [],
   "source": [
    "#importing necessary libraries\n",
    "import pandas as pd"
   ]
  },
  {
   "cell_type": "code",
   "execution_count": 3,
   "id": "efe10550",
   "metadata": {},
   "outputs": [],
   "source": [
    "import numpy as np"
   ]
  },
  {
   "cell_type": "code",
   "execution_count": 4,
   "id": "c9f03027",
   "metadata": {},
   "outputs": [],
   "source": [
    "import matplotlib.pyplot as plt"
   ]
  },
  {
   "cell_type": "code",
   "execution_count": 5,
   "id": "c3a74034",
   "metadata": {},
   "outputs": [],
   "source": [
    "chemdf = pd.read_csv(\"C:/Users/ryanr/dsc550/product chemistry.csv\") #using read_csv from pd to read in csv file from local drive"
   ]
  },
  {
   "cell_type": "code",
   "execution_count": 6,
   "id": "67905e10",
   "metadata": {},
   "outputs": [
    {
     "data": {
      "text/html": [
       "<div>\n",
       "<style scoped>\n",
       "    .dataframe tbody tr th:only-of-type {\n",
       "        vertical-align: middle;\n",
       "    }\n",
       "\n",
       "    .dataframe tbody tr th {\n",
       "        vertical-align: top;\n",
       "    }\n",
       "\n",
       "    .dataframe thead th {\n",
       "        text-align: right;\n",
       "    }\n",
       "</style>\n",
       "<table border=\"1\" class=\"dataframe\">\n",
       "  <thead>\n",
       "    <tr style=\"text-align: right;\">\n",
       "      <th></th>\n",
       "      <th>RecordNumber</th>\n",
       "      <th>Date</th>\n",
       "      <th>Time</th>\n",
       "      <th>Resource</th>\n",
       "      <th>Unnamed: 4</th>\n",
       "      <th>WIP Number</th>\n",
       "      <th>Shift</th>\n",
       "      <th>Julian Date</th>\n",
       "      <th>Pallet Numbers</th>\n",
       "      <th>Moisture %</th>\n",
       "      <th>Protein %</th>\n",
       "      <th>Fat %</th>\n",
       "      <th>MPR</th>\n",
       "      <th>Salt %</th>\n",
       "      <th>pH</th>\n",
       "      <th>aW</th>\n",
       "    </tr>\n",
       "  </thead>\n",
       "  <tbody>\n",
       "    <tr>\n",
       "      <th>0</th>\n",
       "      <td>108900822</td>\n",
       "      <td>4/18/2024</td>\n",
       "      <td>9:33</td>\n",
       "      <td>1544</td>\n",
       "      <td>True</td>\n",
       "      <td>1580</td>\n",
       "      <td>1</td>\n",
       "      <td>NaN</td>\n",
       "      <td>1-7</td>\n",
       "      <td>30.43</td>\n",
       "      <td>18.74</td>\n",
       "      <td>44.23</td>\n",
       "      <td>1.63</td>\n",
       "      <td>4.67</td>\n",
       "      <td>4.50</td>\n",
       "      <td>0.8810</td>\n",
       "    </tr>\n",
       "    <tr>\n",
       "      <th>1</th>\n",
       "      <td>108931668</td>\n",
       "      <td>4/18/2024</td>\n",
       "      <td>13:09</td>\n",
       "      <td>1544</td>\n",
       "      <td>True</td>\n",
       "      <td>1580</td>\n",
       "      <td>1</td>\n",
       "      <td>NaN</td>\n",
       "      <td>8-12</td>\n",
       "      <td>29.11</td>\n",
       "      <td>18.14</td>\n",
       "      <td>45.15</td>\n",
       "      <td>1.60</td>\n",
       "      <td>4.10</td>\n",
       "      <td>4.54</td>\n",
       "      <td>0.8809</td>\n",
       "    </tr>\n",
       "    <tr>\n",
       "      <th>2</th>\n",
       "      <td>108931877</td>\n",
       "      <td>4/18/2024</td>\n",
       "      <td>13:10</td>\n",
       "      <td>1544</td>\n",
       "      <td>True</td>\n",
       "      <td>1580</td>\n",
       "      <td>1</td>\n",
       "      <td>NaN</td>\n",
       "      <td>13-16</td>\n",
       "      <td>29.32</td>\n",
       "      <td>18.09</td>\n",
       "      <td>44.81</td>\n",
       "      <td>1.62</td>\n",
       "      <td>4.58</td>\n",
       "      <td>4.52</td>\n",
       "      <td>0.8780</td>\n",
       "    </tr>\n",
       "    <tr>\n",
       "      <th>3</th>\n",
       "      <td>108989037</td>\n",
       "      <td>4/18/2024</td>\n",
       "      <td>21:11</td>\n",
       "      <td>3318</td>\n",
       "      <td>True</td>\n",
       "      <td>6755</td>\n",
       "      <td>2</td>\n",
       "      <td>NaN</td>\n",
       "      <td>1-5</td>\n",
       "      <td>31.49</td>\n",
       "      <td>19.61</td>\n",
       "      <td>42.00</td>\n",
       "      <td>1.61</td>\n",
       "      <td>3.31</td>\n",
       "      <td>4.69</td>\n",
       "      <td>0.9201</td>\n",
       "    </tr>\n",
       "    <tr>\n",
       "      <th>4</th>\n",
       "      <td>108989189</td>\n",
       "      <td>4/18/2024</td>\n",
       "      <td>21:12</td>\n",
       "      <td>3318</td>\n",
       "      <td>True</td>\n",
       "      <td>6755</td>\n",
       "      <td>2</td>\n",
       "      <td>NaN</td>\n",
       "      <td>6-13</td>\n",
       "      <td>30.99</td>\n",
       "      <td>19.00</td>\n",
       "      <td>42.55</td>\n",
       "      <td>1.63</td>\n",
       "      <td>3.61</td>\n",
       "      <td>4.69</td>\n",
       "      <td>0.9004</td>\n",
       "    </tr>\n",
       "    <tr>\n",
       "      <th>5</th>\n",
       "      <td>108989373</td>\n",
       "      <td>4/18/2024</td>\n",
       "      <td>21:13</td>\n",
       "      <td>3318</td>\n",
       "      <td>True</td>\n",
       "      <td>6755</td>\n",
       "      <td>2</td>\n",
       "      <td>NaN</td>\n",
       "      <td>14-20</td>\n",
       "      <td>31.62</td>\n",
       "      <td>19.39</td>\n",
       "      <td>42.14</td>\n",
       "      <td>1.63</td>\n",
       "      <td>3.33</td>\n",
       "      <td>4.65</td>\n",
       "      <td>0.8936</td>\n",
       "    </tr>\n",
       "    <tr>\n",
       "      <th>6</th>\n",
       "      <td>108989478</td>\n",
       "      <td>4/18/2024</td>\n",
       "      <td>21:14</td>\n",
       "      <td>3318</td>\n",
       "      <td>True</td>\n",
       "      <td>6755</td>\n",
       "      <td>2</td>\n",
       "      <td>NaN</td>\n",
       "      <td>21-24</td>\n",
       "      <td>31.42</td>\n",
       "      <td>19.32</td>\n",
       "      <td>42.06</td>\n",
       "      <td>1.63</td>\n",
       "      <td>3.35</td>\n",
       "      <td>4.69</td>\n",
       "      <td>0.9179</td>\n",
       "    </tr>\n",
       "    <tr>\n",
       "      <th>7</th>\n",
       "      <td>109080914</td>\n",
       "      <td>4/19/2024</td>\n",
       "      <td>14:20</td>\n",
       "      <td>1544</td>\n",
       "      <td>True</td>\n",
       "      <td>1580</td>\n",
       "      <td>1</td>\n",
       "      <td>NaN</td>\n",
       "      <td>1-7</td>\n",
       "      <td>29.78</td>\n",
       "      <td>18.33</td>\n",
       "      <td>43.26</td>\n",
       "      <td>1.59</td>\n",
       "      <td>4.36</td>\n",
       "      <td>4.57</td>\n",
       "      <td>0.8895</td>\n",
       "    </tr>\n",
       "    <tr>\n",
       "      <th>8</th>\n",
       "      <td>109081060</td>\n",
       "      <td>4/19/2024</td>\n",
       "      <td>14:21</td>\n",
       "      <td>1544</td>\n",
       "      <td>True</td>\n",
       "      <td>1580</td>\n",
       "      <td>1</td>\n",
       "      <td>NaN</td>\n",
       "      <td>8-14</td>\n",
       "      <td>29.82</td>\n",
       "      <td>18.33</td>\n",
       "      <td>44.07</td>\n",
       "      <td>1.63</td>\n",
       "      <td>4.45</td>\n",
       "      <td>4.57</td>\n",
       "      <td>0.8870</td>\n",
       "    </tr>\n",
       "    <tr>\n",
       "      <th>9</th>\n",
       "      <td>109081415</td>\n",
       "      <td>4/19/2024</td>\n",
       "      <td>14:24</td>\n",
       "      <td>1544</td>\n",
       "      <td>True</td>\n",
       "      <td>1580</td>\n",
       "      <td>1</td>\n",
       "      <td>NaN</td>\n",
       "      <td>15-20</td>\n",
       "      <td>28.75</td>\n",
       "      <td>18.98</td>\n",
       "      <td>44.97</td>\n",
       "      <td>1.51</td>\n",
       "      <td>4.38</td>\n",
       "      <td>4.56</td>\n",
       "      <td>0.8874</td>\n",
       "    </tr>\n",
       "    <tr>\n",
       "      <th>10</th>\n",
       "      <td>109081555</td>\n",
       "      <td>4/19/2024</td>\n",
       "      <td>14:26</td>\n",
       "      <td>1544</td>\n",
       "      <td>True</td>\n",
       "      <td>1580</td>\n",
       "      <td>1</td>\n",
       "      <td>NaN</td>\n",
       "      <td>22-27</td>\n",
       "      <td>29.52</td>\n",
       "      <td>18.43</td>\n",
       "      <td>44.56</td>\n",
       "      <td>1.60</td>\n",
       "      <td>4.48</td>\n",
       "      <td>4.53</td>\n",
       "      <td>0.8802</td>\n",
       "    </tr>\n",
       "    <tr>\n",
       "      <th>11</th>\n",
       "      <td>109081689</td>\n",
       "      <td>4/19/2024</td>\n",
       "      <td>14:27</td>\n",
       "      <td>1544</td>\n",
       "      <td>True</td>\n",
       "      <td>1580</td>\n",
       "      <td>1</td>\n",
       "      <td>NaN</td>\n",
       "      <td>28-33</td>\n",
       "      <td>30.43</td>\n",
       "      <td>19.05</td>\n",
       "      <td>43.09</td>\n",
       "      <td>1.60</td>\n",
       "      <td>4.48</td>\n",
       "      <td>4.57</td>\n",
       "      <td>0.8855</td>\n",
       "    </tr>\n",
       "    <tr>\n",
       "      <th>12</th>\n",
       "      <td>109081837</td>\n",
       "      <td>4/19/2024</td>\n",
       "      <td>14:29</td>\n",
       "      <td>1544</td>\n",
       "      <td>True</td>\n",
       "      <td>1580</td>\n",
       "      <td>1</td>\n",
       "      <td>NaN</td>\n",
       "      <td>28-33</td>\n",
       "      <td>30.43</td>\n",
       "      <td>19.05</td>\n",
       "      <td>43.09</td>\n",
       "      <td>1.60</td>\n",
       "      <td>4.48</td>\n",
       "      <td>4.58</td>\n",
       "      <td>0.8786</td>\n",
       "    </tr>\n",
       "    <tr>\n",
       "      <th>13</th>\n",
       "      <td>109082191</td>\n",
       "      <td>4/19/2024</td>\n",
       "      <td>14:32</td>\n",
       "      <td>1544</td>\n",
       "      <td>True</td>\n",
       "      <td>1580</td>\n",
       "      <td>1</td>\n",
       "      <td>NaN</td>\n",
       "      <td>41-46</td>\n",
       "      <td>29.28</td>\n",
       "      <td>18.53</td>\n",
       "      <td>45.11</td>\n",
       "      <td>1.58</td>\n",
       "      <td>4.38</td>\n",
       "      <td>4.56</td>\n",
       "      <td>0.8741</td>\n",
       "    </tr>\n",
       "    <tr>\n",
       "      <th>14</th>\n",
       "      <td>109117402</td>\n",
       "      <td>4/19/2024</td>\n",
       "      <td>20:39</td>\n",
       "      <td>1544</td>\n",
       "      <td>True</td>\n",
       "      <td>1580</td>\n",
       "      <td>2</td>\n",
       "      <td>NaN</td>\n",
       "      <td>47-53</td>\n",
       "      <td>28.65</td>\n",
       "      <td>18.49</td>\n",
       "      <td>44.52</td>\n",
       "      <td>1.55</td>\n",
       "      <td>4.37</td>\n",
       "      <td>4.57</td>\n",
       "      <td>0.8727</td>\n",
       "    </tr>\n",
       "    <tr>\n",
       "      <th>15</th>\n",
       "      <td>109125777</td>\n",
       "      <td>4/19/2024</td>\n",
       "      <td>22:21</td>\n",
       "      <td>3318</td>\n",
       "      <td>True</td>\n",
       "      <td>6755</td>\n",
       "      <td>2</td>\n",
       "      <td>NaN</td>\n",
       "      <td>1-8</td>\n",
       "      <td>30.07</td>\n",
       "      <td>18.89</td>\n",
       "      <td>43.86</td>\n",
       "      <td>1.59</td>\n",
       "      <td>3.64</td>\n",
       "      <td>4.72</td>\n",
       "      <td>0.9025</td>\n",
       "    </tr>\n",
       "    <tr>\n",
       "      <th>16</th>\n",
       "      <td>109125835</td>\n",
       "      <td>4/19/2024</td>\n",
       "      <td>22:22</td>\n",
       "      <td>3318</td>\n",
       "      <td>True</td>\n",
       "      <td>6755</td>\n",
       "      <td>2</td>\n",
       "      <td>NaN</td>\n",
       "      <td>9-14</td>\n",
       "      <td>30.64</td>\n",
       "      <td>19.19</td>\n",
       "      <td>43.50</td>\n",
       "      <td>1.60</td>\n",
       "      <td>3.14</td>\n",
       "      <td>4.71</td>\n",
       "      <td>0.9184</td>\n",
       "    </tr>\n",
       "    <tr>\n",
       "      <th>17</th>\n",
       "      <td>109125910</td>\n",
       "      <td>4/19/2024</td>\n",
       "      <td>22:23</td>\n",
       "      <td>3318</td>\n",
       "      <td>True</td>\n",
       "      <td>6755</td>\n",
       "      <td>2</td>\n",
       "      <td>NaN</td>\n",
       "      <td>15-20</td>\n",
       "      <td>30.90</td>\n",
       "      <td>18.95</td>\n",
       "      <td>43.73</td>\n",
       "      <td>1.63</td>\n",
       "      <td>3.24</td>\n",
       "      <td>4.68</td>\n",
       "      <td>0.9175</td>\n",
       "    </tr>\n",
       "    <tr>\n",
       "      <th>18</th>\n",
       "      <td>109154601</td>\n",
       "      <td>4/20/2024</td>\n",
       "      <td>12:43</td>\n",
       "      <td>3318</td>\n",
       "      <td>True</td>\n",
       "      <td>6755</td>\n",
       "      <td>2</td>\n",
       "      <td>NaN</td>\n",
       "      <td>21-27</td>\n",
       "      <td>30.47</td>\n",
       "      <td>20.57</td>\n",
       "      <td>42.56</td>\n",
       "      <td>1.48</td>\n",
       "      <td>3.56</td>\n",
       "      <td>4.66</td>\n",
       "      <td>0.9222</td>\n",
       "    </tr>\n",
       "    <tr>\n",
       "      <th>19</th>\n",
       "      <td>109154886</td>\n",
       "      <td>4/20/2024</td>\n",
       "      <td>12:53</td>\n",
       "      <td>3318</td>\n",
       "      <td>True</td>\n",
       "      <td>6755</td>\n",
       "      <td>2</td>\n",
       "      <td>NaN</td>\n",
       "      <td>28-34</td>\n",
       "      <td>30.83</td>\n",
       "      <td>21.10</td>\n",
       "      <td>43.08</td>\n",
       "      <td>1.46</td>\n",
       "      <td>3.13</td>\n",
       "      <td>4.72</td>\n",
       "      <td>0.9254</td>\n",
       "    </tr>\n",
       "  </tbody>\n",
       "</table>\n",
       "</div>"
      ],
      "text/plain": [
       "    RecordNumber       Date   Time  Resource  Unnamed: 4  WIP Number  Shift  \\\n",
       "0      108900822  4/18/2024   9:33      1544        True        1580      1   \n",
       "1      108931668  4/18/2024  13:09      1544        True        1580      1   \n",
       "2      108931877  4/18/2024  13:10      1544        True        1580      1   \n",
       "3      108989037  4/18/2024  21:11      3318        True        6755      2   \n",
       "4      108989189  4/18/2024  21:12      3318        True        6755      2   \n",
       "5      108989373  4/18/2024  21:13      3318        True        6755      2   \n",
       "6      108989478  4/18/2024  21:14      3318        True        6755      2   \n",
       "7      109080914  4/19/2024  14:20      1544        True        1580      1   \n",
       "8      109081060  4/19/2024  14:21      1544        True        1580      1   \n",
       "9      109081415  4/19/2024  14:24      1544        True        1580      1   \n",
       "10     109081555  4/19/2024  14:26      1544        True        1580      1   \n",
       "11     109081689  4/19/2024  14:27      1544        True        1580      1   \n",
       "12     109081837  4/19/2024  14:29      1544        True        1580      1   \n",
       "13     109082191  4/19/2024  14:32      1544        True        1580      1   \n",
       "14     109117402  4/19/2024  20:39      1544        True        1580      2   \n",
       "15     109125777  4/19/2024  22:21      3318        True        6755      2   \n",
       "16     109125835  4/19/2024  22:22      3318        True        6755      2   \n",
       "17     109125910  4/19/2024  22:23      3318        True        6755      2   \n",
       "18     109154601  4/20/2024  12:43      3318        True        6755      2   \n",
       "19     109154886  4/20/2024  12:53      3318        True        6755      2   \n",
       "\n",
       "   Julian Date Pallet Numbers  Moisture %  Protein %  Fat %   MPR  Salt %  \\\n",
       "0          NaN            1-7       30.43      18.74  44.23  1.63    4.67   \n",
       "1          NaN           8-12       29.11      18.14  45.15  1.60    4.10   \n",
       "2          NaN          13-16       29.32      18.09  44.81  1.62    4.58   \n",
       "3          NaN            1-5       31.49      19.61  42.00  1.61    3.31   \n",
       "4          NaN           6-13       30.99      19.00  42.55  1.63    3.61   \n",
       "5          NaN          14-20       31.62      19.39  42.14  1.63    3.33   \n",
       "6          NaN          21-24       31.42      19.32  42.06  1.63    3.35   \n",
       "7          NaN            1-7       29.78      18.33  43.26  1.59    4.36   \n",
       "8          NaN           8-14       29.82      18.33  44.07  1.63    4.45   \n",
       "9          NaN          15-20       28.75      18.98  44.97  1.51    4.38   \n",
       "10         NaN          22-27       29.52      18.43  44.56  1.60    4.48   \n",
       "11         NaN          28-33       30.43      19.05  43.09  1.60    4.48   \n",
       "12         NaN          28-33       30.43      19.05  43.09  1.60    4.48   \n",
       "13         NaN          41-46       29.28      18.53  45.11  1.58    4.38   \n",
       "14         NaN          47-53       28.65      18.49  44.52  1.55    4.37   \n",
       "15         NaN            1-8       30.07      18.89  43.86  1.59    3.64   \n",
       "16         NaN           9-14       30.64      19.19  43.50  1.60    3.14   \n",
       "17         NaN          15-20       30.90      18.95  43.73  1.63    3.24   \n",
       "18         NaN          21-27       30.47      20.57  42.56  1.48    3.56   \n",
       "19         NaN          28-34       30.83      21.10  43.08  1.46    3.13   \n",
       "\n",
       "      pH      aW  \n",
       "0   4.50  0.8810  \n",
       "1   4.54  0.8809  \n",
       "2   4.52  0.8780  \n",
       "3   4.69  0.9201  \n",
       "4   4.69  0.9004  \n",
       "5   4.65  0.8936  \n",
       "6   4.69  0.9179  \n",
       "7   4.57  0.8895  \n",
       "8   4.57  0.8870  \n",
       "9   4.56  0.8874  \n",
       "10  4.53  0.8802  \n",
       "11  4.57  0.8855  \n",
       "12  4.58  0.8786  \n",
       "13  4.56  0.8741  \n",
       "14  4.57  0.8727  \n",
       "15  4.72  0.9025  \n",
       "16  4.71  0.9184  \n",
       "17  4.68  0.9175  \n",
       "18  4.66  0.9222  \n",
       "19  4.72  0.9254  "
      ]
     },
     "execution_count": 6,
     "metadata": {},
     "output_type": "execute_result"
    }
   ],
   "source": [
    "chemdf.head(20) #using head function calling for 20 rows"
   ]
  },
  {
   "cell_type": "code",
   "execution_count": 7,
   "id": "e7ac640d",
   "metadata": {},
   "outputs": [
    {
     "data": {
      "text/plain": [
       "(537, 16)"
      ]
     },
     "execution_count": 7,
     "metadata": {},
     "output_type": "execute_result"
    }
   ],
   "source": [
    "chemdf.shape #using shape to show dimensions of dataframe"
   ]
  },
  {
   "cell_type": "code",
   "execution_count": 8,
   "id": "1cac1d64",
   "metadata": {},
   "outputs": [
    {
     "data": {
      "text/html": [
       "<div>\n",
       "<style scoped>\n",
       "    .dataframe tbody tr th:only-of-type {\n",
       "        vertical-align: middle;\n",
       "    }\n",
       "\n",
       "    .dataframe tbody tr th {\n",
       "        vertical-align: top;\n",
       "    }\n",
       "\n",
       "    .dataframe thead th {\n",
       "        text-align: right;\n",
       "    }\n",
       "</style>\n",
       "<table border=\"1\" class=\"dataframe\">\n",
       "  <thead>\n",
       "    <tr style=\"text-align: right;\">\n",
       "      <th></th>\n",
       "      <th>RecordNumber</th>\n",
       "      <th>Resource</th>\n",
       "      <th>WIP Number</th>\n",
       "      <th>Shift</th>\n",
       "      <th>Moisture %</th>\n",
       "      <th>Protein %</th>\n",
       "      <th>Fat %</th>\n",
       "      <th>MPR</th>\n",
       "      <th>Salt %</th>\n",
       "      <th>pH</th>\n",
       "      <th>aW</th>\n",
       "    </tr>\n",
       "  </thead>\n",
       "  <tbody>\n",
       "    <tr>\n",
       "      <th>count</th>\n",
       "      <td>5.370000e+02</td>\n",
       "      <td>537.000000</td>\n",
       "      <td>537.000000</td>\n",
       "      <td>537.000000</td>\n",
       "      <td>537.000000</td>\n",
       "      <td>537.000000</td>\n",
       "      <td>537.000000</td>\n",
       "      <td>537.000000</td>\n",
       "      <td>537.000000</td>\n",
       "      <td>537.000000</td>\n",
       "      <td>537.000000</td>\n",
       "    </tr>\n",
       "    <tr>\n",
       "      <th>mean</th>\n",
       "      <td>1.134110e+08</td>\n",
       "      <td>1930.513966</td>\n",
       "      <td>2793.495345</td>\n",
       "      <td>1.681564</td>\n",
       "      <td>30.186611</td>\n",
       "      <td>19.044953</td>\n",
       "      <td>43.471359</td>\n",
       "      <td>1.587169</td>\n",
       "      <td>4.133445</td>\n",
       "      <td>4.562894</td>\n",
       "      <td>0.893553</td>\n",
       "    </tr>\n",
       "    <tr>\n",
       "      <th>std</th>\n",
       "      <td>2.751709e+06</td>\n",
       "      <td>732.996083</td>\n",
       "      <td>2540.449338</td>\n",
       "      <td>0.466304</td>\n",
       "      <td>0.959836</td>\n",
       "      <td>0.604194</td>\n",
       "      <td>0.958312</td>\n",
       "      <td>0.053621</td>\n",
       "      <td>0.471039</td>\n",
       "      <td>0.094220</td>\n",
       "      <td>0.014225</td>\n",
       "    </tr>\n",
       "    <tr>\n",
       "      <th>min</th>\n",
       "      <td>1.089008e+08</td>\n",
       "      <td>1544.000000</td>\n",
       "      <td>580.000000</td>\n",
       "      <td>1.000000</td>\n",
       "      <td>27.390000</td>\n",
       "      <td>18.010000</td>\n",
       "      <td>40.620000</td>\n",
       "      <td>1.290000</td>\n",
       "      <td>2.700000</td>\n",
       "      <td>4.170000</td>\n",
       "      <td>0.865900</td>\n",
       "    </tr>\n",
       "    <tr>\n",
       "      <th>25%</th>\n",
       "      <td>1.112136e+08</td>\n",
       "      <td>1544.000000</td>\n",
       "      <td>1580.000000</td>\n",
       "      <td>1.000000</td>\n",
       "      <td>29.570000</td>\n",
       "      <td>18.680000</td>\n",
       "      <td>42.790000</td>\n",
       "      <td>1.560000</td>\n",
       "      <td>4.070000</td>\n",
       "      <td>4.520000</td>\n",
       "      <td>0.883600</td>\n",
       "    </tr>\n",
       "    <tr>\n",
       "      <th>50%</th>\n",
       "      <td>1.133679e+08</td>\n",
       "      <td>1544.000000</td>\n",
       "      <td>1580.000000</td>\n",
       "      <td>2.000000</td>\n",
       "      <td>30.290000</td>\n",
       "      <td>18.930000</td>\n",
       "      <td>43.420000</td>\n",
       "      <td>1.600000</td>\n",
       "      <td>4.300000</td>\n",
       "      <td>4.560000</td>\n",
       "      <td>0.890200</td>\n",
       "    </tr>\n",
       "    <tr>\n",
       "      <th>75%</th>\n",
       "      <td>1.158875e+08</td>\n",
       "      <td>1544.000000</td>\n",
       "      <td>1580.000000</td>\n",
       "      <td>2.000000</td>\n",
       "      <td>30.830000</td>\n",
       "      <td>19.240000</td>\n",
       "      <td>44.060000</td>\n",
       "      <td>1.630000</td>\n",
       "      <td>4.430000</td>\n",
       "      <td>4.610000</td>\n",
       "      <td>0.900800</td>\n",
       "    </tr>\n",
       "    <tr>\n",
       "      <th>max</th>\n",
       "      <td>1.191001e+08</td>\n",
       "      <td>3318.000000</td>\n",
       "      <td>25199.000000</td>\n",
       "      <td>2.000000</td>\n",
       "      <td>32.860000</td>\n",
       "      <td>22.400000</td>\n",
       "      <td>46.090000</td>\n",
       "      <td>1.660000</td>\n",
       "      <td>4.750000</td>\n",
       "      <td>4.960000</td>\n",
       "      <td>0.941200</td>\n",
       "    </tr>\n",
       "  </tbody>\n",
       "</table>\n",
       "</div>"
      ],
      "text/plain": [
       "       RecordNumber     Resource    WIP Number       Shift  Moisture %  \\\n",
       "count  5.370000e+02   537.000000    537.000000  537.000000  537.000000   \n",
       "mean   1.134110e+08  1930.513966   2793.495345    1.681564   30.186611   \n",
       "std    2.751709e+06   732.996083   2540.449338    0.466304    0.959836   \n",
       "min    1.089008e+08  1544.000000    580.000000    1.000000   27.390000   \n",
       "25%    1.112136e+08  1544.000000   1580.000000    1.000000   29.570000   \n",
       "50%    1.133679e+08  1544.000000   1580.000000    2.000000   30.290000   \n",
       "75%    1.158875e+08  1544.000000   1580.000000    2.000000   30.830000   \n",
       "max    1.191001e+08  3318.000000  25199.000000    2.000000   32.860000   \n",
       "\n",
       "        Protein %       Fat %         MPR      Salt %          pH          aW  \n",
       "count  537.000000  537.000000  537.000000  537.000000  537.000000  537.000000  \n",
       "mean    19.044953   43.471359    1.587169    4.133445    4.562894    0.893553  \n",
       "std      0.604194    0.958312    0.053621    0.471039    0.094220    0.014225  \n",
       "min     18.010000   40.620000    1.290000    2.700000    4.170000    0.865900  \n",
       "25%     18.680000   42.790000    1.560000    4.070000    4.520000    0.883600  \n",
       "50%     18.930000   43.420000    1.600000    4.300000    4.560000    0.890200  \n",
       "75%     19.240000   44.060000    1.630000    4.430000    4.610000    0.900800  \n",
       "max     22.400000   46.090000    1.660000    4.750000    4.960000    0.941200  "
      ]
     },
     "execution_count": 8,
     "metadata": {},
     "output_type": "execute_result"
    }
   ],
   "source": [
    "chemdf.describe() #using describe() to show summary statistics"
   ]
  },
  {
   "cell_type": "code",
   "execution_count": 9,
   "id": "2f191da2",
   "metadata": {},
   "outputs": [
    {
     "data": {
      "text/plain": [
       "RecordNumber        int64\n",
       "Date               object\n",
       "Time               object\n",
       "Resource            int64\n",
       "Unnamed: 4           bool\n",
       "WIP Number          int64\n",
       "Shift               int64\n",
       "Julian Date        object\n",
       "Pallet Numbers     object\n",
       "Moisture %        float64\n",
       "Protein %         float64\n",
       "Fat %             float64\n",
       "MPR               float64\n",
       "Salt %            float64\n",
       "pH                float64\n",
       "aW                float64\n",
       "dtype: object"
      ]
     },
     "execution_count": 9,
     "metadata": {},
     "output_type": "execute_result"
    }
   ],
   "source": [
    "chemdf.dtypes #using dtypes to show datatypes of dataframe columns"
   ]
  },
  {
   "cell_type": "markdown",
   "id": "9c81083c",
   "metadata": {},
   "source": [
    "Overall, this dataset is fairly simple and clean. It has 537 rows of data with 16 columns. Columns 1-9 describe the samples collected with things like 'date' and production 'shift'. The column 'Resource' is the product code name. Columns 10-16 are where the chemical results are from various types of laboratory analyses. Reviewing the describe() results, I do not see anything out of the ordinary or unexpected, specifically with the mean and min/max of the analysis results. "
   ]
  },
  {
   "cell_type": "markdown",
   "id": "43345986",
   "metadata": {},
   "source": [
    "I do notice that the 'Resource' column has an integer datatype. While the values I used here are numeric, they should be considered more like string names.  "
   ]
  },
  {
   "cell_type": "code",
   "execution_count": 10,
   "id": "cc4e84f8",
   "metadata": {},
   "outputs": [],
   "source": [
    "chemdf['Resource'] = chemdf['Resource'].astype(str) #using astype(str) to change the results of Resource columm to string datatype"
   ]
  },
  {
   "cell_type": "markdown",
   "id": "5eb9e51a",
   "metadata": {},
   "source": [
    "As I mentioned, I combined two different finished products into one dataset of results. They are seemingly similar products, but to confirm that I am ok to use the data like this, I can visual the chemistry results between the two products with bar charts.  "
   ]
  },
  {
   "cell_type": "code",
   "execution_count": 11,
   "id": "0a2ba1ef",
   "metadata": {
    "scrolled": false
   },
   "outputs": [
    {
     "data": {
      "image/png": "[encoded data removed]",
      "text/plain": [
       "<Figure size 640x480 with 4 Axes>"
      ]
     },
     "metadata": {},
     "output_type": "display_data"
    }
   ],
   "source": [
    "fig, axes = plt.subplots(nrows = 2, ncols = 2) #setting the subplot shape, 2x2\n",
    "\n",
    "# axes[0, 0] to specify upper left plot\n",
    "axes[0, 0].bar(chemdf[\"Resource\"], chemdf[\"Moisture %\"], color ='blue', width = 0.5) #bar chart, x=Resource, y=Moisture, color blue, width of bars 0.5\n",
    "axes[0, 0].set_xlabel(\"Product Code\", fontsize=7) #setting x label and font size\n",
    "axes[0, 0].set_ylabel(\"Average Moisture\", fontsize=7) #setting y label and font size\n",
    "axes[0, 0].set_title(\"Bar Chart of Average Moisture by Product Code\", fontsize=8) #setting title and font size\n",
    "\n",
    "# axes[0, 1] to specify upper right plot\n",
    "axes[0, 1].bar(chemdf[\"Resource\"], chemdf[\"Fat %\"], color ='blue', width = 0.5) #bar chart, x=Resource, y=Fat, color blue, width of bars 0.5\n",
    "axes[0, 1].set_xlabel(\"Product Code\", fontsize=7) #setting x label and font size\n",
    "axes[0, 1].set_ylabel(\"Average Fat\", fontsize=7) #setting y label and font size\n",
    "axes[0, 1].set_title(\"Bar Chart of Average Fat by Product Code\", fontsize=8) #setting title and font size\n",
    "\n",
    "# axes[1, 0] to specify lower left plot\n",
    "axes[1, 0].bar(chemdf[\"Resource\"], chemdf[\"Protein %\"], color ='blue', width = 0.5) #bar chart, x=Resource, y=protein, color blue, width of bars 0.5\n",
    "axes[1, 0].set_xlabel(\"Product Code\", fontsize=7) #setting x label and font size\n",
    "axes[1, 0].set_ylabel(\"Average Protein\", fontsize=7) #setting y label and font size\n",
    "axes[1, 0].set_title(\"Bar Chart of Average Protein by Product Code\", fontsize=8) #setting title and font size\n",
    "\n",
    "# axes[1, 1] to specify lower right plot\n",
    "axes[1, 1].bar(chemdf[\"Resource\"], chemdf[\"pH\"], color ='blue', width = 0.5) #bar chart, x=Resource, y=pH, color blue, width of bars 0.5\n",
    "axes[1, 1].set_xlabel(\"Product Code\", fontsize=7) #setting x label and font size\n",
    "axes[1, 1].set_ylabel(\"Average pH\", fontsize=7) #setting y label and font size\n",
    "axes[1, 1].set_title(\"Bar Chart of Average pH by Product Code\", fontsize=8) #setting title and font size\n",
    "\n",
    "fig.tight_layout(pad=3.0) #using tight_layout with pad set to 3.0 to create spacing between subplots\n",
    "plt.show() #call to show the plots"
   ]
  },
  {
   "cell_type": "markdown",
   "id": "4618469c",
   "metadata": {},
   "source": [
    "Overall, these plots show there does not appear to be large differences in the average chemical results between the two products. I believe I am safe to continue with the combined data and treating the results as one. "
   ]
  },
  {
   "cell_type": "markdown",
   "id": "23f4ba32",
   "metadata": {},
   "source": [
    "Next, I would like to get a feel for if there is any potential correlation between the different chemical results and the target fat values. "
   ]
  },
  {
   "cell_type": "code",
   "execution_count": 12,
   "id": "64822fb2",
   "metadata": {},
   "outputs": [
    {
     "data": {
      "image/png": "[encoded data removed]",
      "text/plain": [
       "<Figure size 700x700 with 4 Axes>"
      ]
     },
     "metadata": {},
     "output_type": "display_data"
    }
   ],
   "source": [
    "fig, axes = plt.subplots(nrows = 2, ncols = 2, figsize=(7, 7)) #setting the subplot shape, 2x2, figsize to set size of plots\n",
    "\n",
    "axes[0, 0].scatter(chemdf[\"Fat %\"], chemdf[\"Moisture %\"], color=\"green\") #scatter chart, x=Fat, y=Moisture, color green\n",
    "axes[0, 0].set_xlabel(\"Fat\", fontsize=7) #setting x label and font size\n",
    "axes[0, 0].set_ylabel(\"Moisture\", fontsize=7) #setting y label and font size\n",
    "axes[0, 0].set_title(\"Scatterplot of Product Fat vs Moisture\", fontsize=8) #setting title and font size\n",
    "\n",
    "axes[0, 1].scatter(chemdf[\"Fat %\"], chemdf[\"Protein %\"], color ='green') #scatter chart, x=Fat, y=Protein, color green\n",
    "axes[0, 1].set_xlabel(\"Fat\", fontsize=7) #setting x label and font size\n",
    "axes[0, 1].set_ylabel(\"Protein\", fontsize=7) #setting y label and font size\n",
    "axes[0, 1].set_title(\"Scatterplot of Product Fat vs Protein\", fontsize=8) #setting title and font size\n",
    "\n",
    "axes[1, 0].scatter(chemdf[\"Fat %\"], chemdf[\"pH\"], color ='green') #scatter chart, x=Fat, y=pH, color green\n",
    "axes[1, 0].set_xlabel(\"Fat\", fontsize=7) #setting x label and font size\n",
    "axes[1, 0].set_ylabel(\"pH\", fontsize=7) #setting y label and font size\n",
    "axes[1, 0].set_title(\"Scatterplot of Product Fat vs pH\", fontsize=8) #setting title and font size\n",
    "\n",
    "axes[1, 1].scatter(chemdf[\"Fat %\"], chemdf[\"aW\"], color ='green') #scatter chart, x=Fat, y=aW, color green\n",
    "axes[1, 1].set_xlabel(\"Fat\", fontsize=7) #setting x label and font size\n",
    "axes[1, 1].set_ylabel(\"aW\", fontsize=7) #setting y label and font size\n",
    "axes[1, 1].set_title(\"Scatterplot of Product Fat vs Water Activity\", fontsize=8) #setting title and font size\n",
    "\n",
    "fig.tight_layout(pad=3.0) #using tight_layout with pad set to 3.0 to create spacing between subplots\n",
    "plt.show() #call to show the plots"
   ]
  },
  {
   "cell_type": "markdown",
   "id": "e14cce61",
   "metadata": {},
   "source": [
    "These scatter plots show that there is likely some correlation between the fat and other results. This is especially true between fat and moisture and protein. There appears to be much less correlation between fat and pH and water activity. I will be keeping this in mind during model development in future steps. "
   ]
  },
  {
   "cell_type": "markdown",
   "id": "050c34bd",
   "metadata": {},
   "source": [
    "Overall, I now have a good understanding of the makeup and statistics of my dataset and it appears to be fairly clean and ready for further analysis. Also, there appears to be some correlation between my target data variable and other variables in the dataset, which should help with model creation in future steps. "
   ]
  },
  {
   "cell_type": "markdown",
   "id": "8014f6f5",
   "metadata": {},
   "source": [
    "## Part 2"
   ]
  },
  {
   "cell_type": "markdown",
   "id": "05237e52",
   "metadata": {},
   "source": [
    "As I continue on to prepare the data for model analysis, I am going to start by removing some columns of data that will not be useful in the model. "
   ]
  },
  {
   "cell_type": "code",
   "execution_count": 13,
   "id": "125d3c54",
   "metadata": {},
   "outputs": [],
   "source": [
    "chemdf2 = chemdf.drop(['RecordNumber', 'Unnamed: 4', 'WIP Number', 'Julian Date', 'Pallet Numbers', 'MPR', 'aW'], axis=1)"
   ]
  },
  {
   "cell_type": "code",
   "execution_count": 14,
   "id": "fa20016b",
   "metadata": {},
   "outputs": [
    {
     "data": {
      "text/html": [
       "<div>\n",
       "<style scoped>\n",
       "    .dataframe tbody tr th:only-of-type {\n",
       "        vertical-align: middle;\n",
       "    }\n",
       "\n",
       "    .dataframe tbody tr th {\n",
       "        vertical-align: top;\n",
       "    }\n",
       "\n",
       "    .dataframe thead th {\n",
       "        text-align: right;\n",
       "    }\n",
       "</style>\n",
       "<table border=\"1\" class=\"dataframe\">\n",
       "  <thead>\n",
       "    <tr style=\"text-align: right;\">\n",
       "      <th></th>\n",
       "      <th>Date</th>\n",
       "      <th>Time</th>\n",
       "      <th>Resource</th>\n",
       "      <th>Shift</th>\n",
       "      <th>Moisture %</th>\n",
       "      <th>Protein %</th>\n",
       "      <th>Fat %</th>\n",
       "      <th>Salt %</th>\n",
       "      <th>pH</th>\n",
       "    </tr>\n",
       "  </thead>\n",
       "  <tbody>\n",
       "    <tr>\n",
       "      <th>0</th>\n",
       "      <td>4/18/2024</td>\n",
       "      <td>9:33</td>\n",
       "      <td>1544</td>\n",
       "      <td>1</td>\n",
       "      <td>30.43</td>\n",
       "      <td>18.74</td>\n",
       "      <td>44.23</td>\n",
       "      <td>4.67</td>\n",
       "      <td>4.50</td>\n",
       "    </tr>\n",
       "    <tr>\n",
       "      <th>1</th>\n",
       "      <td>4/18/2024</td>\n",
       "      <td>13:09</td>\n",
       "      <td>1544</td>\n",
       "      <td>1</td>\n",
       "      <td>29.11</td>\n",
       "      <td>18.14</td>\n",
       "      <td>45.15</td>\n",
       "      <td>4.10</td>\n",
       "      <td>4.54</td>\n",
       "    </tr>\n",
       "    <tr>\n",
       "      <th>2</th>\n",
       "      <td>4/18/2024</td>\n",
       "      <td>13:10</td>\n",
       "      <td>1544</td>\n",
       "      <td>1</td>\n",
       "      <td>29.32</td>\n",
       "      <td>18.09</td>\n",
       "      <td>44.81</td>\n",
       "      <td>4.58</td>\n",
       "      <td>4.52</td>\n",
       "    </tr>\n",
       "  </tbody>\n",
       "</table>\n",
       "</div>"
      ],
      "text/plain": [
       "        Date   Time Resource  Shift  Moisture %  Protein %  Fat %  Salt %  \\\n",
       "0  4/18/2024   9:33     1544      1       30.43      18.74  44.23    4.67   \n",
       "1  4/18/2024  13:09     1544      1       29.11      18.14  45.15    4.10   \n",
       "2  4/18/2024  13:10     1544      1       29.32      18.09  44.81    4.58   \n",
       "\n",
       "     pH  \n",
       "0  4.50  \n",
       "1  4.54  \n",
       "2  4.52  "
      ]
     },
     "execution_count": 14,
     "metadata": {},
     "output_type": "execute_result"
    }
   ],
   "source": [
    "chemdf2.head(3)"
   ]
  },
  {
   "cell_type": "markdown",
   "id": "6cf4a32a",
   "metadata": {},
   "source": [
    "I dropped 'RecordNumber', 'Unnamed: 4', and 'Pallet Numbers' because I know these are just arbitrary datapoints that cannot have any affect on the chemistry results. I also dropped 'WIP Number', 'Julian Date', and 'MPR' because these are essentially duplicate information - the same information is available in slightly different formats through other parameters. Lastly, I am choosing to drop 'aW' because the chart in the previous section shows that there is virtually no useful correlation with this parameter; my experience also confirms that this is likely true. "
   ]
  },
  {
   "cell_type": "markdown",
   "id": "35ed4468",
   "metadata": {},
   "source": [
    "Looking at the summary statistics for the dataframe, there does not appear to be any outliers in the numerical data. \n",
    "\n",
    "I talked in Part 1 about creating a model to be able to predict fat levels in certain ranges. If I bin all my chemistry data and label the bins with specific label names, my data will become categorical and I can predict certain fat categories based on others. "
   ]
  },
  {
   "cell_type": "code",
   "execution_count": 15,
   "id": "3e0f676a",
   "metadata": {},
   "outputs": [],
   "source": [
    "m_bins = [0, 28, 30, 35] #moisture bin variable\n",
    "m_labels = [\"m1\", \"m2\", \"m3\"] #labels for moisture bins\n",
    "p_bins = [0, 19, 21, 24] #protein bin variable\n",
    "p_labels = [\"p1\", \"p2\", \"p3\"] #labels for protein bins\n",
    "s_bins = [0, 2.9, 3.4, 3.9, 4.4, 5] #salt bin variable\n",
    "s_labels = [\"s1\", \"s2\", \"s3\", \"s4\", \"s5\"] #labels for salt bins\n",
    "ph_bins = [0, 4, 4.5, 4.75, 5] #pH bin variable\n",
    "ph_labels = [\"ph1\", \"ph2\", \"ph3\", \"ph4\"] #labels for pH bins\n",
    "f_bins = [0, 42, 44, 46, 48] #fat bin variable\n",
    "f_labels = [\"f1\", \"f2\", \"f3\", \"f4\"] #labels for fat bins"
   ]
  },
  {
   "cell_type": "code",
   "execution_count": 16,
   "id": "36d74bda",
   "metadata": {},
   "outputs": [],
   "source": [
    "#using pandas cut to create new moisture_binned column with the labels of the bins\n",
    "chemdf2['moisture_binned'] = pd.cut(chemdf2['Moisture %'], bins=m_bins, labels=m_labels)"
   ]
  },
  {
   "cell_type": "code",
   "execution_count": 17,
   "id": "41d8edab",
   "metadata": {},
   "outputs": [],
   "source": [
    "#using pandas cut to create new protein_binned column with the labels of the bins\n",
    "chemdf2['protein_binned'] = pd.cut(chemdf2['Protein %'], bins=p_bins, labels=p_labels)"
   ]
  },
  {
   "cell_type": "code",
   "execution_count": 18,
   "id": "d296f334",
   "metadata": {},
   "outputs": [],
   "source": [
    "#using pandas cut to create new salt_binned column with the labels of the bins\n",
    "chemdf2['salt_binned'] = pd.cut(chemdf2['Salt %'], bins=s_bins, labels=s_labels)"
   ]
  },
  {
   "cell_type": "code",
   "execution_count": 19,
   "id": "65945a1f",
   "metadata": {},
   "outputs": [],
   "source": [
    "#using pandas cut to create new pH_binned column with the labels of the bins\n",
    "chemdf2['pH_binned'] = pd.cut(chemdf2['pH'], bins=ph_bins, labels=ph_labels)"
   ]
  },
  {
   "cell_type": "code",
   "execution_count": 20,
   "id": "26992081",
   "metadata": {},
   "outputs": [],
   "source": [
    "#using pandas cut to create new fat_binned column with the labels of the bins\n",
    "chemdf2['fat_binned'] = pd.cut(chemdf2['Fat %'], bins=f_bins, labels=f_labels)"
   ]
  },
  {
   "cell_type": "code",
   "execution_count": 21,
   "id": "c1238dd9",
   "metadata": {},
   "outputs": [
    {
     "data": {
      "text/html": [
       "<div>\n",
       "<style scoped>\n",
       "    .dataframe tbody tr th:only-of-type {\n",
       "        vertical-align: middle;\n",
       "    }\n",
       "\n",
       "    .dataframe tbody tr th {\n",
       "        vertical-align: top;\n",
       "    }\n",
       "\n",
       "    .dataframe thead th {\n",
       "        text-align: right;\n",
       "    }\n",
       "</style>\n",
       "<table border=\"1\" class=\"dataframe\">\n",
       "  <thead>\n",
       "    <tr style=\"text-align: right;\">\n",
       "      <th></th>\n",
       "      <th>Date</th>\n",
       "      <th>Time</th>\n",
       "      <th>Resource</th>\n",
       "      <th>Shift</th>\n",
       "      <th>Moisture %</th>\n",
       "      <th>Protein %</th>\n",
       "      <th>Fat %</th>\n",
       "      <th>Salt %</th>\n",
       "      <th>pH</th>\n",
       "      <th>moisture_binned</th>\n",
       "      <th>protein_binned</th>\n",
       "      <th>salt_binned</th>\n",
       "      <th>pH_binned</th>\n",
       "      <th>fat_binned</th>\n",
       "    </tr>\n",
       "  </thead>\n",
       "  <tbody>\n",
       "    <tr>\n",
       "      <th>0</th>\n",
       "      <td>4/18/2024</td>\n",
       "      <td>9:33</td>\n",
       "      <td>1544</td>\n",
       "      <td>1</td>\n",
       "      <td>30.43</td>\n",
       "      <td>18.74</td>\n",
       "      <td>44.23</td>\n",
       "      <td>4.67</td>\n",
       "      <td>4.50</td>\n",
       "      <td>m3</td>\n",
       "      <td>p1</td>\n",
       "      <td>s5</td>\n",
       "      <td>ph2</td>\n",
       "      <td>f3</td>\n",
       "    </tr>\n",
       "    <tr>\n",
       "      <th>1</th>\n",
       "      <td>4/18/2024</td>\n",
       "      <td>13:09</td>\n",
       "      <td>1544</td>\n",
       "      <td>1</td>\n",
       "      <td>29.11</td>\n",
       "      <td>18.14</td>\n",
       "      <td>45.15</td>\n",
       "      <td>4.10</td>\n",
       "      <td>4.54</td>\n",
       "      <td>m2</td>\n",
       "      <td>p1</td>\n",
       "      <td>s4</td>\n",
       "      <td>ph3</td>\n",
       "      <td>f3</td>\n",
       "    </tr>\n",
       "    <tr>\n",
       "      <th>2</th>\n",
       "      <td>4/18/2024</td>\n",
       "      <td>13:10</td>\n",
       "      <td>1544</td>\n",
       "      <td>1</td>\n",
       "      <td>29.32</td>\n",
       "      <td>18.09</td>\n",
       "      <td>44.81</td>\n",
       "      <td>4.58</td>\n",
       "      <td>4.52</td>\n",
       "      <td>m2</td>\n",
       "      <td>p1</td>\n",
       "      <td>s5</td>\n",
       "      <td>ph3</td>\n",
       "      <td>f3</td>\n",
       "    </tr>\n",
       "    <tr>\n",
       "      <th>3</th>\n",
       "      <td>4/18/2024</td>\n",
       "      <td>21:11</td>\n",
       "      <td>3318</td>\n",
       "      <td>2</td>\n",
       "      <td>31.49</td>\n",
       "      <td>19.61</td>\n",
       "      <td>42.00</td>\n",
       "      <td>3.31</td>\n",
       "      <td>4.69</td>\n",
       "      <td>m3</td>\n",
       "      <td>p2</td>\n",
       "      <td>s2</td>\n",
       "      <td>ph3</td>\n",
       "      <td>f1</td>\n",
       "    </tr>\n",
       "    <tr>\n",
       "      <th>4</th>\n",
       "      <td>4/18/2024</td>\n",
       "      <td>21:12</td>\n",
       "      <td>3318</td>\n",
       "      <td>2</td>\n",
       "      <td>30.99</td>\n",
       "      <td>19.00</td>\n",
       "      <td>42.55</td>\n",
       "      <td>3.61</td>\n",
       "      <td>4.69</td>\n",
       "      <td>m3</td>\n",
       "      <td>p1</td>\n",
       "      <td>s3</td>\n",
       "      <td>ph3</td>\n",
       "      <td>f2</td>\n",
       "    </tr>\n",
       "    <tr>\n",
       "      <th>5</th>\n",
       "      <td>4/18/2024</td>\n",
       "      <td>21:13</td>\n",
       "      <td>3318</td>\n",
       "      <td>2</td>\n",
       "      <td>31.62</td>\n",
       "      <td>19.39</td>\n",
       "      <td>42.14</td>\n",
       "      <td>3.33</td>\n",
       "      <td>4.65</td>\n",
       "      <td>m3</td>\n",
       "      <td>p2</td>\n",
       "      <td>s2</td>\n",
       "      <td>ph3</td>\n",
       "      <td>f2</td>\n",
       "    </tr>\n",
       "    <tr>\n",
       "      <th>6</th>\n",
       "      <td>4/18/2024</td>\n",
       "      <td>21:14</td>\n",
       "      <td>3318</td>\n",
       "      <td>2</td>\n",
       "      <td>31.42</td>\n",
       "      <td>19.32</td>\n",
       "      <td>42.06</td>\n",
       "      <td>3.35</td>\n",
       "      <td>4.69</td>\n",
       "      <td>m3</td>\n",
       "      <td>p2</td>\n",
       "      <td>s2</td>\n",
       "      <td>ph3</td>\n",
       "      <td>f2</td>\n",
       "    </tr>\n",
       "    <tr>\n",
       "      <th>7</th>\n",
       "      <td>4/19/2024</td>\n",
       "      <td>14:20</td>\n",
       "      <td>1544</td>\n",
       "      <td>1</td>\n",
       "      <td>29.78</td>\n",
       "      <td>18.33</td>\n",
       "      <td>43.26</td>\n",
       "      <td>4.36</td>\n",
       "      <td>4.57</td>\n",
       "      <td>m2</td>\n",
       "      <td>p1</td>\n",
       "      <td>s4</td>\n",
       "      <td>ph3</td>\n",
       "      <td>f2</td>\n",
       "    </tr>\n",
       "    <tr>\n",
       "      <th>8</th>\n",
       "      <td>4/19/2024</td>\n",
       "      <td>14:21</td>\n",
       "      <td>1544</td>\n",
       "      <td>1</td>\n",
       "      <td>29.82</td>\n",
       "      <td>18.33</td>\n",
       "      <td>44.07</td>\n",
       "      <td>4.45</td>\n",
       "      <td>4.57</td>\n",
       "      <td>m2</td>\n",
       "      <td>p1</td>\n",
       "      <td>s5</td>\n",
       "      <td>ph3</td>\n",
       "      <td>f3</td>\n",
       "    </tr>\n",
       "    <tr>\n",
       "      <th>9</th>\n",
       "      <td>4/19/2024</td>\n",
       "      <td>14:24</td>\n",
       "      <td>1544</td>\n",
       "      <td>1</td>\n",
       "      <td>28.75</td>\n",
       "      <td>18.98</td>\n",
       "      <td>44.97</td>\n",
       "      <td>4.38</td>\n",
       "      <td>4.56</td>\n",
       "      <td>m2</td>\n",
       "      <td>p1</td>\n",
       "      <td>s4</td>\n",
       "      <td>ph3</td>\n",
       "      <td>f3</td>\n",
       "    </tr>\n",
       "    <tr>\n",
       "      <th>10</th>\n",
       "      <td>4/19/2024</td>\n",
       "      <td>14:26</td>\n",
       "      <td>1544</td>\n",
       "      <td>1</td>\n",
       "      <td>29.52</td>\n",
       "      <td>18.43</td>\n",
       "      <td>44.56</td>\n",
       "      <td>4.48</td>\n",
       "      <td>4.53</td>\n",
       "      <td>m2</td>\n",
       "      <td>p1</td>\n",
       "      <td>s5</td>\n",
       "      <td>ph3</td>\n",
       "      <td>f3</td>\n",
       "    </tr>\n",
       "    <tr>\n",
       "      <th>11</th>\n",
       "      <td>4/19/2024</td>\n",
       "      <td>14:27</td>\n",
       "      <td>1544</td>\n",
       "      <td>1</td>\n",
       "      <td>30.43</td>\n",
       "      <td>19.05</td>\n",
       "      <td>43.09</td>\n",
       "      <td>4.48</td>\n",
       "      <td>4.57</td>\n",
       "      <td>m3</td>\n",
       "      <td>p2</td>\n",
       "      <td>s5</td>\n",
       "      <td>ph3</td>\n",
       "      <td>f2</td>\n",
       "    </tr>\n",
       "    <tr>\n",
       "      <th>12</th>\n",
       "      <td>4/19/2024</td>\n",
       "      <td>14:29</td>\n",
       "      <td>1544</td>\n",
       "      <td>1</td>\n",
       "      <td>30.43</td>\n",
       "      <td>19.05</td>\n",
       "      <td>43.09</td>\n",
       "      <td>4.48</td>\n",
       "      <td>4.58</td>\n",
       "      <td>m3</td>\n",
       "      <td>p2</td>\n",
       "      <td>s5</td>\n",
       "      <td>ph3</td>\n",
       "      <td>f2</td>\n",
       "    </tr>\n",
       "    <tr>\n",
       "      <th>13</th>\n",
       "      <td>4/19/2024</td>\n",
       "      <td>14:32</td>\n",
       "      <td>1544</td>\n",
       "      <td>1</td>\n",
       "      <td>29.28</td>\n",
       "      <td>18.53</td>\n",
       "      <td>45.11</td>\n",
       "      <td>4.38</td>\n",
       "      <td>4.56</td>\n",
       "      <td>m2</td>\n",
       "      <td>p1</td>\n",
       "      <td>s4</td>\n",
       "      <td>ph3</td>\n",
       "      <td>f3</td>\n",
       "    </tr>\n",
       "    <tr>\n",
       "      <th>14</th>\n",
       "      <td>4/19/2024</td>\n",
       "      <td>20:39</td>\n",
       "      <td>1544</td>\n",
       "      <td>2</td>\n",
       "      <td>28.65</td>\n",
       "      <td>18.49</td>\n",
       "      <td>44.52</td>\n",
       "      <td>4.37</td>\n",
       "      <td>4.57</td>\n",
       "      <td>m2</td>\n",
       "      <td>p1</td>\n",
       "      <td>s4</td>\n",
       "      <td>ph3</td>\n",
       "      <td>f3</td>\n",
       "    </tr>\n",
       "    <tr>\n",
       "      <th>15</th>\n",
       "      <td>4/19/2024</td>\n",
       "      <td>22:21</td>\n",
       "      <td>3318</td>\n",
       "      <td>2</td>\n",
       "      <td>30.07</td>\n",
       "      <td>18.89</td>\n",
       "      <td>43.86</td>\n",
       "      <td>3.64</td>\n",
       "      <td>4.72</td>\n",
       "      <td>m3</td>\n",
       "      <td>p1</td>\n",
       "      <td>s3</td>\n",
       "      <td>ph3</td>\n",
       "      <td>f2</td>\n",
       "    </tr>\n",
       "    <tr>\n",
       "      <th>16</th>\n",
       "      <td>4/19/2024</td>\n",
       "      <td>22:22</td>\n",
       "      <td>3318</td>\n",
       "      <td>2</td>\n",
       "      <td>30.64</td>\n",
       "      <td>19.19</td>\n",
       "      <td>43.50</td>\n",
       "      <td>3.14</td>\n",
       "      <td>4.71</td>\n",
       "      <td>m3</td>\n",
       "      <td>p2</td>\n",
       "      <td>s2</td>\n",
       "      <td>ph3</td>\n",
       "      <td>f2</td>\n",
       "    </tr>\n",
       "    <tr>\n",
       "      <th>17</th>\n",
       "      <td>4/19/2024</td>\n",
       "      <td>22:23</td>\n",
       "      <td>3318</td>\n",
       "      <td>2</td>\n",
       "      <td>30.90</td>\n",
       "      <td>18.95</td>\n",
       "      <td>43.73</td>\n",
       "      <td>3.24</td>\n",
       "      <td>4.68</td>\n",
       "      <td>m3</td>\n",
       "      <td>p1</td>\n",
       "      <td>s2</td>\n",
       "      <td>ph3</td>\n",
       "      <td>f2</td>\n",
       "    </tr>\n",
       "    <tr>\n",
       "      <th>18</th>\n",
       "      <td>4/20/2024</td>\n",
       "      <td>12:43</td>\n",
       "      <td>3318</td>\n",
       "      <td>2</td>\n",
       "      <td>30.47</td>\n",
       "      <td>20.57</td>\n",
       "      <td>42.56</td>\n",
       "      <td>3.56</td>\n",
       "      <td>4.66</td>\n",
       "      <td>m3</td>\n",
       "      <td>p2</td>\n",
       "      <td>s3</td>\n",
       "      <td>ph3</td>\n",
       "      <td>f2</td>\n",
       "    </tr>\n",
       "    <tr>\n",
       "      <th>19</th>\n",
       "      <td>4/20/2024</td>\n",
       "      <td>12:53</td>\n",
       "      <td>3318</td>\n",
       "      <td>2</td>\n",
       "      <td>30.83</td>\n",
       "      <td>21.10</td>\n",
       "      <td>43.08</td>\n",
       "      <td>3.13</td>\n",
       "      <td>4.72</td>\n",
       "      <td>m3</td>\n",
       "      <td>p3</td>\n",
       "      <td>s2</td>\n",
       "      <td>ph3</td>\n",
       "      <td>f2</td>\n",
       "    </tr>\n",
       "  </tbody>\n",
       "</table>\n",
       "</div>"
      ],
      "text/plain": [
       "         Date   Time Resource  Shift  Moisture %  Protein %  Fat %  Salt %  \\\n",
       "0   4/18/2024   9:33     1544      1       30.43      18.74  44.23    4.67   \n",
       "1   4/18/2024  13:09     1544      1       29.11      18.14  45.15    4.10   \n",
       "2   4/18/2024  13:10     1544      1       29.32      18.09  44.81    4.58   \n",
       "3   4/18/2024  21:11     3318      2       31.49      19.61  42.00    3.31   \n",
       "4   4/18/2024  21:12     3318      2       30.99      19.00  42.55    3.61   \n",
       "5   4/18/2024  21:13     3318      2       31.62      19.39  42.14    3.33   \n",
       "6   4/18/2024  21:14     3318      2       31.42      19.32  42.06    3.35   \n",
       "7   4/19/2024  14:20     1544      1       29.78      18.33  43.26    4.36   \n",
       "8   4/19/2024  14:21     1544      1       29.82      18.33  44.07    4.45   \n",
       "9   4/19/2024  14:24     1544      1       28.75      18.98  44.97    4.38   \n",
       "10  4/19/2024  14:26     1544      1       29.52      18.43  44.56    4.48   \n",
       "11  4/19/2024  14:27     1544      1       30.43      19.05  43.09    4.48   \n",
       "12  4/19/2024  14:29     1544      1       30.43      19.05  43.09    4.48   \n",
       "13  4/19/2024  14:32     1544      1       29.28      18.53  45.11    4.38   \n",
       "14  4/19/2024  20:39     1544      2       28.65      18.49  44.52    4.37   \n",
       "15  4/19/2024  22:21     3318      2       30.07      18.89  43.86    3.64   \n",
       "16  4/19/2024  22:22     3318      2       30.64      19.19  43.50    3.14   \n",
       "17  4/19/2024  22:23     3318      2       30.90      18.95  43.73    3.24   \n",
       "18  4/20/2024  12:43     3318      2       30.47      20.57  42.56    3.56   \n",
       "19  4/20/2024  12:53     3318      2       30.83      21.10  43.08    3.13   \n",
       "\n",
       "      pH moisture_binned protein_binned salt_binned pH_binned fat_binned  \n",
       "0   4.50              m3             p1          s5       ph2         f3  \n",
       "1   4.54              m2             p1          s4       ph3         f3  \n",
       "2   4.52              m2             p1          s5       ph3         f3  \n",
       "3   4.69              m3             p2          s2       ph3         f1  \n",
       "4   4.69              m3             p1          s3       ph3         f2  \n",
       "5   4.65              m3             p2          s2       ph3         f2  \n",
       "6   4.69              m3             p2          s2       ph3         f2  \n",
       "7   4.57              m2             p1          s4       ph3         f2  \n",
       "8   4.57              m2             p1          s5       ph3         f3  \n",
       "9   4.56              m2             p1          s4       ph3         f3  \n",
       "10  4.53              m2             p1          s5       ph3         f3  \n",
       "11  4.57              m3             p2          s5       ph3         f2  \n",
       "12  4.58              m3             p2          s5       ph3         f2  \n",
       "13  4.56              m2             p1          s4       ph3         f3  \n",
       "14  4.57              m2             p1          s4       ph3         f3  \n",
       "15  4.72              m3             p1          s3       ph3         f2  \n",
       "16  4.71              m3             p2          s2       ph3         f2  \n",
       "17  4.68              m3             p1          s2       ph3         f2  \n",
       "18  4.66              m3             p2          s3       ph3         f2  \n",
       "19  4.72              m3             p3          s2       ph3         f2  "
      ]
     },
     "execution_count": 21,
     "metadata": {},
     "output_type": "execute_result"
    }
   ],
   "source": [
    "chemdf2.head(20)"
   ]
  },
  {
   "cell_type": "markdown",
   "id": "79d39017",
   "metadata": {},
   "source": [
    "As of right now, I only plan to use the binned data for my model creation, so I will copy these into a new dataframe. However, I will keep all the previous data in the previous dataframe. "
   ]
  },
  {
   "cell_type": "code",
   "execution_count": 22,
   "id": "713a40fa",
   "metadata": {},
   "outputs": [],
   "source": [
    "#creating new dataframe by using copy() on the previous dataframe and calling the desired columns\n",
    "chemdf3 = chemdf2[['moisture_binned', 'protein_binned', 'salt_binned', 'pH_binned', 'fat_binned']].copy()"
   ]
  },
  {
   "cell_type": "code",
   "execution_count": 23,
   "id": "9a4a96fa",
   "metadata": {},
   "outputs": [
    {
     "data": {
      "text/html": [
       "<div>\n",
       "<style scoped>\n",
       "    .dataframe tbody tr th:only-of-type {\n",
       "        vertical-align: middle;\n",
       "    }\n",
       "\n",
       "    .dataframe tbody tr th {\n",
       "        vertical-align: top;\n",
       "    }\n",
       "\n",
       "    .dataframe thead th {\n",
       "        text-align: right;\n",
       "    }\n",
       "</style>\n",
       "<table border=\"1\" class=\"dataframe\">\n",
       "  <thead>\n",
       "    <tr style=\"text-align: right;\">\n",
       "      <th></th>\n",
       "      <th>moisture_binned</th>\n",
       "      <th>protein_binned</th>\n",
       "      <th>salt_binned</th>\n",
       "      <th>pH_binned</th>\n",
       "      <th>fat_binned</th>\n",
       "    </tr>\n",
       "  </thead>\n",
       "  <tbody>\n",
       "    <tr>\n",
       "      <th>0</th>\n",
       "      <td>m3</td>\n",
       "      <td>p1</td>\n",
       "      <td>s5</td>\n",
       "      <td>ph2</td>\n",
       "      <td>f3</td>\n",
       "    </tr>\n",
       "    <tr>\n",
       "      <th>1</th>\n",
       "      <td>m2</td>\n",
       "      <td>p1</td>\n",
       "      <td>s4</td>\n",
       "      <td>ph3</td>\n",
       "      <td>f3</td>\n",
       "    </tr>\n",
       "    <tr>\n",
       "      <th>2</th>\n",
       "      <td>m2</td>\n",
       "      <td>p1</td>\n",
       "      <td>s5</td>\n",
       "      <td>ph3</td>\n",
       "      <td>f3</td>\n",
       "    </tr>\n",
       "    <tr>\n",
       "      <th>3</th>\n",
       "      <td>m3</td>\n",
       "      <td>p2</td>\n",
       "      <td>s2</td>\n",
       "      <td>ph3</td>\n",
       "      <td>f1</td>\n",
       "    </tr>\n",
       "    <tr>\n",
       "      <th>4</th>\n",
       "      <td>m3</td>\n",
       "      <td>p1</td>\n",
       "      <td>s3</td>\n",
       "      <td>ph3</td>\n",
       "      <td>f2</td>\n",
       "    </tr>\n",
       "  </tbody>\n",
       "</table>\n",
       "</div>"
      ],
      "text/plain": [
       "  moisture_binned protein_binned salt_binned pH_binned fat_binned\n",
       "0              m3             p1          s5       ph2         f3\n",
       "1              m2             p1          s4       ph3         f3\n",
       "2              m2             p1          s5       ph3         f3\n",
       "3              m3             p2          s2       ph3         f1\n",
       "4              m3             p1          s3       ph3         f2"
      ]
     },
     "execution_count": 23,
     "metadata": {},
     "output_type": "execute_result"
    }
   ],
   "source": [
    "chemdf3.head(5)"
   ]
  },
  {
   "cell_type": "markdown",
   "id": "b2eec4f1",
   "metadata": {},
   "source": [
    "### Part 3"
   ]
  },
  {
   "cell_type": "markdown",
   "id": "90b9d9ff",
   "metadata": {},
   "source": [
    "First an update based on feedback from Part 2. I am choosing to bin my data because I feel like in the application of the model, it will be easier in my job to look at or look for data that falls in certain testing ranges rather than specific values. For example, if I know a certain moisture result range yields a certain fat result range, we might be able to adjust the overall formula to a certain range. \n",
    "\n",
    "My first step in Part 3 is to create dummy variables for my binned data so I can run a logistic regression model. "
   ]
  },
  {
   "cell_type": "code",
   "execution_count": 36,
   "id": "8b353714",
   "metadata": {},
   "outputs": [],
   "source": [
    "# creating new df by calling get_dummies on previous df calling the 4 columns by name, but not the intended test column\n",
    "chemdf4 = pd.get_dummies(chemdf3, prefix=['moisture_binned', 'protein_binned', 'salt_binned', 'pH_binned'], columns=['moisture_binned', 'protein_binned', 'salt_binned', 'pH_binned'])"
   ]
  },
  {
   "cell_type": "code",
   "execution_count": 37,
   "id": "106a3602",
   "metadata": {
    "scrolled": true
   },
   "outputs": [
    {
     "data": {
      "text/html": [
       "<div>\n",
       "<style scoped>\n",
       "    .dataframe tbody tr th:only-of-type {\n",
       "        vertical-align: middle;\n",
       "    }\n",
       "\n",
       "    .dataframe tbody tr th {\n",
       "        vertical-align: top;\n",
       "    }\n",
       "\n",
       "    .dataframe thead th {\n",
       "        text-align: right;\n",
       "    }\n",
       "</style>\n",
       "<table border=\"1\" class=\"dataframe\">\n",
       "  <thead>\n",
       "    <tr style=\"text-align: right;\">\n",
       "      <th></th>\n",
       "      <th>fat_binned</th>\n",
       "      <th>moisture_binned_m1</th>\n",
       "      <th>moisture_binned_m2</th>\n",
       "      <th>moisture_binned_m3</th>\n",
       "      <th>protein_binned_p1</th>\n",
       "      <th>protein_binned_p2</th>\n",
       "      <th>protein_binned_p3</th>\n",
       "      <th>salt_binned_s1</th>\n",
       "      <th>salt_binned_s2</th>\n",
       "      <th>salt_binned_s3</th>\n",
       "      <th>salt_binned_s4</th>\n",
       "      <th>salt_binned_s5</th>\n",
       "      <th>pH_binned_ph1</th>\n",
       "      <th>pH_binned_ph2</th>\n",
       "      <th>pH_binned_ph3</th>\n",
       "      <th>pH_binned_ph4</th>\n",
       "    </tr>\n",
       "  </thead>\n",
       "  <tbody>\n",
       "    <tr>\n",
       "      <th>0</th>\n",
       "      <td>f3</td>\n",
       "      <td>0</td>\n",
       "      <td>0</td>\n",
       "      <td>1</td>\n",
       "      <td>1</td>\n",
       "      <td>0</td>\n",
       "      <td>0</td>\n",
       "      <td>0</td>\n",
       "      <td>0</td>\n",
       "      <td>0</td>\n",
       "      <td>0</td>\n",
       "      <td>1</td>\n",
       "      <td>0</td>\n",
       "      <td>1</td>\n",
       "      <td>0</td>\n",
       "      <td>0</td>\n",
       "    </tr>\n",
       "    <tr>\n",
       "      <th>1</th>\n",
       "      <td>f3</td>\n",
       "      <td>0</td>\n",
       "      <td>1</td>\n",
       "      <td>0</td>\n",
       "      <td>1</td>\n",
       "      <td>0</td>\n",
       "      <td>0</td>\n",
       "      <td>0</td>\n",
       "      <td>0</td>\n",
       "      <td>0</td>\n",
       "      <td>1</td>\n",
       "      <td>0</td>\n",
       "      <td>0</td>\n",
       "      <td>0</td>\n",
       "      <td>1</td>\n",
       "      <td>0</td>\n",
       "    </tr>\n",
       "  </tbody>\n",
       "</table>\n",
       "</div>"
      ],
      "text/plain": [
       "  fat_binned  moisture_binned_m1  moisture_binned_m2  moisture_binned_m3  \\\n",
       "0         f3                   0                   0                   1   \n",
       "1         f3                   0                   1                   0   \n",
       "\n",
       "   protein_binned_p1  protein_binned_p2  protein_binned_p3  salt_binned_s1  \\\n",
       "0                  1                  0                  0               0   \n",
       "1                  1                  0                  0               0   \n",
       "\n",
       "   salt_binned_s2  salt_binned_s3  salt_binned_s4  salt_binned_s5  \\\n",
       "0               0               0               0               1   \n",
       "1               0               0               1               0   \n",
       "\n",
       "   pH_binned_ph1  pH_binned_ph2  pH_binned_ph3  pH_binned_ph4  \n",
       "0              0              1              0              0  \n",
       "1              0              0              1              0  "
      ]
     },
     "execution_count": 37,
     "metadata": {},
     "output_type": "execute_result"
    }
   ],
   "source": [
    "chemdf4.head(2)"
   ]
  },
  {
   "cell_type": "code",
   "execution_count": 40,
   "id": "c48e78a2",
   "metadata": {},
   "outputs": [],
   "source": [
    "# creating a new df by calling replace on the previous df 4 times with the specified value in the column and the numeric value to replace it\n",
    "chemdf5 = chemdf4.replace({'fat_binned': 'f1'}, 0).replace({'fat_binned': 'f2'}, 1).replace({'fat_binned': 'f3'}, 2).replace({'fat_binned': 'f4'}, 3)"
   ]
  },
  {
   "cell_type": "code",
   "execution_count": 42,
   "id": "9dca61ae",
   "metadata": {},
   "outputs": [
    {
     "data": {
      "text/html": [
       "<div>\n",
       "<style scoped>\n",
       "    .dataframe tbody tr th:only-of-type {\n",
       "        vertical-align: middle;\n",
       "    }\n",
       "\n",
       "    .dataframe tbody tr th {\n",
       "        vertical-align: top;\n",
       "    }\n",
       "\n",
       "    .dataframe thead th {\n",
       "        text-align: right;\n",
       "    }\n",
       "</style>\n",
       "<table border=\"1\" class=\"dataframe\">\n",
       "  <thead>\n",
       "    <tr style=\"text-align: right;\">\n",
       "      <th></th>\n",
       "      <th>fat_binned</th>\n",
       "      <th>moisture_binned_m1</th>\n",
       "      <th>moisture_binned_m2</th>\n",
       "      <th>moisture_binned_m3</th>\n",
       "      <th>protein_binned_p1</th>\n",
       "      <th>protein_binned_p2</th>\n",
       "      <th>protein_binned_p3</th>\n",
       "      <th>salt_binned_s1</th>\n",
       "      <th>salt_binned_s2</th>\n",
       "      <th>salt_binned_s3</th>\n",
       "      <th>salt_binned_s4</th>\n",
       "      <th>salt_binned_s5</th>\n",
       "      <th>pH_binned_ph1</th>\n",
       "      <th>pH_binned_ph2</th>\n",
       "      <th>pH_binned_ph3</th>\n",
       "      <th>pH_binned_ph4</th>\n",
       "    </tr>\n",
       "  </thead>\n",
       "  <tbody>\n",
       "    <tr>\n",
       "      <th>0</th>\n",
       "      <td>2</td>\n",
       "      <td>0</td>\n",
       "      <td>0</td>\n",
       "      <td>1</td>\n",
       "      <td>1</td>\n",
       "      <td>0</td>\n",
       "      <td>0</td>\n",
       "      <td>0</td>\n",
       "      <td>0</td>\n",
       "      <td>0</td>\n",
       "      <td>0</td>\n",
       "      <td>1</td>\n",
       "      <td>0</td>\n",
       "      <td>1</td>\n",
       "      <td>0</td>\n",
       "      <td>0</td>\n",
       "    </tr>\n",
       "    <tr>\n",
       "      <th>1</th>\n",
       "      <td>2</td>\n",
       "      <td>0</td>\n",
       "      <td>1</td>\n",
       "      <td>0</td>\n",
       "      <td>1</td>\n",
       "      <td>0</td>\n",
       "      <td>0</td>\n",
       "      <td>0</td>\n",
       "      <td>0</td>\n",
       "      <td>0</td>\n",
       "      <td>1</td>\n",
       "      <td>0</td>\n",
       "      <td>0</td>\n",
       "      <td>0</td>\n",
       "      <td>1</td>\n",
       "      <td>0</td>\n",
       "    </tr>\n",
       "    <tr>\n",
       "      <th>2</th>\n",
       "      <td>2</td>\n",
       "      <td>0</td>\n",
       "      <td>1</td>\n",
       "      <td>0</td>\n",
       "      <td>1</td>\n",
       "      <td>0</td>\n",
       "      <td>0</td>\n",
       "      <td>0</td>\n",
       "      <td>0</td>\n",
       "      <td>0</td>\n",
       "      <td>0</td>\n",
       "      <td>1</td>\n",
       "      <td>0</td>\n",
       "      <td>0</td>\n",
       "      <td>1</td>\n",
       "      <td>0</td>\n",
       "    </tr>\n",
       "    <tr>\n",
       "      <th>3</th>\n",
       "      <td>0</td>\n",
       "      <td>0</td>\n",
       "      <td>0</td>\n",
       "      <td>1</td>\n",
       "      <td>0</td>\n",
       "      <td>1</td>\n",
       "      <td>0</td>\n",
       "      <td>0</td>\n",
       "      <td>1</td>\n",
       "      <td>0</td>\n",
       "      <td>0</td>\n",
       "      <td>0</td>\n",
       "      <td>0</td>\n",
       "      <td>0</td>\n",
       "      <td>1</td>\n",
       "      <td>0</td>\n",
       "    </tr>\n",
       "    <tr>\n",
       "      <th>4</th>\n",
       "      <td>1</td>\n",
       "      <td>0</td>\n",
       "      <td>0</td>\n",
       "      <td>1</td>\n",
       "      <td>1</td>\n",
       "      <td>0</td>\n",
       "      <td>0</td>\n",
       "      <td>0</td>\n",
       "      <td>0</td>\n",
       "      <td>1</td>\n",
       "      <td>0</td>\n",
       "      <td>0</td>\n",
       "      <td>0</td>\n",
       "      <td>0</td>\n",
       "      <td>1</td>\n",
       "      <td>0</td>\n",
       "    </tr>\n",
       "  </tbody>\n",
       "</table>\n",
       "</div>"
      ],
      "text/plain": [
       "  fat_binned  moisture_binned_m1  moisture_binned_m2  moisture_binned_m3  \\\n",
       "0          2                   0                   0                   1   \n",
       "1          2                   0                   1                   0   \n",
       "2          2                   0                   1                   0   \n",
       "3          0                   0                   0                   1   \n",
       "4          1                   0                   0                   1   \n",
       "\n",
       "   protein_binned_p1  protein_binned_p2  protein_binned_p3  salt_binned_s1  \\\n",
       "0                  1                  0                  0               0   \n",
       "1                  1                  0                  0               0   \n",
       "2                  1                  0                  0               0   \n",
       "3                  0                  1                  0               0   \n",
       "4                  1                  0                  0               0   \n",
       "\n",
       "   salt_binned_s2  salt_binned_s3  salt_binned_s4  salt_binned_s5  \\\n",
       "0               0               0               0               1   \n",
       "1               0               0               1               0   \n",
       "2               0               0               0               1   \n",
       "3               1               0               0               0   \n",
       "4               0               1               0               0   \n",
       "\n",
       "   pH_binned_ph1  pH_binned_ph2  pH_binned_ph3  pH_binned_ph4  \n",
       "0              0              1              0              0  \n",
       "1              0              0              1              0  \n",
       "2              0              0              1              0  \n",
       "3              0              0              1              0  \n",
       "4              0              0              1              0  "
      ]
     },
     "execution_count": 42,
     "metadata": {},
     "output_type": "execute_result"
    }
   ],
   "source": [
    "chemdf5.head(5)"
   ]
  },
  {
   "cell_type": "code",
   "execution_count": 24,
   "id": "73817a97",
   "metadata": {},
   "outputs": [],
   "source": [
    "from sklearn.model_selection import train_test_split #importing tool to split dataset into test and train data"
   ]
  },
  {
   "cell_type": "code",
   "execution_count": 25,
   "id": "e4cac752",
   "metadata": {},
   "outputs": [],
   "source": [
    "from sklearn.linear_model import LogisticRegression #importing logistic regression model library"
   ]
  },
  {
   "cell_type": "code",
   "execution_count": 43,
   "id": "387d4954",
   "metadata": {},
   "outputs": [],
   "source": [
    "X = chemdf4.drop(['fat_binned'], axis = 1) # selecting X values (comparisons) calling for entire df except dropping (drop) the fat_binned column which is the target\n",
    "y = chemdf4['fat_binned'] # selecting the y values (target) calling for fat_binned column"
   ]
  },
  {
   "cell_type": "code",
   "execution_count": 44,
   "id": "50138bdf",
   "metadata": {},
   "outputs": [],
   "source": [
    "# format for creating test and train data from X and y values, using train_test_split function, test_size of 0.2 is 20% test, random_state to control\n",
    "X_train, X_test, y_train, y_test = train_test_split(X, y, test_size = 0.2, random_state = 0)"
   ]
  },
  {
   "cell_type": "markdown",
   "id": "9c76adcf",
   "metadata": {},
   "source": [
    "I am choosing to run a multinomial logistic regression model on my data because my data has been transformed into categorical and there are multiple class options in my dataset. "
   ]
  },
  {
   "cell_type": "code",
   "execution_count": 45,
   "id": "c849e28d",
   "metadata": {},
   "outputs": [
    {
     "data": {
      "text/html": [
       "<style>#sk-container-id-1 {color: black;}#sk-container-id-1 pre{padding: 0;}#sk-container-id-1 div.sk-toggleable {background-color: white;}#sk-container-id-1 label.sk-toggleable__label {cursor: pointer;display: block;width: 100%;margin-bottom: 0;padding: 0.3em;box-sizing: border-box;text-align: center;}#sk-container-id-1 label.sk-toggleable__label-arrow:before {content: \"▸\";float: left;margin-right: 0.25em;color: #696969;}#sk-container-id-1 label.sk-toggleable__label-arrow:hover:before {color: black;}#sk-container-id-1 div.sk-estimator:hover label.sk-toggleable__label-arrow:before {color: black;}#sk-container-id-1 div.sk-toggleable__content {max-height: 0;max-width: 0;overflow: hidden;text-align: left;background-color: #f0f8ff;}#sk-container-id-1 div.sk-toggleable__content pre {margin: 0.2em;color: black;border-radius: 0.25em;background-color: #f0f8ff;}#sk-container-id-1 input.sk-toggleable__control:checked~div.sk-toggleable__content {max-height: 200px;max-width: 100%;overflow: auto;}#sk-container-id-1 input.sk-toggleable__control:checked~label.sk-toggleable__label-arrow:before {content: \"▾\";}#sk-container-id-1 div.sk-estimator input.sk-toggleable__control:checked~label.sk-toggleable__label {background-color: #d4ebff;}#sk-container-id-1 div.sk-label input.sk-toggleable__control:checked~label.sk-toggleable__label {background-color: #d4ebff;}#sk-container-id-1 input.sk-hidden--visually {border: 0;clip: rect(1px 1px 1px 1px);clip: rect(1px, 1px, 1px, 1px);height: 1px;margin: -1px;overflow: hidden;padding: 0;position: absolute;width: 1px;}#sk-container-id-1 div.sk-estimator {font-family: monospace;background-color: #f0f8ff;border: 1px dotted black;border-radius: 0.25em;box-sizing: border-box;margin-bottom: 0.5em;}#sk-container-id-1 div.sk-estimator:hover {background-color: #d4ebff;}#sk-container-id-1 div.sk-parallel-item::after {content: \"\";width: 100%;border-bottom: 1px solid gray;flex-grow: 1;}#sk-container-id-1 div.sk-label:hover label.sk-toggleable__label {background-color: #d4ebff;}#sk-container-id-1 div.sk-serial::before {content: \"\";position: absolute;border-left: 1px solid gray;box-sizing: border-box;top: 0;bottom: 0;left: 50%;z-index: 0;}#sk-container-id-1 div.sk-serial {display: flex;flex-direction: column;align-items: center;background-color: white;padding-right: 0.2em;padding-left: 0.2em;position: relative;}#sk-container-id-1 div.sk-item {position: relative;z-index: 1;}#sk-container-id-1 div.sk-parallel {display: flex;align-items: stretch;justify-content: center;background-color: white;position: relative;}#sk-container-id-1 div.sk-item::before, #sk-container-id-1 div.sk-parallel-item::before {content: \"\";position: absolute;border-left: 1px solid gray;box-sizing: border-box;top: 0;bottom: 0;left: 50%;z-index: -1;}#sk-container-id-1 div.sk-parallel-item {display: flex;flex-direction: column;z-index: 1;position: relative;background-color: white;}#sk-container-id-1 div.sk-parallel-item:first-child::after {align-self: flex-end;width: 50%;}#sk-container-id-1 div.sk-parallel-item:last-child::after {align-self: flex-start;width: 50%;}#sk-container-id-1 div.sk-parallel-item:only-child::after {width: 0;}#sk-container-id-1 div.sk-dashed-wrapped {border: 1px dashed gray;margin: 0 0.4em 0.5em 0.4em;box-sizing: border-box;padding-bottom: 0.4em;background-color: white;}#sk-container-id-1 div.sk-label label {font-family: monospace;font-weight: bold;display: inline-block;line-height: 1.2em;}#sk-container-id-1 div.sk-label-container {text-align: center;}#sk-container-id-1 div.sk-container {/* jupyter's `normalize.less` sets `[hidden] { display: none; }` but bootstrap.min.css set `[hidden] { display: none !important; }` so we also need the `!important` here to be able to override the default hidden behavior on the sphinx rendered scikit-learn.org. See: https://github.com/scikit-learn/scikit-learn/issues/21755 */display: inline-block !important;position: relative;}#sk-container-id-1 div.sk-text-repr-fallback {display: none;}</style><div id=\"sk-container-id-1\" class=\"sk-top-container\"><div class=\"sk-text-repr-fallback\"><pre>LogisticRegression(multi_class=&#x27;multinomial&#x27;)</pre><b>In a Jupyter environment, please rerun this cell to show the HTML representation or trust the notebook. <br />On GitHub, the HTML representation is unable to render, please try loading this page with nbviewer.org.</b></div><div class=\"sk-container\" hidden><div class=\"sk-item\"><div class=\"sk-estimator sk-toggleable\"><input class=\"sk-toggleable__control sk-hidden--visually\" id=\"sk-estimator-id-1\" type=\"checkbox\" checked><label for=\"sk-estimator-id-1\" class=\"sk-toggleable__label sk-toggleable__label-arrow\">LogisticRegression</label><div class=\"sk-toggleable__content\"><pre>LogisticRegression(multi_class=&#x27;multinomial&#x27;)</pre></div></div></div></div></div>"
      ],
      "text/plain": [
       "LogisticRegression(multi_class='multinomial')"
      ]
     },
     "execution_count": 45,
     "metadata": {},
     "output_type": "execute_result"
    }
   ],
   "source": [
    "logregressor = LogisticRegression(multi_class='multinomial', solver='lbfgs') #creating regressor variable to run the logistic regression function, with multi_class to multinomial and the lbfgs solver which works on multinomial log regression\n",
    "logregressor.fit(X_train, y_train) # using fit to train the data"
   ]
  },
  {
   "cell_type": "code",
   "execution_count": 46,
   "id": "0c2acf25",
   "metadata": {},
   "outputs": [],
   "source": [
    "y_pred = logregressor.predict(X_test) #running the log regression on test matrix to create y_pred variable"
   ]
  },
  {
   "cell_type": "code",
   "execution_count": 50,
   "id": "d1440468",
   "metadata": {},
   "outputs": [],
   "source": [
    "#importing confusion matrix and plotting libraries\n",
    "from sklearn.metrics import confusion_matrix\n",
    "import matplotlib.pyplot as plt\n",
    "import seaborn as sns"
   ]
  },
  {
   "cell_type": "code",
   "execution_count": 64,
   "id": "510b76cd",
   "metadata": {},
   "outputs": [],
   "source": [
    "labels = ['f1', 'f2', 'f3', 'f4'] #creating labels variable to use for labeling the confusion matrix"
   ]
  },
  {
   "cell_type": "code",
   "execution_count": 65,
   "id": "6af21f3a",
   "metadata": {},
   "outputs": [],
   "source": [
    "matrix = confusion_matrix(y_test, y_pred) #creating matrix variable with the confusion_matrix function on the target test data and y_pred data"
   ]
  },
  {
   "cell_type": "code",
   "execution_count": 66,
   "id": "a7710858",
   "metadata": {},
   "outputs": [],
   "source": [
    "#creating dataframe for the confusion matrix with the matrix variable\n",
    "cmdataframe = pd.DataFrame(matrix)"
   ]
  },
  {
   "cell_type": "code",
   "execution_count": 67,
   "id": "dbaaa53c",
   "metadata": {},
   "outputs": [
    {
     "data": {
      "image/png": "[encoded data removed]",
      "text/plain": [
       "<Figure size 640x480 with 2 Axes>"
      ]
     },
     "metadata": {},
     "output_type": "display_data"
    }
   ],
   "source": [
    "#sns.heatmap function to create cm, annot=True for labels, specifying xtick and yticklabels\n",
    "sns.heatmap(cmdataframe, annot=True, xticklabels=labels, yticklabels=labels) \n",
    "plt.title('Confusion Matrix'), plt.tight_layout() #plot title\n",
    "plt.ylabel('True Class'), plt.xlabel('Predicted Class') #x label and y label\n",
    "plt.show() #show the plot"
   ]
  },
  {
   "cell_type": "code",
   "execution_count": 68,
   "id": "8f639a1e",
   "metadata": {},
   "outputs": [],
   "source": [
    "from sklearn.metrics import accuracy_score"
   ]
  },
  {
   "cell_type": "code",
   "execution_count": 69,
   "id": "c54dfe4f",
   "metadata": {},
   "outputs": [
    {
     "data": {
      "text/plain": [
       "0.75"
      ]
     },
     "execution_count": 69,
     "metadata": {},
     "output_type": "execute_result"
    }
   ],
   "source": [
    "accuracy_score(y_test, y_pred)"
   ]
  },
  {
   "cell_type": "markdown",
   "id": "0b14a687",
   "metadata": {},
   "source": [
    "I was hoping for a higher accuracy score closer to 1.0. And the confusion matrix is showing some moderate results in the middle ranges of the values, but it is not working well in the high and low end.  I will try some feature selection to attempt to find the best features to build the model with. "
   ]
  },
  {
   "cell_type": "markdown",
   "id": "f5bebf65",
   "metadata": {},
   "source": [
    "#### Feature selection"
   ]
  },
  {
   "cell_type": "code",
   "execution_count": 71,
   "id": "b8124047",
   "metadata": {},
   "outputs": [],
   "source": [
    "#importing chi squared and kbest libraries\n",
    "from sklearn.feature_selection import SelectKBest\n",
    "from sklearn.feature_selection import chi2, f_classif"
   ]
  },
  {
   "cell_type": "code",
   "execution_count": 76,
   "id": "7c2a6190",
   "metadata": {},
   "outputs": [],
   "source": [
    "chi2_selector = SelectKBest(chi2, k=5) #creating chi2_selector variable which runs the SelectKBest chi2 function with k=5 features"
   ]
  },
  {
   "cell_type": "code",
   "execution_count": 77,
   "id": "abb49433",
   "metadata": {},
   "outputs": [],
   "source": [
    "features_kbest = chi2_selector.fit_transform(X, y) #creating features_kbest variable which fits and transforms the feature and target data with the chi2 selector"
   ]
  },
  {
   "cell_type": "code",
   "execution_count": 78,
   "id": "9e07cba8",
   "metadata": {},
   "outputs": [],
   "source": [
    "#creating cols_idxs variable which calls get_support function on the chi2_selector variable\n",
    "cols_idxs = chi2_selector.get_support(indices=False)\n",
    "fivefeaturesdf = X.iloc[:, cols_idxs] #creating new dataframe with the 5 selected features, X2 features and iloc to locate them"
   ]
  },
  {
   "cell_type": "code",
   "execution_count": 79,
   "id": "60fc1797",
   "metadata": {},
   "outputs": [
    {
     "data": {
      "text/html": [
       "<div>\n",
       "<style scoped>\n",
       "    .dataframe tbody tr th:only-of-type {\n",
       "        vertical-align: middle;\n",
       "    }\n",
       "\n",
       "    .dataframe tbody tr th {\n",
       "        vertical-align: top;\n",
       "    }\n",
       "\n",
       "    .dataframe thead th {\n",
       "        text-align: right;\n",
       "    }\n",
       "</style>\n",
       "<table border=\"1\" class=\"dataframe\">\n",
       "  <thead>\n",
       "    <tr style=\"text-align: right;\">\n",
       "      <th></th>\n",
       "      <th>moisture_binned_m1</th>\n",
       "      <th>moisture_binned_m2</th>\n",
       "      <th>moisture_binned_m3</th>\n",
       "      <th>protein_binned_p1</th>\n",
       "      <th>protein_binned_p2</th>\n",
       "    </tr>\n",
       "  </thead>\n",
       "  <tbody>\n",
       "    <tr>\n",
       "      <th>0</th>\n",
       "      <td>0</td>\n",
       "      <td>0</td>\n",
       "      <td>1</td>\n",
       "      <td>1</td>\n",
       "      <td>0</td>\n",
       "    </tr>\n",
       "    <tr>\n",
       "      <th>1</th>\n",
       "      <td>0</td>\n",
       "      <td>1</td>\n",
       "      <td>0</td>\n",
       "      <td>1</td>\n",
       "      <td>0</td>\n",
       "    </tr>\n",
       "    <tr>\n",
       "      <th>2</th>\n",
       "      <td>0</td>\n",
       "      <td>1</td>\n",
       "      <td>0</td>\n",
       "      <td>1</td>\n",
       "      <td>0</td>\n",
       "    </tr>\n",
       "    <tr>\n",
       "      <th>3</th>\n",
       "      <td>0</td>\n",
       "      <td>0</td>\n",
       "      <td>1</td>\n",
       "      <td>0</td>\n",
       "      <td>1</td>\n",
       "    </tr>\n",
       "    <tr>\n",
       "      <th>4</th>\n",
       "      <td>0</td>\n",
       "      <td>0</td>\n",
       "      <td>1</td>\n",
       "      <td>1</td>\n",
       "      <td>0</td>\n",
       "    </tr>\n",
       "    <tr>\n",
       "      <th>...</th>\n",
       "      <td>...</td>\n",
       "      <td>...</td>\n",
       "      <td>...</td>\n",
       "      <td>...</td>\n",
       "      <td>...</td>\n",
       "    </tr>\n",
       "    <tr>\n",
       "      <th>532</th>\n",
       "      <td>0</td>\n",
       "      <td>0</td>\n",
       "      <td>1</td>\n",
       "      <td>1</td>\n",
       "      <td>0</td>\n",
       "    </tr>\n",
       "    <tr>\n",
       "      <th>533</th>\n",
       "      <td>0</td>\n",
       "      <td>0</td>\n",
       "      <td>1</td>\n",
       "      <td>1</td>\n",
       "      <td>0</td>\n",
       "    </tr>\n",
       "    <tr>\n",
       "      <th>534</th>\n",
       "      <td>0</td>\n",
       "      <td>1</td>\n",
       "      <td>0</td>\n",
       "      <td>1</td>\n",
       "      <td>0</td>\n",
       "    </tr>\n",
       "    <tr>\n",
       "      <th>535</th>\n",
       "      <td>0</td>\n",
       "      <td>0</td>\n",
       "      <td>1</td>\n",
       "      <td>1</td>\n",
       "      <td>0</td>\n",
       "    </tr>\n",
       "    <tr>\n",
       "      <th>536</th>\n",
       "      <td>0</td>\n",
       "      <td>0</td>\n",
       "      <td>1</td>\n",
       "      <td>0</td>\n",
       "      <td>1</td>\n",
       "    </tr>\n",
       "  </tbody>\n",
       "</table>\n",
       "<p>537 rows × 5 columns</p>\n",
       "</div>"
      ],
      "text/plain": [
       "     moisture_binned_m1  moisture_binned_m2  moisture_binned_m3  \\\n",
       "0                     0                   0                   1   \n",
       "1                     0                   1                   0   \n",
       "2                     0                   1                   0   \n",
       "3                     0                   0                   1   \n",
       "4                     0                   0                   1   \n",
       "..                  ...                 ...                 ...   \n",
       "532                   0                   0                   1   \n",
       "533                   0                   0                   1   \n",
       "534                   0                   1                   0   \n",
       "535                   0                   0                   1   \n",
       "536                   0                   0                   1   \n",
       "\n",
       "     protein_binned_p1  protein_binned_p2  \n",
       "0                    1                  0  \n",
       "1                    1                  0  \n",
       "2                    1                  0  \n",
       "3                    0                  1  \n",
       "4                    1                  0  \n",
       "..                 ...                ...  \n",
       "532                  1                  0  \n",
       "533                  1                  0  \n",
       "534                  1                  0  \n",
       "535                  1                  0  \n",
       "536                  0                  1  \n",
       "\n",
       "[537 rows x 5 columns]"
      ]
     },
     "execution_count": 79,
     "metadata": {},
     "output_type": "execute_result"
    }
   ],
   "source": [
    "fivefeaturesdf"
   ]
  },
  {
   "cell_type": "code",
   "execution_count": 80,
   "id": "75ef029d",
   "metadata": {},
   "outputs": [],
   "source": [
    "#re-doing the X and y value selections with just the selected 5 columns\n",
    "X2 = chemdf5[['moisture_binned_m1', 'moisture_binned_m2', 'moisture_binned_m3', 'protein_binned_p1', 'protein_binned_p2']] # selecting X values (comparisons) calling for the 5 previous selected columns\n",
    "y2 = chemdf5['fat_binned'] # selecting the y values (target) calling for fat_binned column"
   ]
  },
  {
   "cell_type": "code",
   "execution_count": 81,
   "id": "cd48a652",
   "metadata": {},
   "outputs": [],
   "source": [
    "# format for creating test and train data from X and y values, using train_test_split function, test_size of 0.2 is 20% test\n",
    "X2_train, X2_test, y2_train, y2_test = train_test_split(X2, y2, test_size = 0.2)"
   ]
  },
  {
   "cell_type": "code",
   "execution_count": 82,
   "id": "ef74d52c",
   "metadata": {},
   "outputs": [
    {
     "data": {
      "text/html": [
       "<style>#sk-container-id-2 {color: black;}#sk-container-id-2 pre{padding: 0;}#sk-container-id-2 div.sk-toggleable {background-color: white;}#sk-container-id-2 label.sk-toggleable__label {cursor: pointer;display: block;width: 100%;margin-bottom: 0;padding: 0.3em;box-sizing: border-box;text-align: center;}#sk-container-id-2 label.sk-toggleable__label-arrow:before {content: \"▸\";float: left;margin-right: 0.25em;color: #696969;}#sk-container-id-2 label.sk-toggleable__label-arrow:hover:before {color: black;}#sk-container-id-2 div.sk-estimator:hover label.sk-toggleable__label-arrow:before {color: black;}#sk-container-id-2 div.sk-toggleable__content {max-height: 0;max-width: 0;overflow: hidden;text-align: left;background-color: #f0f8ff;}#sk-container-id-2 div.sk-toggleable__content pre {margin: 0.2em;color: black;border-radius: 0.25em;background-color: #f0f8ff;}#sk-container-id-2 input.sk-toggleable__control:checked~div.sk-toggleable__content {max-height: 200px;max-width: 100%;overflow: auto;}#sk-container-id-2 input.sk-toggleable__control:checked~label.sk-toggleable__label-arrow:before {content: \"▾\";}#sk-container-id-2 div.sk-estimator input.sk-toggleable__control:checked~label.sk-toggleable__label {background-color: #d4ebff;}#sk-container-id-2 div.sk-label input.sk-toggleable__control:checked~label.sk-toggleable__label {background-color: #d4ebff;}#sk-container-id-2 input.sk-hidden--visually {border: 0;clip: rect(1px 1px 1px 1px);clip: rect(1px, 1px, 1px, 1px);height: 1px;margin: -1px;overflow: hidden;padding: 0;position: absolute;width: 1px;}#sk-container-id-2 div.sk-estimator {font-family: monospace;background-color: #f0f8ff;border: 1px dotted black;border-radius: 0.25em;box-sizing: border-box;margin-bottom: 0.5em;}#sk-container-id-2 div.sk-estimator:hover {background-color: #d4ebff;}#sk-container-id-2 div.sk-parallel-item::after {content: \"\";width: 100%;border-bottom: 1px solid gray;flex-grow: 1;}#sk-container-id-2 div.sk-label:hover label.sk-toggleable__label {background-color: #d4ebff;}#sk-container-id-2 div.sk-serial::before {content: \"\";position: absolute;border-left: 1px solid gray;box-sizing: border-box;top: 0;bottom: 0;left: 50%;z-index: 0;}#sk-container-id-2 div.sk-serial {display: flex;flex-direction: column;align-items: center;background-color: white;padding-right: 0.2em;padding-left: 0.2em;position: relative;}#sk-container-id-2 div.sk-item {position: relative;z-index: 1;}#sk-container-id-2 div.sk-parallel {display: flex;align-items: stretch;justify-content: center;background-color: white;position: relative;}#sk-container-id-2 div.sk-item::before, #sk-container-id-2 div.sk-parallel-item::before {content: \"\";position: absolute;border-left: 1px solid gray;box-sizing: border-box;top: 0;bottom: 0;left: 50%;z-index: -1;}#sk-container-id-2 div.sk-parallel-item {display: flex;flex-direction: column;z-index: 1;position: relative;background-color: white;}#sk-container-id-2 div.sk-parallel-item:first-child::after {align-self: flex-end;width: 50%;}#sk-container-id-2 div.sk-parallel-item:last-child::after {align-self: flex-start;width: 50%;}#sk-container-id-2 div.sk-parallel-item:only-child::after {width: 0;}#sk-container-id-2 div.sk-dashed-wrapped {border: 1px dashed gray;margin: 0 0.4em 0.5em 0.4em;box-sizing: border-box;padding-bottom: 0.4em;background-color: white;}#sk-container-id-2 div.sk-label label {font-family: monospace;font-weight: bold;display: inline-block;line-height: 1.2em;}#sk-container-id-2 div.sk-label-container {text-align: center;}#sk-container-id-2 div.sk-container {/* jupyter's `normalize.less` sets `[hidden] { display: none; }` but bootstrap.min.css set `[hidden] { display: none !important; }` so we also need the `!important` here to be able to override the default hidden behavior on the sphinx rendered scikit-learn.org. See: https://github.com/scikit-learn/scikit-learn/issues/21755 */display: inline-block !important;position: relative;}#sk-container-id-2 div.sk-text-repr-fallback {display: none;}</style><div id=\"sk-container-id-2\" class=\"sk-top-container\"><div class=\"sk-text-repr-fallback\"><pre>LogisticRegression(multi_class=&#x27;multinomial&#x27;)</pre><b>In a Jupyter environment, please rerun this cell to show the HTML representation or trust the notebook. <br />On GitHub, the HTML representation is unable to render, please try loading this page with nbviewer.org.</b></div><div class=\"sk-container\" hidden><div class=\"sk-item\"><div class=\"sk-estimator sk-toggleable\"><input class=\"sk-toggleable__control sk-hidden--visually\" id=\"sk-estimator-id-2\" type=\"checkbox\" checked><label for=\"sk-estimator-id-2\" class=\"sk-toggleable__label sk-toggleable__label-arrow\">LogisticRegression</label><div class=\"sk-toggleable__content\"><pre>LogisticRegression(multi_class=&#x27;multinomial&#x27;)</pre></div></div></div></div></div>"
      ],
      "text/plain": [
       "LogisticRegression(multi_class='multinomial')"
      ]
     },
     "execution_count": 82,
     "metadata": {},
     "output_type": "execute_result"
    }
   ],
   "source": [
    "logregressor2 = LogisticRegression(multi_class='multinomial', solver='lbfgs') #creating regressor variable to run the linear regression function\n",
    "logregressor2.fit(X2_train, y2_train) # using fit to train the data"
   ]
  },
  {
   "cell_type": "code",
   "execution_count": 83,
   "id": "6b348cb6",
   "metadata": {},
   "outputs": [],
   "source": [
    "y_pred2 = logregressor2.predict(X2_test) #running the log regression on test matrix to create y_pred variable"
   ]
  },
  {
   "cell_type": "code",
   "execution_count": 85,
   "id": "12707ec2",
   "metadata": {},
   "outputs": [
    {
     "data": {
      "text/plain": [
       "0.7407407407407407"
      ]
     },
     "execution_count": 85,
     "metadata": {},
     "output_type": "execute_result"
    }
   ],
   "source": [
    "accuracy_score(y2_test, y_pred2)"
   ]
  },
  {
   "cell_type": "markdown",
   "id": "dcc8788d",
   "metadata": {},
   "source": [
    "The accuracy score with the best features does not appear any better than the original. "
   ]
  },
  {
   "cell_type": "markdown",
   "id": "f453efe8",
   "metadata": {},
   "source": [
    "#### Numeric features/binned data"
   ]
  },
  {
   "cell_type": "markdown",
   "id": "6feb2b73",
   "metadata": {},
   "source": [
    "I am going to pivot to using the numeric values for the features and stay with the binned target data. "
   ]
  },
  {
   "cell_type": "code",
   "execution_count": 91,
   "id": "16b46a07",
   "metadata": {},
   "outputs": [],
   "source": [
    "chemdf6 = chemdf2[['Moisture %', 'Protein %', 'Salt %', 'pH', 'fat_binned']].copy()"
   ]
  },
  {
   "cell_type": "code",
   "execution_count": 92,
   "id": "16b89358",
   "metadata": {},
   "outputs": [],
   "source": [
    "chemdf7 = chemdf6.replace({'fat_binned': 'f1'}, 0).replace({'fat_binned': 'f2'}, 1).replace({'fat_binned': 'f3'}, 2).replace({'fat_binned': 'f4'}, 3)"
   ]
  },
  {
   "cell_type": "code",
   "execution_count": 127,
   "id": "c82e6923",
   "metadata": {},
   "outputs": [
    {
     "data": {
      "text/html": [
       "<div>\n",
       "<style scoped>\n",
       "    .dataframe tbody tr th:only-of-type {\n",
       "        vertical-align: middle;\n",
       "    }\n",
       "\n",
       "    .dataframe tbody tr th {\n",
       "        vertical-align: top;\n",
       "    }\n",
       "\n",
       "    .dataframe thead th {\n",
       "        text-align: right;\n",
       "    }\n",
       "</style>\n",
       "<table border=\"1\" class=\"dataframe\">\n",
       "  <thead>\n",
       "    <tr style=\"text-align: right;\">\n",
       "      <th></th>\n",
       "      <th>Moisture %</th>\n",
       "      <th>Protein %</th>\n",
       "      <th>Salt %</th>\n",
       "      <th>pH</th>\n",
       "      <th>fat_binned</th>\n",
       "    </tr>\n",
       "  </thead>\n",
       "  <tbody>\n",
       "    <tr>\n",
       "      <th>0</th>\n",
       "      <td>30.43</td>\n",
       "      <td>18.74</td>\n",
       "      <td>4.67</td>\n",
       "      <td>4.50</td>\n",
       "      <td>2</td>\n",
       "    </tr>\n",
       "    <tr>\n",
       "      <th>1</th>\n",
       "      <td>29.11</td>\n",
       "      <td>18.14</td>\n",
       "      <td>4.10</td>\n",
       "      <td>4.54</td>\n",
       "      <td>2</td>\n",
       "    </tr>\n",
       "    <tr>\n",
       "      <th>2</th>\n",
       "      <td>29.32</td>\n",
       "      <td>18.09</td>\n",
       "      <td>4.58</td>\n",
       "      <td>4.52</td>\n",
       "      <td>2</td>\n",
       "    </tr>\n",
       "  </tbody>\n",
       "</table>\n",
       "</div>"
      ],
      "text/plain": [
       "   Moisture %  Protein %  Salt %    pH fat_binned\n",
       "0       30.43      18.74    4.67  4.50          2\n",
       "1       29.11      18.14    4.10  4.54          2\n",
       "2       29.32      18.09    4.58  4.52          2"
      ]
     },
     "execution_count": 127,
     "metadata": {},
     "output_type": "execute_result"
    }
   ],
   "source": [
    "chemdf7.head(3)"
   ]
  },
  {
   "cell_type": "code",
   "execution_count": 94,
   "id": "8588ecf8",
   "metadata": {},
   "outputs": [],
   "source": [
    "# re-running the original model with the latest dataframe\n",
    "X = chemdf7.drop(['fat_binned'], axis = 1) # selecting X values (comparisons) calling for entire df except dropping (drop) the fat_binned column which is the target\n",
    "y = chemdf7['fat_binned'] # selecting the y values (target) calling for fat_binned column"
   ]
  },
  {
   "cell_type": "code",
   "execution_count": 95,
   "id": "51837ae3",
   "metadata": {},
   "outputs": [],
   "source": [
    "# format for creating test and train data from X and y values, using train_test_split function, test_size of 0.2 is 20% test, random_state to control\n",
    "X_train, X_test, y_train, y_test = train_test_split(X, y, test_size = 0.2, random_state = 0)"
   ]
  },
  {
   "cell_type": "code",
   "execution_count": 100,
   "id": "847c8864",
   "metadata": {},
   "outputs": [],
   "source": [
    "#importing preprocessing library\n",
    "from sklearn import preprocessing"
   ]
  },
  {
   "cell_type": "code",
   "execution_count": 101,
   "id": "461a0a69",
   "metadata": {},
   "outputs": [],
   "source": [
    "#creating minmax_scale variable which applies the preprocessing MinMaxScaler function with a feature_range (lower, higher) of 0-1\n",
    "minmax_scale = preprocessing.MinMaxScaler(feature_range=(0, 1)) "
   ]
  },
  {
   "cell_type": "code",
   "execution_count": 102,
   "id": "7d324b9c",
   "metadata": {},
   "outputs": [],
   "source": [
    "#creating scaled_feature variable which applies the minmax_scale to the train features (x_train)\n",
    "scaled_features = minmax_scale.fit_transform(X_train)"
   ]
  },
  {
   "cell_type": "code",
   "execution_count": 105,
   "id": "3ed4ea0c",
   "metadata": {},
   "outputs": [],
   "source": [
    "#creating scaled_test variable which applies the minmax_scale to the test features (x_test)\n",
    "scaled_test = minmax_scale.transform(X_test)"
   ]
  },
  {
   "cell_type": "code",
   "execution_count": 103,
   "id": "56af3405",
   "metadata": {},
   "outputs": [
    {
     "data": {
      "text/html": [
       "<style>#sk-container-id-6 {color: black;}#sk-container-id-6 pre{padding: 0;}#sk-container-id-6 div.sk-toggleable {background-color: white;}#sk-container-id-6 label.sk-toggleable__label {cursor: pointer;display: block;width: 100%;margin-bottom: 0;padding: 0.3em;box-sizing: border-box;text-align: center;}#sk-container-id-6 label.sk-toggleable__label-arrow:before {content: \"▸\";float: left;margin-right: 0.25em;color: #696969;}#sk-container-id-6 label.sk-toggleable__label-arrow:hover:before {color: black;}#sk-container-id-6 div.sk-estimator:hover label.sk-toggleable__label-arrow:before {color: black;}#sk-container-id-6 div.sk-toggleable__content {max-height: 0;max-width: 0;overflow: hidden;text-align: left;background-color: #f0f8ff;}#sk-container-id-6 div.sk-toggleable__content pre {margin: 0.2em;color: black;border-radius: 0.25em;background-color: #f0f8ff;}#sk-container-id-6 input.sk-toggleable__control:checked~div.sk-toggleable__content {max-height: 200px;max-width: 100%;overflow: auto;}#sk-container-id-6 input.sk-toggleable__control:checked~label.sk-toggleable__label-arrow:before {content: \"▾\";}#sk-container-id-6 div.sk-estimator input.sk-toggleable__control:checked~label.sk-toggleable__label {background-color: #d4ebff;}#sk-container-id-6 div.sk-label input.sk-toggleable__control:checked~label.sk-toggleable__label {background-color: #d4ebff;}#sk-container-id-6 input.sk-hidden--visually {border: 0;clip: rect(1px 1px 1px 1px);clip: rect(1px, 1px, 1px, 1px);height: 1px;margin: -1px;overflow: hidden;padding: 0;position: absolute;width: 1px;}#sk-container-id-6 div.sk-estimator {font-family: monospace;background-color: #f0f8ff;border: 1px dotted black;border-radius: 0.25em;box-sizing: border-box;margin-bottom: 0.5em;}#sk-container-id-6 div.sk-estimator:hover {background-color: #d4ebff;}#sk-container-id-6 div.sk-parallel-item::after {content: \"\";width: 100%;border-bottom: 1px solid gray;flex-grow: 1;}#sk-container-id-6 div.sk-label:hover label.sk-toggleable__label {background-color: #d4ebff;}#sk-container-id-6 div.sk-serial::before {content: \"\";position: absolute;border-left: 1px solid gray;box-sizing: border-box;top: 0;bottom: 0;left: 50%;z-index: 0;}#sk-container-id-6 div.sk-serial {display: flex;flex-direction: column;align-items: center;background-color: white;padding-right: 0.2em;padding-left: 0.2em;position: relative;}#sk-container-id-6 div.sk-item {position: relative;z-index: 1;}#sk-container-id-6 div.sk-parallel {display: flex;align-items: stretch;justify-content: center;background-color: white;position: relative;}#sk-container-id-6 div.sk-item::before, #sk-container-id-6 div.sk-parallel-item::before {content: \"\";position: absolute;border-left: 1px solid gray;box-sizing: border-box;top: 0;bottom: 0;left: 50%;z-index: -1;}#sk-container-id-6 div.sk-parallel-item {display: flex;flex-direction: column;z-index: 1;position: relative;background-color: white;}#sk-container-id-6 div.sk-parallel-item:first-child::after {align-self: flex-end;width: 50%;}#sk-container-id-6 div.sk-parallel-item:last-child::after {align-self: flex-start;width: 50%;}#sk-container-id-6 div.sk-parallel-item:only-child::after {width: 0;}#sk-container-id-6 div.sk-dashed-wrapped {border: 1px dashed gray;margin: 0 0.4em 0.5em 0.4em;box-sizing: border-box;padding-bottom: 0.4em;background-color: white;}#sk-container-id-6 div.sk-label label {font-family: monospace;font-weight: bold;display: inline-block;line-height: 1.2em;}#sk-container-id-6 div.sk-label-container {text-align: center;}#sk-container-id-6 div.sk-container {/* jupyter's `normalize.less` sets `[hidden] { display: none; }` but bootstrap.min.css set `[hidden] { display: none !important; }` so we also need the `!important` here to be able to override the default hidden behavior on the sphinx rendered scikit-learn.org. See: https://github.com/scikit-learn/scikit-learn/issues/21755 */display: inline-block !important;position: relative;}#sk-container-id-6 div.sk-text-repr-fallback {display: none;}</style><div id=\"sk-container-id-6\" class=\"sk-top-container\"><div class=\"sk-text-repr-fallback\"><pre>LogisticRegression(max_iter=500, multi_class=&#x27;multinomial&#x27;)</pre><b>In a Jupyter environment, please rerun this cell to show the HTML representation or trust the notebook. <br />On GitHub, the HTML representation is unable to render, please try loading this page with nbviewer.org.</b></div><div class=\"sk-container\" hidden><div class=\"sk-item\"><div class=\"sk-estimator sk-toggleable\"><input class=\"sk-toggleable__control sk-hidden--visually\" id=\"sk-estimator-id-6\" type=\"checkbox\" checked><label for=\"sk-estimator-id-6\" class=\"sk-toggleable__label sk-toggleable__label-arrow\">LogisticRegression</label><div class=\"sk-toggleable__content\"><pre>LogisticRegression(max_iter=500, multi_class=&#x27;multinomial&#x27;)</pre></div></div></div></div></div>"
      ],
      "text/plain": [
       "LogisticRegression(max_iter=500, multi_class='multinomial')"
      ]
     },
     "execution_count": 103,
     "metadata": {},
     "output_type": "execute_result"
    }
   ],
   "source": [
    "logregressor = LogisticRegression(multi_class='multinomial', solver='lbfgs', max_iter=500) #creating regressor variable to run the logisitc regression function\n",
    "logregressor.fit(scaled_features, y_train) # using fit to train the data"
   ]
  },
  {
   "cell_type": "code",
   "execution_count": 106,
   "id": "23dbc955",
   "metadata": {},
   "outputs": [],
   "source": [
    "y_pred = logregressor.predict(scaled_test) #running the log regression on scaled test matrix to create y_pred variable"
   ]
  },
  {
   "cell_type": "code",
   "execution_count": 108,
   "id": "3c9d7362",
   "metadata": {},
   "outputs": [],
   "source": [
    "from sklearn.model_selection import cross_val_score #importing cross_val_score library"
   ]
  },
  {
   "cell_type": "code",
   "execution_count": 118,
   "id": "c4ad2351",
   "metadata": {
    "scrolled": true
   },
   "outputs": [
    {
     "name": "stderr",
     "output_type": "stream",
     "text": [
      "C:\\Users\\ryanr\\anaconda3\\Lib\\site-packages\\sklearn\\model_selection\\_split.py:725: UserWarning: The least populated class in y has only 1 members, which is less than n_splits=5.\n",
      "  warnings.warn(\n"
     ]
    },
    {
     "data": {
      "text/plain": [
       "array([0.77906977, 0.81395349, 0.75581395, 0.76744186, 0.81176471])"
      ]
     },
     "execution_count": 118,
     "metadata": {},
     "output_type": "execute_result"
    }
   ],
   "source": [
    "#running cross_val_score on logregressor model, test_feature_matrix test data, target test data, calling for precision\n",
    "cross_val_score(logregressor, scaled_features, y_train, scoring='accuracy')"
   ]
  },
  {
   "cell_type": "code",
   "execution_count": 119,
   "id": "7d7961e0",
   "metadata": {},
   "outputs": [],
   "source": [
    "matrix2 = confusion_matrix(y_test, y_pred) #creating matrix variable with the confusion_matrix function on the target test data and y_pred data"
   ]
  },
  {
   "cell_type": "code",
   "execution_count": 120,
   "id": "3773cc9f",
   "metadata": {},
   "outputs": [],
   "source": [
    "#creating dataframe for the confusion matrix with the matrix variable\n",
    "cmdataframe2 = pd.DataFrame(matrix2)"
   ]
  },
  {
   "cell_type": "code",
   "execution_count": 121,
   "id": "729dc4cf",
   "metadata": {},
   "outputs": [
    {
     "data": {
      "image/png": "[encoded data removed]",
      "text/plain": [
       "<Figure size 640x480 with 2 Axes>"
      ]
     },
     "metadata": {},
     "output_type": "display_data"
    }
   ],
   "source": [
    "#sns.heatmap function to create cm, annot=True for labels, specifying xtick and yticklabels\n",
    "sns.heatmap(cmdataframe2, annot=True, xticklabels=labels, yticklabels=labels) \n",
    "plt.title('Confusion Matrix'), plt.tight_layout() #plot title\n",
    "plt.ylabel('True Class'), plt.xlabel('Predicted Class') #x label and y label\n",
    "plt.show() #show the plot"
   ]
  },
  {
   "cell_type": "code",
   "execution_count": 126,
   "id": "a89baf4f",
   "metadata": {},
   "outputs": [
    {
     "name": "stderr",
     "output_type": "stream",
     "text": [
      "C:\\Users\\ryanr\\anaconda3\\Lib\\site-packages\\sklearn\\model_selection\\_split.py:725: UserWarning: The least populated class in y has only 1 members, which is less than n_splits=5.\n",
      "  warnings.warn(\n"
     ]
    },
    {
     "data": {
      "text/plain": [
       "array([-0.22093023, -0.18604651, -0.24418605, -0.23255814, -0.18823529])"
      ]
     },
     "execution_count": 126,
     "metadata": {},
     "output_type": "execute_result"
    }
   ],
   "source": [
    "#running cross_val_score on logregressor model, test_feature_matrix test data, target test data, calling for precision\n",
    "cross_val_score(logregressor, scaled_features, y_train, scoring='neg_mean_squared_error')"
   ]
  },
  {
   "cell_type": "code",
   "execution_count": 123,
   "id": "7381c718",
   "metadata": {},
   "outputs": [
    {
     "name": "stderr",
     "output_type": "stream",
     "text": [
      "C:\\Users\\ryanr\\anaconda3\\Lib\\site-packages\\sklearn\\model_selection\\_split.py:725: UserWarning: The least populated class in y has only 1 members, which is less than n_splits=5.\n",
      "  warnings.warn(\n"
     ]
    },
    {
     "data": {
      "text/plain": [
       "array([0.14539749, 0.28033473, 0.05543933, 0.16220166, 0.25925926])"
      ]
     },
     "execution_count": 123,
     "metadata": {},
     "output_type": "execute_result"
    }
   ],
   "source": [
    "#running cross_val_score on logregressor model, test_feature_matrix test data, target test data, calling for precision\n",
    "cross_val_score(logregressor, scaled_features, y_train, scoring='r2')"
   ]
  },
  {
   "cell_type": "markdown",
   "id": "692675ad",
   "metadata": {},
   "source": [
    "Overall, the accuracy with this model version is slightly better, but overall doesn't seem to predict any better and does not have very high negative MSE or R2 values indicating a good model. \n",
    "\n",
    "The confusion matrix shows that there is not good prediction at the high and low ends and I am assuming this is due to how I binned the data. I think I will pivot again and move away from using binned data. I recognize that there still will be predictive benefits with such a model, even if I can't target a certain range. "
   ]
  },
  {
   "cell_type": "markdown",
   "id": "45138624",
   "metadata": {},
   "source": [
    "#### All numeric data"
   ]
  },
  {
   "cell_type": "code",
   "execution_count": 128,
   "id": "45be6fe5",
   "metadata": {},
   "outputs": [],
   "source": [
    "chemdf8 = chemdf2[['Moisture %', 'Protein %', 'Salt %', 'pH', 'Fat %']].copy()"
   ]
  },
  {
   "cell_type": "code",
   "execution_count": 129,
   "id": "78b58f87",
   "metadata": {},
   "outputs": [
    {
     "data": {
      "text/html": [
       "<div>\n",
       "<style scoped>\n",
       "    .dataframe tbody tr th:only-of-type {\n",
       "        vertical-align: middle;\n",
       "    }\n",
       "\n",
       "    .dataframe tbody tr th {\n",
       "        vertical-align: top;\n",
       "    }\n",
       "\n",
       "    .dataframe thead th {\n",
       "        text-align: right;\n",
       "    }\n",
       "</style>\n",
       "<table border=\"1\" class=\"dataframe\">\n",
       "  <thead>\n",
       "    <tr style=\"text-align: right;\">\n",
       "      <th></th>\n",
       "      <th>Moisture %</th>\n",
       "      <th>Protein %</th>\n",
       "      <th>Salt %</th>\n",
       "      <th>pH</th>\n",
       "      <th>Fat %</th>\n",
       "    </tr>\n",
       "  </thead>\n",
       "  <tbody>\n",
       "    <tr>\n",
       "      <th>0</th>\n",
       "      <td>30.43</td>\n",
       "      <td>18.74</td>\n",
       "      <td>4.67</td>\n",
       "      <td>4.50</td>\n",
       "      <td>44.23</td>\n",
       "    </tr>\n",
       "    <tr>\n",
       "      <th>1</th>\n",
       "      <td>29.11</td>\n",
       "      <td>18.14</td>\n",
       "      <td>4.10</td>\n",
       "      <td>4.54</td>\n",
       "      <td>45.15</td>\n",
       "    </tr>\n",
       "    <tr>\n",
       "      <th>2</th>\n",
       "      <td>29.32</td>\n",
       "      <td>18.09</td>\n",
       "      <td>4.58</td>\n",
       "      <td>4.52</td>\n",
       "      <td>44.81</td>\n",
       "    </tr>\n",
       "  </tbody>\n",
       "</table>\n",
       "</div>"
      ],
      "text/plain": [
       "   Moisture %  Protein %  Salt %    pH  Fat %\n",
       "0       30.43      18.74    4.67  4.50  44.23\n",
       "1       29.11      18.14    4.10  4.54  45.15\n",
       "2       29.32      18.09    4.58  4.52  44.81"
      ]
     },
     "execution_count": 129,
     "metadata": {},
     "output_type": "execute_result"
    }
   ],
   "source": [
    "chemdf8.head(3)"
   ]
  },
  {
   "cell_type": "code",
   "execution_count": 130,
   "id": "129d878d",
   "metadata": {},
   "outputs": [],
   "source": [
    "from sklearn.linear_model import LinearRegression #importing linear regression model library"
   ]
  },
  {
   "cell_type": "code",
   "execution_count": 131,
   "id": "93649059",
   "metadata": {},
   "outputs": [],
   "source": [
    "X3 = chemdf8.drop(['Fat %'], axis = 1) # selecting X values (comparisons) calling for entire df except dropping (drop) the fat column which is the target\n",
    "y3 = chemdf8['Fat %'] # selecting the y values (target) calling for fat column"
   ]
  },
  {
   "cell_type": "code",
   "execution_count": 142,
   "id": "fa739b8b",
   "metadata": {},
   "outputs": [],
   "source": [
    "# format for creating test and train data from X and y values, using train_test_split function, test_size of 0.2 is 20% test, random_state to control\n",
    "X3_train, X3_test, y3_train, y3_test = train_test_split(X3, y3, test_size = 0.2, random_state = 0)"
   ]
  },
  {
   "cell_type": "code",
   "execution_count": 143,
   "id": "9bc23a91",
   "metadata": {},
   "outputs": [
    {
     "data": {
      "text/html": [
       "<style>#sk-container-id-8 {color: black;}#sk-container-id-8 pre{padding: 0;}#sk-container-id-8 div.sk-toggleable {background-color: white;}#sk-container-id-8 label.sk-toggleable__label {cursor: pointer;display: block;width: 100%;margin-bottom: 0;padding: 0.3em;box-sizing: border-box;text-align: center;}#sk-container-id-8 label.sk-toggleable__label-arrow:before {content: \"▸\";float: left;margin-right: 0.25em;color: #696969;}#sk-container-id-8 label.sk-toggleable__label-arrow:hover:before {color: black;}#sk-container-id-8 div.sk-estimator:hover label.sk-toggleable__label-arrow:before {color: black;}#sk-container-id-8 div.sk-toggleable__content {max-height: 0;max-width: 0;overflow: hidden;text-align: left;background-color: #f0f8ff;}#sk-container-id-8 div.sk-toggleable__content pre {margin: 0.2em;color: black;border-radius: 0.25em;background-color: #f0f8ff;}#sk-container-id-8 input.sk-toggleable__control:checked~div.sk-toggleable__content {max-height: 200px;max-width: 100%;overflow: auto;}#sk-container-id-8 input.sk-toggleable__control:checked~label.sk-toggleable__label-arrow:before {content: \"▾\";}#sk-container-id-8 div.sk-estimator input.sk-toggleable__control:checked~label.sk-toggleable__label {background-color: #d4ebff;}#sk-container-id-8 div.sk-label input.sk-toggleable__control:checked~label.sk-toggleable__label {background-color: #d4ebff;}#sk-container-id-8 input.sk-hidden--visually {border: 0;clip: rect(1px 1px 1px 1px);clip: rect(1px, 1px, 1px, 1px);height: 1px;margin: -1px;overflow: hidden;padding: 0;position: absolute;width: 1px;}#sk-container-id-8 div.sk-estimator {font-family: monospace;background-color: #f0f8ff;border: 1px dotted black;border-radius: 0.25em;box-sizing: border-box;margin-bottom: 0.5em;}#sk-container-id-8 div.sk-estimator:hover {background-color: #d4ebff;}#sk-container-id-8 div.sk-parallel-item::after {content: \"\";width: 100%;border-bottom: 1px solid gray;flex-grow: 1;}#sk-container-id-8 div.sk-label:hover label.sk-toggleable__label {background-color: #d4ebff;}#sk-container-id-8 div.sk-serial::before {content: \"\";position: absolute;border-left: 1px solid gray;box-sizing: border-box;top: 0;bottom: 0;left: 50%;z-index: 0;}#sk-container-id-8 div.sk-serial {display: flex;flex-direction: column;align-items: center;background-color: white;padding-right: 0.2em;padding-left: 0.2em;position: relative;}#sk-container-id-8 div.sk-item {position: relative;z-index: 1;}#sk-container-id-8 div.sk-parallel {display: flex;align-items: stretch;justify-content: center;background-color: white;position: relative;}#sk-container-id-8 div.sk-item::before, #sk-container-id-8 div.sk-parallel-item::before {content: \"\";position: absolute;border-left: 1px solid gray;box-sizing: border-box;top: 0;bottom: 0;left: 50%;z-index: -1;}#sk-container-id-8 div.sk-parallel-item {display: flex;flex-direction: column;z-index: 1;position: relative;background-color: white;}#sk-container-id-8 div.sk-parallel-item:first-child::after {align-self: flex-end;width: 50%;}#sk-container-id-8 div.sk-parallel-item:last-child::after {align-self: flex-start;width: 50%;}#sk-container-id-8 div.sk-parallel-item:only-child::after {width: 0;}#sk-container-id-8 div.sk-dashed-wrapped {border: 1px dashed gray;margin: 0 0.4em 0.5em 0.4em;box-sizing: border-box;padding-bottom: 0.4em;background-color: white;}#sk-container-id-8 div.sk-label label {font-family: monospace;font-weight: bold;display: inline-block;line-height: 1.2em;}#sk-container-id-8 div.sk-label-container {text-align: center;}#sk-container-id-8 div.sk-container {/* jupyter's `normalize.less` sets `[hidden] { display: none; }` but bootstrap.min.css set `[hidden] { display: none !important; }` so we also need the `!important` here to be able to override the default hidden behavior on the sphinx rendered scikit-learn.org. See: https://github.com/scikit-learn/scikit-learn/issues/21755 */display: inline-block !important;position: relative;}#sk-container-id-8 div.sk-text-repr-fallback {display: none;}</style><div id=\"sk-container-id-8\" class=\"sk-top-container\"><div class=\"sk-text-repr-fallback\"><pre>LinearRegression()</pre><b>In a Jupyter environment, please rerun this cell to show the HTML representation or trust the notebook. <br />On GitHub, the HTML representation is unable to render, please try loading this page with nbviewer.org.</b></div><div class=\"sk-container\" hidden><div class=\"sk-item\"><div class=\"sk-estimator sk-toggleable\"><input class=\"sk-toggleable__control sk-hidden--visually\" id=\"sk-estimator-id-8\" type=\"checkbox\" checked><label for=\"sk-estimator-id-8\" class=\"sk-toggleable__label sk-toggleable__label-arrow\">LinearRegression</label><div class=\"sk-toggleable__content\"><pre>LinearRegression()</pre></div></div></div></div></div>"
      ],
      "text/plain": [
       "LinearRegression()"
      ]
     },
     "execution_count": 143,
     "metadata": {},
     "output_type": "execute_result"
    }
   ],
   "source": [
    "regressor = LinearRegression() #creating regressor variable to run the linear regression function\n",
    "regressor.fit(X3_train, y3_train) # using fit to train the data"
   ]
  },
  {
   "cell_type": "code",
   "execution_count": 144,
   "id": "96d09fe6",
   "metadata": {},
   "outputs": [],
   "source": [
    "y_pred3 = regressor.predict(X3_test) #creating y_pred3 variable which uses predict to predict the test results based on the model"
   ]
  },
  {
   "cell_type": "code",
   "execution_count": 145,
   "id": "4c574a9d",
   "metadata": {},
   "outputs": [],
   "source": [
    "# importing librarys to calculate model evaluation metrics\n",
    "from sklearn.metrics import r2_score\n",
    "from sklearn.metrics import mean_squared_error\n",
    "from math import sqrt\n",
    "from sklearn.metrics import mean_absolute_error as mae"
   ]
  },
  {
   "cell_type": "code",
   "execution_count": 146,
   "id": "db7d1ce4",
   "metadata": {},
   "outputs": [
    {
     "name": "stdout",
     "output_type": "stream",
     "text": [
      "r2 score: 0.509721690808941\n",
      "RMSE score: 0.6742604768450113\n",
      "MAE score: 0.5061398672020454\n"
     ]
    }
   ],
   "source": [
    "print(\"r2 score:\", r2_score(y3_test, y_pred3)) #using r2_score function on test and predicted values\n",
    "rmselinear = sqrt(mean_squared_error(y_pred3, y3_test)) #calculating sq rt of mse on test and predicted values\n",
    "print(\"RMSE score:\",rmselinear)\n",
    "maelinear = mae(y3_test, y_pred3) #using mae function on test and predicted values\n",
    "print(\"MAE score:\",maelinear)"
   ]
  },
  {
   "cell_type": "markdown",
   "id": "7c0e4701",
   "metadata": {},
   "source": [
    "Overall, these metrics are not showing this to be a great model neither. The r2 value is not very high, so predictions are not going to be very good and the RMSE and MAE scores are fairly high, showing there will be at least moderate errors in the predicted versus actual values. \n",
    "\n",
    "Next, I am going to remove the pH results from my dataset. Based on my knowledge, the pH value is not necessarily determined by the formula of the product like the other features, and these value are logarithmic, so there is a chance that this is negatively affecting my model. The scatterplot I created in Part 1 also showed that there is not much if any correlation between pH and fat. "
   ]
  },
  {
   "cell_type": "markdown",
   "id": "a7f02ce9",
   "metadata": {},
   "source": [
    "#### Removing pH feature"
   ]
  },
  {
   "cell_type": "code",
   "execution_count": 138,
   "id": "2b8bac92",
   "metadata": {},
   "outputs": [],
   "source": [
    "chemdf9 = chemdf8.drop('pH', axis=1)"
   ]
  },
  {
   "cell_type": "code",
   "execution_count": 139,
   "id": "f4de318b",
   "metadata": {},
   "outputs": [
    {
     "data": {
      "text/html": [
       "<div>\n",
       "<style scoped>\n",
       "    .dataframe tbody tr th:only-of-type {\n",
       "        vertical-align: middle;\n",
       "    }\n",
       "\n",
       "    .dataframe tbody tr th {\n",
       "        vertical-align: top;\n",
       "    }\n",
       "\n",
       "    .dataframe thead th {\n",
       "        text-align: right;\n",
       "    }\n",
       "</style>\n",
       "<table border=\"1\" class=\"dataframe\">\n",
       "  <thead>\n",
       "    <tr style=\"text-align: right;\">\n",
       "      <th></th>\n",
       "      <th>Moisture %</th>\n",
       "      <th>Protein %</th>\n",
       "      <th>Salt %</th>\n",
       "      <th>Fat %</th>\n",
       "    </tr>\n",
       "  </thead>\n",
       "  <tbody>\n",
       "    <tr>\n",
       "      <th>0</th>\n",
       "      <td>30.43</td>\n",
       "      <td>18.74</td>\n",
       "      <td>4.67</td>\n",
       "      <td>44.23</td>\n",
       "    </tr>\n",
       "    <tr>\n",
       "      <th>1</th>\n",
       "      <td>29.11</td>\n",
       "      <td>18.14</td>\n",
       "      <td>4.10</td>\n",
       "      <td>45.15</td>\n",
       "    </tr>\n",
       "  </tbody>\n",
       "</table>\n",
       "</div>"
      ],
      "text/plain": [
       "   Moisture %  Protein %  Salt %  Fat %\n",
       "0       30.43      18.74    4.67  44.23\n",
       "1       29.11      18.14    4.10  45.15"
      ]
     },
     "execution_count": 139,
     "metadata": {},
     "output_type": "execute_result"
    }
   ],
   "source": [
    "chemdf9.head(2)"
   ]
  },
  {
   "cell_type": "code",
   "execution_count": 140,
   "id": "34c36a3c",
   "metadata": {},
   "outputs": [],
   "source": [
    "X4 = chemdf9.drop(['Fat %'], axis = 1) # selecting X values (comparisons) calling for entire df except dropping (drop) the fat column which is the target\n",
    "y4 = chemdf9['Fat %'] # selecting the y values (target) calling for fat column"
   ]
  },
  {
   "cell_type": "code",
   "execution_count": 147,
   "id": "51d5b412",
   "metadata": {},
   "outputs": [],
   "source": [
    "# format for creating test and train data from X and y values, using train_test_split function, test_size of 0.2 is 20% test, random_state to control\n",
    "X4_train, X4_test, y4_train, y4_test = train_test_split(X4, y4, test_size = 0.2, random_state = 0)"
   ]
  },
  {
   "cell_type": "code",
   "execution_count": 148,
   "id": "6cff1f36",
   "metadata": {},
   "outputs": [
    {
     "data": {
      "text/html": [
       "<style>#sk-container-id-9 {color: black;}#sk-container-id-9 pre{padding: 0;}#sk-container-id-9 div.sk-toggleable {background-color: white;}#sk-container-id-9 label.sk-toggleable__label {cursor: pointer;display: block;width: 100%;margin-bottom: 0;padding: 0.3em;box-sizing: border-box;text-align: center;}#sk-container-id-9 label.sk-toggleable__label-arrow:before {content: \"▸\";float: left;margin-right: 0.25em;color: #696969;}#sk-container-id-9 label.sk-toggleable__label-arrow:hover:before {color: black;}#sk-container-id-9 div.sk-estimator:hover label.sk-toggleable__label-arrow:before {color: black;}#sk-container-id-9 div.sk-toggleable__content {max-height: 0;max-width: 0;overflow: hidden;text-align: left;background-color: #f0f8ff;}#sk-container-id-9 div.sk-toggleable__content pre {margin: 0.2em;color: black;border-radius: 0.25em;background-color: #f0f8ff;}#sk-container-id-9 input.sk-toggleable__control:checked~div.sk-toggleable__content {max-height: 200px;max-width: 100%;overflow: auto;}#sk-container-id-9 input.sk-toggleable__control:checked~label.sk-toggleable__label-arrow:before {content: \"▾\";}#sk-container-id-9 div.sk-estimator input.sk-toggleable__control:checked~label.sk-toggleable__label {background-color: #d4ebff;}#sk-container-id-9 div.sk-label input.sk-toggleable__control:checked~label.sk-toggleable__label {background-color: #d4ebff;}#sk-container-id-9 input.sk-hidden--visually {border: 0;clip: rect(1px 1px 1px 1px);clip: rect(1px, 1px, 1px, 1px);height: 1px;margin: -1px;overflow: hidden;padding: 0;position: absolute;width: 1px;}#sk-container-id-9 div.sk-estimator {font-family: monospace;background-color: #f0f8ff;border: 1px dotted black;border-radius: 0.25em;box-sizing: border-box;margin-bottom: 0.5em;}#sk-container-id-9 div.sk-estimator:hover {background-color: #d4ebff;}#sk-container-id-9 div.sk-parallel-item::after {content: \"\";width: 100%;border-bottom: 1px solid gray;flex-grow: 1;}#sk-container-id-9 div.sk-label:hover label.sk-toggleable__label {background-color: #d4ebff;}#sk-container-id-9 div.sk-serial::before {content: \"\";position: absolute;border-left: 1px solid gray;box-sizing: border-box;top: 0;bottom: 0;left: 50%;z-index: 0;}#sk-container-id-9 div.sk-serial {display: flex;flex-direction: column;align-items: center;background-color: white;padding-right: 0.2em;padding-left: 0.2em;position: relative;}#sk-container-id-9 div.sk-item {position: relative;z-index: 1;}#sk-container-id-9 div.sk-parallel {display: flex;align-items: stretch;justify-content: center;background-color: white;position: relative;}#sk-container-id-9 div.sk-item::before, #sk-container-id-9 div.sk-parallel-item::before {content: \"\";position: absolute;border-left: 1px solid gray;box-sizing: border-box;top: 0;bottom: 0;left: 50%;z-index: -1;}#sk-container-id-9 div.sk-parallel-item {display: flex;flex-direction: column;z-index: 1;position: relative;background-color: white;}#sk-container-id-9 div.sk-parallel-item:first-child::after {align-self: flex-end;width: 50%;}#sk-container-id-9 div.sk-parallel-item:last-child::after {align-self: flex-start;width: 50%;}#sk-container-id-9 div.sk-parallel-item:only-child::after {width: 0;}#sk-container-id-9 div.sk-dashed-wrapped {border: 1px dashed gray;margin: 0 0.4em 0.5em 0.4em;box-sizing: border-box;padding-bottom: 0.4em;background-color: white;}#sk-container-id-9 div.sk-label label {font-family: monospace;font-weight: bold;display: inline-block;line-height: 1.2em;}#sk-container-id-9 div.sk-label-container {text-align: center;}#sk-container-id-9 div.sk-container {/* jupyter's `normalize.less` sets `[hidden] { display: none; }` but bootstrap.min.css set `[hidden] { display: none !important; }` so we also need the `!important` here to be able to override the default hidden behavior on the sphinx rendered scikit-learn.org. See: https://github.com/scikit-learn/scikit-learn/issues/21755 */display: inline-block !important;position: relative;}#sk-container-id-9 div.sk-text-repr-fallback {display: none;}</style><div id=\"sk-container-id-9\" class=\"sk-top-container\"><div class=\"sk-text-repr-fallback\"><pre>LinearRegression()</pre><b>In a Jupyter environment, please rerun this cell to show the HTML representation or trust the notebook. <br />On GitHub, the HTML representation is unable to render, please try loading this page with nbviewer.org.</b></div><div class=\"sk-container\" hidden><div class=\"sk-item\"><div class=\"sk-estimator sk-toggleable\"><input class=\"sk-toggleable__control sk-hidden--visually\" id=\"sk-estimator-id-9\" type=\"checkbox\" checked><label for=\"sk-estimator-id-9\" class=\"sk-toggleable__label sk-toggleable__label-arrow\">LinearRegression</label><div class=\"sk-toggleable__content\"><pre>LinearRegression()</pre></div></div></div></div></div>"
      ],
      "text/plain": [
       "LinearRegression()"
      ]
     },
     "execution_count": 148,
     "metadata": {},
     "output_type": "execute_result"
    }
   ],
   "source": [
    "regressor = LinearRegression() #creating regressor variable to run the linear regression function\n",
    "regressor.fit(X4_train, y4_train) # using fit to train the data"
   ]
  },
  {
   "cell_type": "code",
   "execution_count": 149,
   "id": "b3acc511",
   "metadata": {},
   "outputs": [],
   "source": [
    "y_pred4 = regressor.predict(X4_test) #creating y_pred3 variable which uses predict to predict the test results based on the model"
   ]
  },
  {
   "cell_type": "code",
   "execution_count": 150,
   "id": "99399b86",
   "metadata": {},
   "outputs": [
    {
     "name": "stdout",
     "output_type": "stream",
     "text": [
      "r2 score: 0.5199245485405328\n",
      "RMSE score: 0.6672077972867357\n",
      "MAE score: 0.506952357561505\n"
     ]
    }
   ],
   "source": [
    "print(\"r2 score:\", r2_score(y4_test, y_pred4)) #using r2_score function on test and predicted values\n",
    "rmselinear = sqrt(mean_squared_error(y_pred4, y4_test)) #calculating sq rt of mse on test and predicted values\n",
    "print(\"RMSE score:\",rmselinear)\n",
    "maelinear = mae(y4_test, y_pred4) #using mae function on test and predicted values\n",
    "print(\"MAE score:\",maelinear)"
   ]
  },
  {
   "cell_type": "markdown",
   "id": "6f8a37ae",
   "metadata": {},
   "source": [
    "This change resulted in a very slight change for the better in the model prediction metrics, but overall not significantly. "
   ]
  },
  {
   "cell_type": "markdown",
   "id": "b5e704fe",
   "metadata": {},
   "source": [
    "At this time, I feel like I have exhausted the different options for creating a useful model for this dataset. I attempted to use logistic regression on dummy variables of my binned data, used feature selection to choose the best feature options, readjusting my dataset to both a combination of binned and non-binned data and then used linear regression on two versions of all numeric datasets. In the end, I believe that all the models I created will only be moderately good at prediction. \n",
    "\n",
    "I believe the main reason for my unsuccessfulness is my data itself. I might have chosen a dataset that is too small or maybe has too much human error that is not obviously noticeable. "
   ]
  },
  {
   "cell_type": "code",
   "execution_count": null,
   "id": "ff735c73",
   "metadata": {},
   "outputs": [],
   "source": []
  }
 ],
 "metadata": {
  "kernelspec": {
   "display_name": "Python 3 (ipykernel)",
   "language": "python",
   "name": "python3"
  },
  "language_info": {
   "codemirror_mode": {
    "name": "ipython",
    "version": 3
   },
   "file_extension": ".py",
   "mimetype": "text/x-python",
   "name": "python",
   "nbconvert_exporter": "python",
   "pygments_lexer": "ipython3",
   "version": "3.11.4"
  }
 },
 "nbformat": 4,
 "nbformat_minor": 5
}
